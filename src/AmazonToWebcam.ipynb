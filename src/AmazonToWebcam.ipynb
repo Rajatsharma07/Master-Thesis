{
  "nbformat": 4,
  "nbformat_minor": 0,
  "metadata": {
    "accelerator": "GPU",
    "colab": {
      "name": "AmazonToWebcam.ipynb",
      "provenance": [],
      "collapsed_sections": [
        "9Ce77R8CZfNF",
        "kbYF-215M8lf",
        "WwIfvkiZRXxJ"
      ],
      "toc_visible": true,
      "machine_shape": "hm"
    },
    "kernelspec": {
      "display_name": "Python 3",
      "language": "python",
      "name": "python3"
    },
    "language_info": {
      "codemirror_mode": {
        "name": "ipython",
        "version": 3
      },
      "file_extension": ".py",
      "mimetype": "text/x-python",
      "name": "python",
      "nbconvert_exporter": "python",
      "pygments_lexer": "ipython3",
      "version": "3.8.5-final"
    }
  },
  "cells": [
    {
      "cell_type": "code",
      "metadata": {
        "colab": {
          "base_uri": "https://localhost:8080/"
        },
        "id": "wdjeTu_gnI1h",
        "outputId": "c0cd92d3-41c4-4105-cc9f-fdc631e408c4"
      },
      "source": [
        "!nvidia-smi"
      ],
      "execution_count": 1,
      "outputs": [
        {
          "output_type": "stream",
          "name": "stdout",
          "text": [
            "Mon Feb  1 11:22:46 2021       \n",
            "+-----------------------------------------------------------------------------+\n",
            "| NVIDIA-SMI 418.67       Driver Version: 418.67       CUDA Version: 10.1     |\n",
            "|-------------------------------+----------------------+----------------------+\n",
            "| GPU  Name        Persistence-M| Bus-Id        Disp.A | Volatile Uncorr. ECC |\n",
            "| Fan  Temp  Perf  Pwr:Usage/Cap|         Memory-Usage | GPU-Util  Compute M. |\n",
            "|===============================+======================+======================|\n",
            "|   0  GeForce RTX 208...  Off  | 00000000:1A:00.0 Off |                  N/A |\n",
            "| 27%   36C    P8    21W / 250W |  10490MiB / 10989MiB |      0%      Default |\n",
            "+-------------------------------+----------------------+----------------------+\n",
            "|   1  GeForce RTX 208...  Off  | 00000000:1B:00.0 Off |                  N/A |\n",
            "| 27%   33C    P8     9W / 250W |   1639MiB / 10989MiB |      0%      Default |\n",
            "+-------------------------------+----------------------+----------------------+\n",
            "|   2  GeForce RTX 208...  Off  | 00000000:3D:00.0 Off |                  N/A |\n",
            "| 27%   31C    P8     4W / 250W |   1639MiB / 10989MiB |      0%      Default |\n",
            "+-------------------------------+----------------------+----------------------+\n",
            "|   3  GeForce RTX 208...  Off  | 00000000:3E:00.0 Off |                  N/A |\n",
            "| 27%   33C    P8    14W / 250W |   1639MiB / 10989MiB |      0%      Default |\n",
            "+-------------------------------+----------------------+----------------------+\n",
            "|   4  GeForce RTX 208...  Off  | 00000000:88:00.0 Off |                  N/A |\n",
            "| 27%   30C    P8     3W / 250W |   1639MiB / 10989MiB |      0%      Default |\n",
            "+-------------------------------+----------------------+----------------------+\n",
            "|   5  GeForce RTX 208...  Off  | 00000000:89:00.0 Off |                  N/A |\n",
            "| 27%   34C    P8    22W / 250W |   1639MiB / 10989MiB |      0%      Default |\n",
            "+-------------------------------+----------------------+----------------------+\n",
            "|   6  GeForce RTX 208...  Off  | 00000000:B1:00.0 Off |                  N/A |\n",
            "| 27%   34C    P8    22W / 250W |   1639MiB / 10989MiB |      0%      Default |\n",
            "+-------------------------------+----------------------+----------------------+\n",
            "|   7  GeForce RTX 208...  Off  | 00000000:B2:00.0 Off |                  N/A |\n",
            "| 27%   31C    P8    14W / 250W |   1639MiB / 10989MiB |      0%      Default |\n",
            "+-------------------------------+----------------------+----------------------+\n",
            "                                                                               \n",
            "+-----------------------------------------------------------------------------+\n",
            "| Processes:                                                       GPU Memory |\n",
            "|  GPU       PID   Type   Process name                             Usage      |\n",
            "|=============================================================================|\n",
            "+-----------------------------------------------------------------------------+\n"
          ]
        }
      ]
    },
    {
      "cell_type": "code",
      "metadata": {
        "id": "Nf4A3J8ZBezF"
      },
      "source": [
        "# !tar -xf \"/content/drive/MyDrive/gitLab/datasets/domain_adaptation_images.tar.gz\" -C \"/content/drive/MyDrive/gitLab/datasets/office\""
      ],
      "execution_count": 3,
      "outputs": []
    },
    {
      "cell_type": "code",
      "metadata": {
        "colab": {
          "base_uri": "https://localhost:8080/"
        },
        "id": "rrQW0vGM5dJv",
        "outputId": "9b1941bf-b8b4-4253-caa8-2ccce9393c65"
      },
      "source": [
        "import os\n",
        "os.getcwd()\n",
        "# base_dir = '/root/Master-Thesis'\n",
        "# os.chdir(base_dir)"
      ],
      "execution_count": 1,
      "outputs": [
        {
          "output_type": "execute_result",
          "data": {
            "text/plain": [
              "'/root/Master-Thesis/src'"
            ]
          },
          "metadata": {},
          "execution_count": 1
        }
      ]
    },
    {
      "cell_type": "code",
      "metadata": {
        "id": "eRszWV2H5dJx"
      },
      "source": [
        "import tensorflow as tf\n",
        "from pathlib import Path\n",
        "# import tensorflow_model_optimization as tfmot\n",
        "# import tensorflow_probability as tfp\n",
        "import zipfile\n",
        "import pickle\n",
        "import datetime\n",
        "import os\n",
        "from tensorflow.keras import backend as K\n",
        "from tensorflow.keras.models import Model, Sequential\n",
        "import tensorflow as tf\n",
        "from tensorflow.keras.applications.vgg16 import VGG16\n",
        "from tensorflow import keras\n",
        "from tensorflow.keras import models\n",
        "import matplotlib.pyplot as plt\n",
        "import numpy as np\n",
        "import matplotlib.pyplot as plt\n",
        "from tensorflow.keras.utils import to_categorical, plot_model\n",
        "# tf.random.set_seed(100)\n",
        "tf.keras.backend.clear_session()  # For easy reset of notebook state.\n",
        "initializer = tf.keras.initializers.he_normal()\n",
        "from tensorflow.keras.applications.vgg16 import VGG16\n",
        "from tensorflow.keras.preprocessing.image import ImageDataGenerator\n",
        "from tensorflow.keras.regularizers import l2, l1, l1_l2\n",
        "from tensorflow.keras.callbacks import CSVLogger\n",
        "from tensorflow.keras import layers\n",
        "import seaborn as sns\n",
        "import bokeh"
      ],
      "execution_count": 2,
      "outputs": []
    },
    {
      "cell_type": "code",
      "metadata": {
        "colab": {
          "base_uri": "https://localhost:8080/"
        },
        "id": "kenFF2N75dJy",
        "outputId": "949b463f-ad04-4fbd-8c2a-6fad3b56780e"
      },
      "source": [
        "physical_devices = tf.config.list_physical_devices(\"GPU\")\n",
        "import pandas as pd\n",
        "physical_devices"
      ],
      "execution_count": 3,
      "outputs": [
        {
          "output_type": "execute_result",
          "data": {
            "text/plain": [
              "[PhysicalDevice(name='/physical_device:GPU:0', device_type='GPU'),\n",
              " PhysicalDevice(name='/physical_device:GPU:1', device_type='GPU'),\n",
              " PhysicalDevice(name='/physical_device:GPU:2', device_type='GPU'),\n",
              " PhysicalDevice(name='/physical_device:GPU:3', device_type='GPU'),\n",
              " PhysicalDevice(name='/physical_device:GPU:4', device_type='GPU'),\n",
              " PhysicalDevice(name='/physical_device:GPU:5', device_type='GPU'),\n",
              " PhysicalDevice(name='/physical_device:GPU:6', device_type='GPU'),\n",
              " PhysicalDevice(name='/physical_device:GPU:7', device_type='GPU')]"
            ]
          },
          "metadata": {},
          "execution_count": 3
        }
      ]
    },
    {
      "cell_type": "code",
      "metadata": {
        "id": "NXK4O9Hw5dJ1"
      },
      "source": [
        "os.environ[\"TF_CPP_MIN_LOG_LEVEL\"] = \"2\""
      ],
      "execution_count": 4,
      "outputs": []
    },
    {
      "cell_type": "code",
      "execution_count": 5,
      "metadata": {},
      "outputs": [],
      "source": [
        "log_path = r\"/root/Master-Thesis2/code/logs/5_Xception_SourceOnly/20210301-074025/training_logs.csv\""
      ]
    },
    {
      "cell_type": "code",
      "execution_count": 6,
      "metadata": {},
      "outputs": [],
      "source": [
        "logdd = pd.read_csv(log_path,sep=\";\")"
      ]
    },
    {
      "cell_type": "code",
      "execution_count": 7,
      "metadata": {},
      "outputs": [
        {
          "output_type": "execute_result",
          "data": {
            "text/plain": [
              "    epoch  accuracy      loss  val_accuracy  val_loss\n",
              "0       0   0.79990  0.692879      0.649927  1.561941\n",
              "1       1   0.90773  0.303110      0.680711  1.504924\n",
              "2       2   0.92021  0.261052      0.630493  1.848594\n",
              "3       3   0.92686  0.238628      0.625112  2.057047\n",
              "4       4   0.93665  0.202673      0.657222  1.882489\n",
              "5       5   0.93965  0.193529      0.692520  1.698546\n",
              "6       6   0.94184  0.184053      0.669464  2.073504\n",
              "7       7   0.94339  0.181208      0.688974  2.026242\n",
              "8       8   0.94562  0.169851      0.688184  2.005179\n",
              "9       9   0.94622  0.168823      0.670407  2.232765\n",
              "10     10   0.94871  0.159203      0.698692  1.991409\n",
              "11     11   0.94908  0.160125      0.631309  2.623911\n",
              "12     12   0.94953  0.156536      0.679691  2.257696\n",
              "13     13   0.95040  0.155372      0.648525  2.565523\n",
              "14     14   0.95034  0.155963      0.666250  2.366760\n",
              "15     15   0.95070  0.154405      0.677345  2.304312\n",
              "16     16   0.94971  0.155528      0.688770  2.198900\n",
              "17     17   0.95063  0.154536      0.664669  2.429764"
            ],
            "text/html": "<div>\n<style scoped>\n    .dataframe tbody tr th:only-of-type {\n        vertical-align: middle;\n    }\n\n    .dataframe tbody tr th {\n        vertical-align: top;\n    }\n\n    .dataframe thead th {\n        text-align: right;\n    }\n</style>\n<table border=\"1\" class=\"dataframe\">\n  <thead>\n    <tr style=\"text-align: right;\">\n      <th></th>\n      <th>epoch</th>\n      <th>accuracy</th>\n      <th>loss</th>\n      <th>val_accuracy</th>\n      <th>val_loss</th>\n    </tr>\n  </thead>\n  <tbody>\n    <tr>\n      <th>0</th>\n      <td>0</td>\n      <td>0.79990</td>\n      <td>0.692879</td>\n      <td>0.649927</td>\n      <td>1.561941</td>\n    </tr>\n    <tr>\n      <th>1</th>\n      <td>1</td>\n      <td>0.90773</td>\n      <td>0.303110</td>\n      <td>0.680711</td>\n      <td>1.504924</td>\n    </tr>\n    <tr>\n      <th>2</th>\n      <td>2</td>\n      <td>0.92021</td>\n      <td>0.261052</td>\n      <td>0.630493</td>\n      <td>1.848594</td>\n    </tr>\n    <tr>\n      <th>3</th>\n      <td>3</td>\n      <td>0.92686</td>\n      <td>0.238628</td>\n      <td>0.625112</td>\n      <td>2.057047</td>\n    </tr>\n    <tr>\n      <th>4</th>\n      <td>4</td>\n      <td>0.93665</td>\n      <td>0.202673</td>\n      <td>0.657222</td>\n      <td>1.882489</td>\n    </tr>\n    <tr>\n      <th>5</th>\n      <td>5</td>\n      <td>0.93965</td>\n      <td>0.193529</td>\n      <td>0.692520</td>\n      <td>1.698546</td>\n    </tr>\n    <tr>\n      <th>6</th>\n      <td>6</td>\n      <td>0.94184</td>\n      <td>0.184053</td>\n      <td>0.669464</td>\n      <td>2.073504</td>\n    </tr>\n    <tr>\n      <th>7</th>\n      <td>7</td>\n      <td>0.94339</td>\n      <td>0.181208</td>\n      <td>0.688974</td>\n      <td>2.026242</td>\n    </tr>\n    <tr>\n      <th>8</th>\n      <td>8</td>\n      <td>0.94562</td>\n      <td>0.169851</td>\n      <td>0.688184</td>\n      <td>2.005179</td>\n    </tr>\n    <tr>\n      <th>9</th>\n      <td>9</td>\n      <td>0.94622</td>\n      <td>0.168823</td>\n      <td>0.670407</td>\n      <td>2.232765</td>\n    </tr>\n    <tr>\n      <th>10</th>\n      <td>10</td>\n      <td>0.94871</td>\n      <td>0.159203</td>\n      <td>0.698692</td>\n      <td>1.991409</td>\n    </tr>\n    <tr>\n      <th>11</th>\n      <td>11</td>\n      <td>0.94908</td>\n      <td>0.160125</td>\n      <td>0.631309</td>\n      <td>2.623911</td>\n    </tr>\n    <tr>\n      <th>12</th>\n      <td>12</td>\n      <td>0.94953</td>\n      <td>0.156536</td>\n      <td>0.679691</td>\n      <td>2.257696</td>\n    </tr>\n    <tr>\n      <th>13</th>\n      <td>13</td>\n      <td>0.95040</td>\n      <td>0.155372</td>\n      <td>0.648525</td>\n      <td>2.565523</td>\n    </tr>\n    <tr>\n      <th>14</th>\n      <td>14</td>\n      <td>0.95034</td>\n      <td>0.155963</td>\n      <td>0.666250</td>\n      <td>2.366760</td>\n    </tr>\n    <tr>\n      <th>15</th>\n      <td>15</td>\n      <td>0.95070</td>\n      <td>0.154405</td>\n      <td>0.677345</td>\n      <td>2.304312</td>\n    </tr>\n    <tr>\n      <th>16</th>\n      <td>16</td>\n      <td>0.94971</td>\n      <td>0.155528</td>\n      <td>0.688770</td>\n      <td>2.198900</td>\n    </tr>\n    <tr>\n      <th>17</th>\n      <td>17</td>\n      <td>0.95063</td>\n      <td>0.154536</td>\n      <td>0.664669</td>\n      <td>2.429764</td>\n    </tr>\n  </tbody>\n</table>\n</div>"
          },
          "metadata": {},
          "execution_count": 7
        }
      ],
      "source": [
        "logdd"
      ]
    },
    {
      "cell_type": "code",
      "execution_count": 55,
      "metadata": {},
      "outputs": [],
      "source": [
        "# create figure and axis objects with subplots()\n",
        "def get_plots(x, y11, y12, y21, y22, divisions=1.0):\n",
        "    font = {'family' : 'serif',\n",
        "            'weight' : 'normal',\n",
        "            'size'   : 12}\n",
        "\n",
        "    plt.rc('font', **font)\n",
        "    fig,ax = plt.subplots(figsize=(9, 5.5))\n",
        "    ax.plot(x, y11, color=\"green\", marker=\"o\", label='Train Accuracy')\n",
        "    ax.plot(x, y12,linestyle='--',color=\"green\",marker=\"d\", alpha=0.5, label='Test Accuracy')\n",
        "\n",
        "    ax.set_xlabel(\"Epochs\",fontsize=12)\n",
        "    ax.set_ylabel(\"Accuracy\",fontsize=12)\n",
        "    ax.set_facecolor(\"bisque\")\n",
        "    ax.legend(loc=\"upper center\", bbox_to_anchor=(0.7, 1.18))\n",
        "\n",
        "    ax2=ax.twinx()\n",
        "    ax2.plot(x, y21,color=\"blue\",marker=\"o\", label = \"Train Loss\")\n",
        "    ax2.plot(x, y22,linestyle='--',color=\"blue\",marker=\"d\", alpha =0.5, label = \"Test Loss\")\n",
        "    ax2.set_ylabel(\"Loss\",fontsize=14)\n",
        "    ax2.legend(loc=\"upper center\", bbox_to_anchor=(0.3, 1.18))\n",
        "    plt.xticks(np.arange(min(x), max(x)+1, divisions))\n",
        "\n",
        "    return plt\n",
        "\n",
        "plt.show()"
      ]
    },
    {
      "cell_type": "code",
      "execution_count": 57,
      "metadata": {},
      "outputs": [
        {
          "output_type": "execute_result",
          "data": {
            "text/plain": [
              "<module 'matplotlib.pyplot' from '/opt/conda/envs/tf/lib/python3.8/site-packages/matplotlib/pyplot.py'>"
            ]
          },
          "metadata": {},
          "execution_count": 57
        },
        {
          "output_type": "display_data",
          "data": {
            "text/plain": "<Figure size 648x396 with 2 Axes>",
            "image/svg+xml": "<?xml version=\"1.0\" encoding=\"utf-8\" standalone=\"no\"?>\n<!DOCTYPE svg PUBLIC \"-//W3C//DTD SVG 1.1//EN\"\n  \"http://www.w3.org/Graphics/SVG/1.1/DTD/svg11.dtd\">\n<!-- Created with matplotlib (https://matplotlib.org/) -->\n<svg height=\"395.4239pt\" version=\"1.1\" viewBox=\"0 0 609.565625 395.4239\" width=\"609.565625pt\" xmlns=\"http://www.w3.org/2000/svg\" xmlns:xlink=\"http://www.w3.org/1999/xlink\">\n <metadata>\n  <rdf:RDF xmlns:cc=\"http://creativecommons.org/ns#\" xmlns:dc=\"http://purl.org/dc/elements/1.1/\" xmlns:rdf=\"http://www.w3.org/1999/02/22-rdf-syntax-ns#\">\n   <cc:Work>\n    <dc:type rdf:resource=\"http://purl.org/dc/dcmitype/StillImage\"/>\n    <dc:date>2021-03-06T16:26:38.628692</dc:date>\n    <dc:format>image/svg+xml</dc:format>\n    <dc:creator>\n     <cc:Agent>\n      <dc:title>Matplotlib v3.3.4, https://matplotlib.org/</dc:title>\n     </cc:Agent>\n    </dc:creator>\n   </cc:Work>\n  </rdf:RDF>\n </metadata>\n <defs>\n  <style type=\"text/css\">*{stroke-linecap:butt;stroke-linejoin:round;}</style>\n </defs>\n <g id=\"figure_1\">\n  <g id=\"patch_1\">\n   <path d=\"M 0 395.4239 \nL 609.565625 395.4239 \nL 609.565625 0 \nL 0 0 \nz\n\" style=\"fill:none;\"/>\n  </g>\n  <g id=\"axes_1\">\n   <g id=\"patch_2\">\n    <path d=\"M 56.5325 353.9964 \nL 558.7325 353.9964 \nL 558.7325 55.0164 \nL 56.5325 55.0164 \nz\n\" style=\"fill:#ffe4c4;\"/>\n   </g>\n   <g id=\"matplotlib.axis_1\">\n    <g id=\"xtick_1\">\n     <g id=\"line2d_1\">\n      <defs>\n       <path d=\"M 0 0 \nL 0 3.5 \n\" id=\"ma863aced6b\" style=\"stroke:#000000;stroke-width:0.8;\"/>\n      </defs>\n      <g>\n       <use style=\"stroke:#000000;stroke-width:0.8;\" x=\"79.359773\" xlink:href=\"#ma863aced6b\" y=\"353.9964\"/>\n      </g>\n     </g>\n     <g id=\"text_1\">\n      <!-- 0 -->\n      <g transform=\"translate(75.542273 370.114525)scale(0.12 -0.12)\">\n       <defs>\n        <path d=\"M 13.671875 19.828125 \nQ 17.921875 3.421875 25.390625 3.421875 \nQ 32.859375 3.421875 38.15625 11.625 \nQ 43.453125 19.828125 46.6875 36.375 \nQ 49.90625 52.984375 47.78125 61.1875 \nQ 45.65625 69.390625 38.1875 69.390625 \nQ 30.71875 69.390625 25.421875 61.1875 \nQ 20.125 52.984375 16.890625 36.375 \nQ 13.671875 19.828125 17.921875 3.421875 \nz\nM 24.421875 -1.421875 \nQ 12.546875 -1.421875 7.828125 8.53125 \nQ 3.125 18.5 6.59375 36.375 \nQ 10.0625 54.296875 18.671875 64.25 \nQ 27.296875 74.21875 39.15625 74.21875 \nQ 51.078125 74.21875 55.765625 64.25 \nQ 60.453125 54.296875 56.984375 36.375 \nQ 53.515625 18.5 44.921875 8.53125 \nQ 36.328125 -1.421875 24.421875 -1.421875 \nz\n\" id=\"DejaVuSerif-Italic-48\"/>\n       </defs>\n       <use xlink:href=\"#DejaVuSerif-Italic-48\"/>\n      </g>\n     </g>\n    </g>\n    <g id=\"xtick_2\">\n     <g id=\"line2d_2\">\n      <g>\n       <use style=\"stroke:#000000;stroke-width:0.8;\" x=\"133.071003\" xlink:href=\"#ma863aced6b\" y=\"353.9964\"/>\n      </g>\n     </g>\n     <g id=\"text_2\">\n      <!-- 2 -->\n      <g transform=\"translate(129.253503 370.114525)scale(0.12 -0.12)\">\n       <defs>\n        <path d=\"M 16.40625 55.515625 \nL 10.9375 55.515625 \nL 13.484375 68.5 \nQ 19.234375 71.296875 24.828125 72.75 \nQ 30.421875 74.21875 35.5 74.21875 \nQ 46.875 74.21875 52.390625 68.703125 \nQ 57.90625 63.1875 56.0625 53.71875 \nQ 54 43.015625 36.140625 28.125 \nQ 34.765625 27 34.03125 26.421875 \nL 12.0625 8.015625 \nL 42.484375 8.015625 \nL 44.234375 17 \nL 49.953125 17 \nL 46.625 0 \nL -0.390625 0 \nL 0.640625 5.328125 \nL 27.046875 27.390625 \nQ 35.796875 34.71875 40.109375 40.84375 \nQ 44.4375 46.96875 45.75 53.71875 \nQ 47.171875 61.078125 44.140625 65.234375 \nQ 41.109375 69.390625 34.375 69.390625 \nQ 27.390625 69.390625 22.921875 65.921875 \nQ 18.453125 62.453125 16.40625 55.515625 \nz\n\" id=\"DejaVuSerif-Italic-50\"/>\n       </defs>\n       <use xlink:href=\"#DejaVuSerif-Italic-50\"/>\n      </g>\n     </g>\n    </g>\n    <g id=\"xtick_3\">\n     <g id=\"line2d_3\">\n      <g>\n       <use style=\"stroke:#000000;stroke-width:0.8;\" x=\"186.782233\" xlink:href=\"#ma863aced6b\" y=\"353.9964\"/>\n      </g>\n     </g>\n     <g id=\"text_3\">\n      <!-- 4 -->\n      <g transform=\"translate(182.964733 370.114525)scale(0.12 -0.12)\">\n       <defs>\n        <path d=\"M 32.5625 24.703125 \nL 40.09375 63.484375 \nL 7.671875 24.703125 \nz\nM 49.21875 0 \nL 16.015625 0 \nL 17.046875 5.171875 \nL 28.765625 5.171875 \nL 31.546875 19.484375 \nL -0.296875 19.484375 \nL 0.734375 24.8125 \nL 42.28125 74.21875 \nL 51.953125 74.21875 \nL 42.328125 24.703125 \nL 56.25 24.703125 \nL 55.21875 19.484375 \nL 41.3125 19.484375 \nL 38.53125 5.171875 \nL 50.25 5.171875 \nz\n\" id=\"DejaVuSerif-Italic-52\"/>\n       </defs>\n       <use xlink:href=\"#DejaVuSerif-Italic-52\"/>\n      </g>\n     </g>\n    </g>\n    <g id=\"xtick_4\">\n     <g id=\"line2d_4\">\n      <g>\n       <use style=\"stroke:#000000;stroke-width:0.8;\" x=\"240.493463\" xlink:href=\"#ma863aced6b\" y=\"353.9964\"/>\n      </g>\n     </g>\n     <g id=\"text_4\">\n      <!-- 6 -->\n      <g transform=\"translate(236.675963 370.114525)scale(0.12 -0.12)\">\n       <defs>\n        <path d=\"M 14.015625 13.875 \nQ 19.4375 3.421875 26.3125 3.421875 \nQ 33.203125 3.421875 37.890625 8.46875 \nQ 42.578125 13.53125 44.40625 23 \nQ 46.234375 32.46875 43.53125 37.515625 \nQ 40.828125 42.578125 33.9375 42.578125 \nQ 26.953125 42.578125 22.328125 37.6875 \nQ 17.71875 32.8125 15.921875 23.578125 \nQ 14.015625 13.875 19.4375 3.421875 \nz\nM 17.53125 40.140625 \nQ 21.53125 43.796875 26.09375 45.59375 \nQ 30.671875 47.40625 35.9375 47.40625 \nQ 46.828125 47.40625 51.875 40.859375 \nQ 56.9375 34.328125 54.734375 23 \nQ 52.59375 11.921875 44.453125 5.25 \nQ 36.328125 -1.421875 24.953125 -1.421875 \nQ 12.59375 -1.421875 7.765625 7.78125 \nQ 2.9375 17 6.25 34.078125 \nQ 9.96875 53.21875 19.875 63.71875 \nQ 29.78125 74.21875 44.09375 74.21875 \nQ 47.953125 74.21875 52.046875 73.484375 \nQ 56.15625 72.75 60.296875 71.296875 \nL 57.953125 59.28125 \nL 52.4375 59.28125 \nQ 52.828125 64.203125 50.140625 66.796875 \nQ 47.46875 69.390625 42.09375 69.390625 \nQ 32.625 69.390625 26.59375 62.203125 \nQ 20.5625 55.03125 17.53125 40.140625 \nz\n\" id=\"DejaVuSerif-Italic-54\"/>\n       </defs>\n       <use xlink:href=\"#DejaVuSerif-Italic-54\"/>\n      </g>\n     </g>\n    </g>\n    <g id=\"xtick_5\">\n     <g id=\"line2d_5\">\n      <g>\n       <use style=\"stroke:#000000;stroke-width:0.8;\" x=\"294.204693\" xlink:href=\"#ma863aced6b\" y=\"353.9964\"/>\n      </g>\n     </g>\n     <g id=\"text_5\">\n      <!-- 8 -->\n      <g transform=\"translate(290.387193 370.114525)scale(0.12 -0.12)\">\n       <defs>\n        <path d=\"M 43.359375 19.921875 \nQ 44.875 27.734375 41.84375 32.046875 \nQ 38.8125 36.375 31.78125 36.375 \nQ 24.75 36.375 20.015625 32.046875 \nQ 15.28125 27.734375 13.765625 19.921875 \nQ 12.25 12.0625 15.296875 7.734375 \nQ 18.359375 3.421875 25.390625 3.421875 \nQ 32.421875 3.421875 37.125 7.734375 \nQ 41.84375 12.0625 43.359375 19.921875 \nz\nM 48.25 55.328125 \nQ 49.5625 61.96875 46.890625 65.671875 \nQ 44.234375 69.390625 38.1875 69.390625 \nQ 32.171875 69.390625 28.0625 65.671875 \nQ 23.96875 61.96875 22.65625 55.328125 \nQ 21.390625 48.640625 24.046875 44.921875 \nQ 26.703125 41.21875 32.71875 41.21875 \nQ 38.765625 41.21875 42.859375 44.921875 \nQ 46.96875 48.640625 48.25 55.328125 \nz\nM 39.796875 38.8125 \nQ 47.859375 37.703125 51.515625 32.6875 \nQ 55.171875 27.6875 53.65625 19.921875 \nQ 51.703125 9.671875 44.109375 4.125 \nQ 36.53125 -1.421875 24.421875 -1.421875 \nQ 12.359375 -1.421875 6.9375 4.125 \nQ 1.515625 9.671875 3.46875 19.921875 \nQ 4.984375 27.6875 10.59375 32.6875 \nQ 16.21875 37.703125 24.8125 38.8125 \nQ 17.671875 40.140625 14.5625 44.40625 \nQ 11.46875 48.6875 12.75 55.328125 \nQ 14.453125 64.109375 21.5 69.15625 \nQ 28.5625 74.21875 39.15625 74.21875 \nQ 49.75 74.21875 54.796875 69.15625 \nQ 59.859375 64.109375 58.15625 55.328125 \nQ 56.890625 48.6875 52.125 44.40625 \nQ 47.359375 40.140625 39.796875 38.8125 \nz\n\" id=\"DejaVuSerif-Italic-56\"/>\n       </defs>\n       <use xlink:href=\"#DejaVuSerif-Italic-56\"/>\n      </g>\n     </g>\n    </g>\n    <g id=\"xtick_6\">\n     <g id=\"line2d_6\">\n      <g>\n       <use style=\"stroke:#000000;stroke-width:0.8;\" x=\"347.915922\" xlink:href=\"#ma863aced6b\" y=\"353.9964\"/>\n      </g>\n     </g>\n     <g id=\"text_6\">\n      <!-- 10 -->\n      <g transform=\"translate(340.280922 370.114525)scale(0.12 -0.12)\">\n       <defs>\n        <path d=\"M 6.984375 0 \nL 8.015625 5.171875 \nL 20.703125 5.171875 \nL 32.46875 65.828125 \nL 15.921875 56.296875 \nL 17.1875 62.703125 \nL 37.203125 74.21875 \nL 43.953125 74.21875 \nL 30.515625 5.171875 \nL 43.21875 5.171875 \nL 42.1875 0 \nz\n\" id=\"DejaVuSerif-Italic-49\"/>\n       </defs>\n       <use xlink:href=\"#DejaVuSerif-Italic-49\"/>\n       <use x=\"63.623047\" xlink:href=\"#DejaVuSerif-Italic-48\"/>\n      </g>\n     </g>\n    </g>\n    <g id=\"xtick_7\">\n     <g id=\"line2d_7\">\n      <g>\n       <use style=\"stroke:#000000;stroke-width:0.8;\" x=\"401.627152\" xlink:href=\"#ma863aced6b\" y=\"353.9964\"/>\n      </g>\n     </g>\n     <g id=\"text_7\">\n      <!-- 12 -->\n      <g transform=\"translate(393.992152 370.114525)scale(0.12 -0.12)\">\n       <use xlink:href=\"#DejaVuSerif-Italic-49\"/>\n       <use x=\"63.623047\" xlink:href=\"#DejaVuSerif-Italic-50\"/>\n      </g>\n     </g>\n    </g>\n    <g id=\"xtick_8\">\n     <g id=\"line2d_8\">\n      <g>\n       <use style=\"stroke:#000000;stroke-width:0.8;\" x=\"455.338382\" xlink:href=\"#ma863aced6b\" y=\"353.9964\"/>\n      </g>\n     </g>\n     <g id=\"text_8\">\n      <!-- 14 -->\n      <g transform=\"translate(447.703382 370.114525)scale(0.12 -0.12)\">\n       <use xlink:href=\"#DejaVuSerif-Italic-49\"/>\n       <use x=\"63.623047\" xlink:href=\"#DejaVuSerif-Italic-52\"/>\n      </g>\n     </g>\n    </g>\n    <g id=\"xtick_9\">\n     <g id=\"line2d_9\">\n      <g>\n       <use style=\"stroke:#000000;stroke-width:0.8;\" x=\"509.049612\" xlink:href=\"#ma863aced6b\" y=\"353.9964\"/>\n      </g>\n     </g>\n     <g id=\"text_9\">\n      <!-- 16 -->\n      <g transform=\"translate(501.414612 370.114525)scale(0.12 -0.12)\">\n       <use xlink:href=\"#DejaVuSerif-Italic-49\"/>\n       <use x=\"63.623047\" xlink:href=\"#DejaVuSerif-Italic-54\"/>\n      </g>\n     </g>\n    </g>\n    <g id=\"text_10\">\n     <!-- Epochs -->\n     <g transform=\"translate(285.49625 385.728275)scale(0.12 -0.12)\">\n      <defs>\n       <path d=\"M -1.515625 0 \nL -0.53125 5.171875 \nL 8.734375 5.171875 \nL 20.90625 67.671875 \nL 11.625 67.671875 \nL 12.640625 72.90625 \nL 71.34375 72.90625 \nL 68.21875 56.6875 \nL 62.203125 56.6875 \nL 64.15625 66.890625 \nL 30.671875 66.890625 \nL 25.921875 42.484375 \nL 49.8125 42.484375 \nL 51.5625 51.609375 \nL 57.5625 51.609375 \nL 52.875 27.390625 \nL 46.875 27.390625 \nL 48.640625 36.53125 \nL 24.75 36.53125 \nL 18.84375 6 \nL 53.125 6 \nL 55.078125 16.21875 \nL 61.078125 16.21875 \nL 57.953125 0 \nz\n\" id=\"DejaVuSerif-Italic-69\"/>\n       <path d=\"M 22.90625 28.515625 \nL 21.875 23.390625 \nQ 21.140625 19.53125 21.140625 16.453125 \nQ 21.140625 12.015625 22.703125 9.078125 \nQ 25.34375 4.203125 32.171875 4.203125 \nQ 39.0625 4.203125 43.671875 9.71875 \nQ 48.296875 15.234375 50.390625 25.984375 \nQ 51.3125 30.90625 51.3125 34.765625 \nQ 51.3125 39.265625 50 42.234375 \nQ 47.515625 47.703125 40.625 47.703125 \nQ 33.796875 47.703125 29.25 42.765625 \nQ 24.703125 37.84375 22.90625 28.515625 \nz\nM 17.4375 46.6875 \nL 8.796875 46.6875 \nL 9.8125 51.90625 \nL 27.4375 51.90625 \nL 25.875 43.796875 \nQ 29.4375 48.6875 33.984375 51 \nQ 38.53125 53.328125 44.53125 53.328125 \nQ 54.109375 53.328125 58.640625 45.75 \nQ 61.671875 40.765625 61.671875 33.796875 \nQ 61.671875 30.125 60.890625 25.984375 \nQ 58.5 13.765625 50.96875 6.171875 \nQ 43.453125 -1.421875 33.890625 -1.421875 \nQ 27.875 -1.421875 24.234375 0.890625 \nQ 20.609375 3.21875 18.953125 8.109375 \nL 13.28125 -20.796875 \nL 4.296875 -20.796875 \nz\n\" id=\"DejaVuSerif-Italic-112\"/>\n       <path d=\"M 25.6875 3.421875 \nQ 32.90625 3.421875 37.71875 9.125 \nQ 42.53125 14.84375 44.671875 25.984375 \nQ 45.65625 31.0625 45.65625 35.015625 \nQ 45.65625 39.703125 44.28125 42.78125 \nQ 41.703125 48.484375 34.46875 48.484375 \nQ 27.25 48.484375 22.4375 42.796875 \nQ 17.625 37.109375 15.484375 25.984375 \nQ 14.5 20.90625 14.5 17 \nQ 14.5 12.25 15.921875 9.125 \nQ 18.5 3.421875 25.6875 3.421875 \nz\nM 24.75 -1.421875 \nQ 13.421875 -1.421875 8.015625 6.0625 \nQ 4.25 11.28125 4.25 18.796875 \nQ 4.25 22.171875 4.984375 25.984375 \nQ 7.375 38.375 15.703125 45.84375 \nQ 24.03125 53.328125 35.40625 53.328125 \nQ 46.78125 53.328125 52.203125 45.84375 \nQ 55.90625 40.671875 55.90625 33.15625 \nQ 55.90625 29.78125 55.171875 25.984375 \nQ 52.78125 13.578125 44.453125 6.078125 \nQ 36.140625 -1.421875 24.75 -1.421875 \nz\n\" id=\"DejaVuSerif-Italic-111\"/>\n       <path d=\"M 49.421875 15.578125 \nQ 45.90625 7.28125 39.625 2.921875 \nQ 33.34375 -1.421875 24.75 -1.421875 \nQ 13.421875 -1.421875 8.015625 6.0625 \nQ 4.25 11.28125 4.25 18.796875 \nQ 4.25 22.171875 4.984375 25.984375 \nQ 7.421875 38.421875 15.75 45.875 \nQ 24.078125 53.328125 35.40625 53.328125 \nQ 40.328125 53.328125 44.984375 52.171875 \nQ 49.65625 51.03125 54.109375 48.6875 \nL 51.5625 35.40625 \nL 46.34375 35.40625 \nQ 46.34375 36.078125 46.34375 36.671875 \nQ 46.34375 42.53125 43.796875 45.359375 \nQ 40.96875 48.484375 34.578125 48.484375 \nQ 27.296875 48.484375 22.484375 42.84375 \nQ 17.671875 37.203125 15.484375 25.984375 \nQ 14.5 20.84375 14.5 16.84375 \nQ 14.5 12.15625 15.875 9.078125 \nQ 18.453125 3.421875 25.78125 3.421875 \nQ 31.59375 3.421875 35.640625 6.4375 \nQ 39.703125 9.46875 42.1875 15.578125 \nz\n\" id=\"DejaVuSerif-Italic-99\"/>\n       <path d=\"M 4.828125 0 \nL 18.609375 70.796875 \nL 10.015625 70.796875 \nL 10.984375 75.984375 \nL 28.5625 75.984375 \nL 22.125 42.671875 \nQ 25.640625 47.953125 30.125 50.640625 \nQ 34.625 53.328125 39.890625 53.328125 \nQ 48.484375 53.328125 51.5625 48.390625 \nQ 53.46875 45.40625 53.46875 40.4375 \nQ 53.46875 37.15625 52.640625 33.015625 \nL 47.21875 5.171875 \nL 55.21875 5.171875 \nL 54.25 0 \nL 37.203125 0 \nL 43.0625 30.171875 \nQ 44.046875 35.203125 44.046875 38.578125 \nQ 44.046875 41.546875 43.265625 43.171875 \nQ 41.65625 46.6875 35.6875 46.6875 \nQ 29.4375 46.6875 25.265625 42.140625 \nQ 21.09375 37.59375 19.4375 28.90625 \nL 13.8125 0 \nz\n\" id=\"DejaVuSerif-Italic-104\"/>\n       <path d=\"M 3.46875 14.984375 \nL 8.640625 14.984375 \nQ 8.453125 13.578125 8.453125 12.3125 \nQ 8.453125 3.421875 20.515625 3.421875 \nQ 32.625 3.421875 34.375 12.3125 \nQ 34.515625 13.1875 34.515625 14.75 \nQ 34.515625 16.265625 32.859375 18.09375 \nQ 31.203125 19.921875 24.21875 22.3125 \nL 18.109375 24.515625 \nQ 11.859375 26.65625 9.828125 29.40625 \nQ 7.8125 32.171875 7.8125 35.359375 \nQ 7.8125 36.625 8.0625 38.09375 \nQ 9.46875 45.21875 15.46875 49.265625 \nQ 21.484375 53.328125 30.171875 53.328125 \nQ 38.8125 53.328125 47.90625 49.125 \nL 45.703125 37.796875 \nL 40.53125 37.796875 \nQ 40.71875 38.921875 40.71875 39.890625 \nQ 40.71875 43.453125 38.25 45.96875 \nQ 35.796875 48.484375 30.078125 48.484375 \nQ 18.609375 48.484375 17.046875 40.484375 \nQ 16.84375 39.65625 16.84375 38.1875 \nQ 16.84375 36.671875 18.421875 34.953125 \nQ 20.015625 33.25 26.21875 31.203125 \nL 32.90625 29 \nQ 39.84375 26.703125 42.4375 23.25 \nQ 44.234375 20.796875 44.234375 18.40625 \nQ 44.234375 8.15625 36.03125 2.828125 \nQ 29.59375 -1.421875 19.71875 -1.421875 \nQ 9.859375 -1.421875 1.125 2.875 \nz\n\" id=\"DejaVuSerif-Italic-115\"/>\n      </defs>\n      <use xlink:href=\"#DejaVuSerif-Italic-69\"/>\n      <use x=\"72.998047\" xlink:href=\"#DejaVuSerif-Italic-112\"/>\n      <use x=\"137.011719\" xlink:href=\"#DejaVuSerif-Italic-111\"/>\n      <use x=\"197.216797\" xlink:href=\"#DejaVuSerif-Italic-99\"/>\n      <use x=\"253.222656\" xlink:href=\"#DejaVuSerif-Italic-104\"/>\n      <use x=\"317.626953\" xlink:href=\"#DejaVuSerif-Italic-115\"/>\n     </g>\n    </g>\n   </g>\n   <g id=\"matplotlib.axis_2\">\n    <g id=\"ytick_1\">\n     <g id=\"line2d_10\">\n      <defs>\n       <path d=\"M 0 0 \nL -3.5 0 \n\" id=\"mf3ac3c9782\" style=\"stroke:#000000;stroke-width:0.8;\"/>\n      </defs>\n      <g>\n       <use style=\"stroke:#000000;stroke-width:0.8;\" x=\"56.5325\" xlink:href=\"#mf3ac3c9782\" y=\"319.629639\"/>\n      </g>\n     </g>\n     <g id=\"text_11\">\n      <!-- 0.65 -->\n      <g transform=\"translate(22.81375 324.188701)scale(0.12 -0.12)\">\n       <defs>\n        <path d=\"M 11.859375 -1.421875 \nQ 8.890625 2.34375 9.421875 5.078125 \nQ 9.96875 7.8125 12.1875 9.71875 \nQ 14.40625 11.625 17.1875 11.625 \nQ 19.875 11.625 21.40625 9.71875 \nQ 22.953125 7.8125 22.40625 5.078125 \nQ 21.875 2.390625 19.59375 0.484375 \nQ 17.328125 -1.421875 14.65625 -1.421875 \nQ 11.859375 -1.421875 8.890625 2.34375 \nz\n\" id=\"DejaVuSerif-Italic-46\"/>\n        <path d=\"M 57.515625 72.90625 \nL 55.953125 64.890625 \nL 22.5625 64.890625 \nL 18.5 44 \nQ 21.390625 45.75 24.953125 46.625 \nQ 28.515625 47.515625 32.71875 47.515625 \nQ 44.53125 47.515625 50.09375 40.96875 \nQ 55.671875 34.421875 53.46875 23.09375 \nQ 51.21875 11.53125 43.03125 5.046875 \nQ 34.859375 -1.421875 22.359375 -1.421875 \nQ 17.328125 -1.421875 12.296875 -0.1875 \nQ 7.28125 1.03125 2.25 3.515625 \nL 4.984375 17.671875 \nL 10.5 17.671875 \nQ 9.578125 10.75 12.84375 7.078125 \nQ 16.109375 3.421875 23.296875 3.421875 \nQ 31 3.421875 36.15625 8.5 \nQ 41.3125 13.578125 43.171875 23.09375 \nQ 44.96875 32.5625 41.84375 37.609375 \nQ 38.71875 42.671875 30.953125 42.671875 \nQ 26.5625 42.671875 22.890625 41.109375 \nQ 19.234375 39.546875 16.015625 36.28125 \nL 11.8125 36.28125 \nL 18.953125 72.90625 \nz\n\" id=\"DejaVuSerif-Italic-53\"/>\n       </defs>\n       <use xlink:href=\"#DejaVuSerif-Italic-48\"/>\n       <use x=\"63.623047\" xlink:href=\"#DejaVuSerif-Italic-46\"/>\n       <use x=\"95.410156\" xlink:href=\"#DejaVuSerif-Italic-54\"/>\n       <use x=\"159.033203\" xlink:href=\"#DejaVuSerif-Italic-53\"/>\n      </g>\n     </g>\n    </g>\n    <g id=\"ytick_2\">\n     <g id=\"line2d_11\">\n      <g>\n       <use style=\"stroke:#000000;stroke-width:0.8;\" x=\"56.5325\" xlink:href=\"#mf3ac3c9782\" y=\"277.889823\"/>\n      </g>\n     </g>\n     <g id=\"text_12\">\n      <!-- 0.70 -->\n      <g transform=\"translate(22.81375 282.448886)scale(0.12 -0.12)\">\n       <defs>\n        <path d=\"M 62.5 67.921875 \nL 20.796875 0 \nL 13.53125 0 \nL 53.328125 64.890625 \nL 19.625 64.890625 \nL 17.875 55.90625 \nL 12.15625 55.90625 \nL 15.484375 72.90625 \nL 63.484375 72.90625 \nz\n\" id=\"DejaVuSerif-Italic-55\"/>\n       </defs>\n       <use xlink:href=\"#DejaVuSerif-Italic-48\"/>\n       <use x=\"63.623047\" xlink:href=\"#DejaVuSerif-Italic-46\"/>\n       <use x=\"95.410156\" xlink:href=\"#DejaVuSerif-Italic-55\"/>\n       <use x=\"159.033203\" xlink:href=\"#DejaVuSerif-Italic-48\"/>\n      </g>\n     </g>\n    </g>\n    <g id=\"ytick_3\">\n     <g id=\"line2d_12\">\n      <g>\n       <use style=\"stroke:#000000;stroke-width:0.8;\" x=\"56.5325\" xlink:href=\"#mf3ac3c9782\" y=\"236.150007\"/>\n      </g>\n     </g>\n     <g id=\"text_13\">\n      <!-- 0.75 -->\n      <g transform=\"translate(22.81375 240.70907)scale(0.12 -0.12)\">\n       <use xlink:href=\"#DejaVuSerif-Italic-48\"/>\n       <use x=\"63.623047\" xlink:href=\"#DejaVuSerif-Italic-46\"/>\n       <use x=\"95.410156\" xlink:href=\"#DejaVuSerif-Italic-55\"/>\n       <use x=\"159.033203\" xlink:href=\"#DejaVuSerif-Italic-53\"/>\n      </g>\n     </g>\n    </g>\n    <g id=\"ytick_4\">\n     <g id=\"line2d_13\">\n      <g>\n       <use style=\"stroke:#000000;stroke-width:0.8;\" x=\"56.5325\" xlink:href=\"#mf3ac3c9782\" y=\"194.410192\"/>\n      </g>\n     </g>\n     <g id=\"text_14\">\n      <!-- 0.80 -->\n      <g transform=\"translate(22.81375 198.969254)scale(0.12 -0.12)\">\n       <use xlink:href=\"#DejaVuSerif-Italic-48\"/>\n       <use x=\"63.623047\" xlink:href=\"#DejaVuSerif-Italic-46\"/>\n       <use x=\"95.410156\" xlink:href=\"#DejaVuSerif-Italic-56\"/>\n       <use x=\"159.033203\" xlink:href=\"#DejaVuSerif-Italic-48\"/>\n      </g>\n     </g>\n    </g>\n    <g id=\"ytick_5\">\n     <g id=\"line2d_14\">\n      <g>\n       <use style=\"stroke:#000000;stroke-width:0.8;\" x=\"56.5325\" xlink:href=\"#mf3ac3c9782\" y=\"152.670376\"/>\n      </g>\n     </g>\n     <g id=\"text_15\">\n      <!-- 0.85 -->\n      <g transform=\"translate(22.81375 157.229439)scale(0.12 -0.12)\">\n       <use xlink:href=\"#DejaVuSerif-Italic-48\"/>\n       <use x=\"63.623047\" xlink:href=\"#DejaVuSerif-Italic-46\"/>\n       <use x=\"95.410156\" xlink:href=\"#DejaVuSerif-Italic-56\"/>\n       <use x=\"159.033203\" xlink:href=\"#DejaVuSerif-Italic-53\"/>\n      </g>\n     </g>\n    </g>\n    <g id=\"ytick_6\">\n     <g id=\"line2d_15\">\n      <g>\n       <use style=\"stroke:#000000;stroke-width:0.8;\" x=\"56.5325\" xlink:href=\"#mf3ac3c9782\" y=\"110.930561\"/>\n      </g>\n     </g>\n     <g id=\"text_16\">\n      <!-- 0.90 -->\n      <g transform=\"translate(22.81375 115.489623)scale(0.12 -0.12)\">\n       <defs>\n        <path d=\"M 46.046875 32.671875 \nQ 42.09375 29 37.46875 27.1875 \nQ 32.859375 25.390625 27.546875 25.390625 \nQ 16.703125 25.390625 11.6875 31.9375 \nQ 6.6875 38.484375 8.890625 49.8125 \nQ 11.03125 60.890625 19.15625 67.546875 \nQ 27.296875 74.21875 38.671875 74.21875 \nQ 51.03125 74.21875 55.828125 65.015625 \nQ 60.640625 55.8125 57.328125 38.71875 \nQ 53.609375 19.578125 43.703125 9.078125 \nQ 33.796875 -1.421875 19.53125 -1.421875 \nQ 15.671875 -1.421875 11.5625 -0.6875 \nQ 7.46875 0.046875 3.328125 1.515625 \nL 5.671875 13.625 \nL 11.140625 13.625 \nQ 10.84375 8.6875 13.5 6.046875 \nQ 16.15625 3.421875 21.484375 3.421875 \nQ 30.953125 3.421875 36.984375 10.5625 \nQ 43.015625 17.71875 46.046875 32.671875 \nz\nM 37.3125 69.390625 \nQ 30.375 69.390625 25.703125 64.328125 \nQ 21.046875 59.28125 19.21875 49.796875 \nQ 17.390625 40.328125 20.0625 35.25 \nQ 22.75 30.171875 29.6875 30.171875 \nQ 36.625 30.171875 41.265625 35.078125 \nQ 45.90625 39.984375 47.703125 49.21875 \nQ 49.609375 58.9375 46.890625 64.15625 \nQ 44.1875 69.390625 37.3125 69.390625 \nz\n\" id=\"DejaVuSerif-Italic-57\"/>\n       </defs>\n       <use xlink:href=\"#DejaVuSerif-Italic-48\"/>\n       <use x=\"63.623047\" xlink:href=\"#DejaVuSerif-Italic-46\"/>\n       <use x=\"95.410156\" xlink:href=\"#DejaVuSerif-Italic-57\"/>\n       <use x=\"159.033203\" xlink:href=\"#DejaVuSerif-Italic-48\"/>\n      </g>\n     </g>\n    </g>\n    <g id=\"ytick_7\">\n     <g id=\"line2d_16\">\n      <g>\n       <use style=\"stroke:#000000;stroke-width:0.8;\" x=\"56.5325\" xlink:href=\"#mf3ac3c9782\" y=\"69.190745\"/>\n      </g>\n     </g>\n     <g id=\"text_17\">\n      <!-- 0.95 -->\n      <g transform=\"translate(22.81375 73.749807)scale(0.12 -0.12)\">\n       <use xlink:href=\"#DejaVuSerif-Italic-48\"/>\n       <use x=\"63.623047\" xlink:href=\"#DejaVuSerif-Italic-46\"/>\n       <use x=\"95.410156\" xlink:href=\"#DejaVuSerif-Italic-57\"/>\n       <use x=\"159.033203\" xlink:href=\"#DejaVuSerif-Italic-53\"/>\n      </g>\n     </g>\n    </g>\n    <g id=\"text_18\">\n     <!-- Accuracy -->\n     <g transform=\"translate(16.1475 232.619212)rotate(-90)scale(0.12 -0.12)\">\n      <defs>\n       <path d=\"M 18.109375 26.421875 \nL 44.875 26.421875 \nL 38.234375 61.078125 \nz\nM -7.625 0 \nL -6.640625 5.171875 \nL -0.25 5.171875 \nL 38.921875 72.90625 \nL 47.125 72.90625 \nL 60.015625 5.171875 \nL 67.140625 5.171875 \nL 66.15625 0 \nL 39.65625 0 \nL 40.625 5.171875 \nL 48.734375 5.171875 \nL 45.75 21.1875 \nL 15.09375 21.1875 \nL 5.859375 5.171875 \nL 13.875 5.171875 \nL 12.890625 0 \nz\n\" id=\"DejaVuSerif-Italic-65\"/>\n       <path d=\"M 48.390625 51.90625 \nL 57.375 51.90625 \nL 48.296875 5.171875 \nL 56.78125 5.171875 \nL 55.8125 0 \nL 38.328125 0 \nL 40.09375 9.1875 \nQ 36.578125 4 32.109375 1.28125 \nQ 27.640625 -1.421875 22.40625 -1.421875 \nQ 13.765625 -1.421875 10.640625 3.515625 \nQ 8.734375 6.453125 8.734375 11.46875 \nQ 8.734375 14.75 9.578125 18.890625 \nL 14.9375 46.6875 \nL 6.84375 46.6875 \nL 7.859375 51.90625 \nL 25 51.90625 \nL 19.140625 21.6875 \nQ 18.171875 16.65625 18.171875 13.328125 \nQ 18.171875 10.359375 18.953125 8.6875 \nQ 20.5625 5.171875 26.515625 5.171875 \nQ 32.765625 5.171875 36.9375 9.765625 \nQ 41.109375 14.359375 42.78125 23.09375 \nz\n\" id=\"DejaVuSerif-Italic-117\"/>\n       <path d=\"M 52.734375 52 \nL 50.203125 39.015625 \nL 45.015625 39.015625 \nQ 45.171875 39.984375 45.171875 40.828125 \nQ 45.171875 43.359375 44 44.78125 \nQ 42.484375 46.6875 38.8125 46.6875 \nQ 32.171875 46.6875 27.734375 42.09375 \nQ 23.296875 37.5 21.625 28.90625 \nL 16.015625 0 \nL 7.03125 0 \nL 16.109375 46.78125 \nL 7.515625 46.78125 \nL 8.5 51.90625 \nL 26.078125 51.90625 \nL 24.3125 42.671875 \nQ 27.984375 48.09375 32.640625 50.703125 \nQ 37.3125 53.328125 43.265625 53.328125 \nQ 45.453125 53.328125 47.796875 52.984375 \nQ 50.140625 52.640625 52.734375 52 \nz\n\" id=\"DejaVuSerif-Italic-114\"/>\n       <path d=\"M 36.328125 8.109375 \nQ 29.828125 -1.421875 19.34375 -1.421875 \nQ 10.75 -1.421875 6.390625 4.390625 \nQ 3.375 8.5 3.375 14.359375 \nQ 3.375 16.84375 3.90625 19.625 \nQ 7.234375 36.859375 19.234375 45.75 \nQ 29.4375 53.328125 41.796875 53.328125 \nQ 50.09375 53.328125 52.9375 51.90625 \nL 43.84375 5.171875 \nL 51.5625 5.171875 \nL 50.59375 0 \nL 34.765625 0 \nz\nM 12.84375 14.65625 \nQ 12.84375 4.203125 22.953125 4.203125 \nQ 29.109375 4.203125 33.28125 9.109375 \nQ 37.453125 14.015625 39.3125 23.390625 \nL 43.84375 46.921875 \nL 43.84375 46.921875 \nQ 43.84375 48.34375 39.9375 48.34375 \nQ 30.5625 48.34375 23.296875 41.015625 \nQ 16.0625 33.640625 13.484375 20.265625 \nQ 12.84375 17.140625 12.84375 14.65625 \nz\n\" id=\"DejaVuSerif-Italic-97\"/>\n       <path d=\"M 57.515625 51.46875 \nQ 52.6875 23.53125 44.1875 8.796875 \nQ 31.734375 -12.84375 21.734375 -19.34375 \nQ 17.28125 -22.21875 5.5625 -22.21875 \nQ 3.265625 -22.21875 0.9375 -21.828125 \nQ -1.375 -21.4375 -3.71875 -20.703125 \nL -1.765625 -10.796875 \nL 2.828125 -10.796875 \nQ 2.734375 -11.578125 2.734375 -12.3125 \nQ 2.734375 -14.359375 3.609375 -15.53125 \nQ 4.828125 -17.1875 8.015625 -17.1875 \nQ 16.609375 -17.1875 24.078125 -9.71875 \nL 11.8125 46.6875 \nL 5.90625 46.6875 \nL 6.9375 51.90625 \nL 20.359375 51.90625 \nL 31.890625 0.390625 \nQ 39.75 12.15625 41.65625 17 \nQ 47.796875 32.171875 49.03125 46.234375 \nL 43.109375 46.234375 \nL 44.140625 51.46875 \nz\n\" id=\"DejaVuSerif-Italic-121\"/>\n      </defs>\n      <use xlink:href=\"#DejaVuSerif-Italic-65\"/>\n      <use x=\"72.216797\" xlink:href=\"#DejaVuSerif-Italic-99\"/>\n      <use x=\"128.222656\" xlink:href=\"#DejaVuSerif-Italic-99\"/>\n      <use x=\"184.228516\" xlink:href=\"#DejaVuSerif-Italic-117\"/>\n      <use x=\"248.632812\" xlink:href=\"#DejaVuSerif-Italic-114\"/>\n      <use x=\"296.435547\" xlink:href=\"#DejaVuSerif-Italic-97\"/>\n      <use x=\"356.054688\" xlink:href=\"#DejaVuSerif-Italic-99\"/>\n      <use x=\"412.060547\" xlink:href=\"#DejaVuSerif-Italic-121\"/>\n     </g>\n    </g>\n   </g>\n   <g id=\"line2d_17\">\n    <path clip-path=\"url(#pa21c980de0)\" d=\"M 79.359773 194.493675 \nL 106.215388 104.477599 \nL 133.071003 94.059324 \nL 159.926618 88.507953 \nL 186.782233 80.335294 \nL 213.637848 77.830887 \nL 240.493463 76.002689 \nL 267.349078 74.708739 \nL 294.204693 72.847152 \nL 321.060307 72.346291 \nL 347.915922 70.267612 \nL 374.771537 69.958766 \nL 401.627152 69.583095 \nL 428.482767 68.856831 \nL 455.338382 68.906937 \nL 482.193997 68.6064 \nL 509.049612 69.432826 \nL 535.905227 68.664816 \n\" style=\"fill:none;stroke:#008000;stroke-linecap:square;stroke-width:1.5;\"/>\n    <defs>\n     <path d=\"M 0 3 \nC 0.795609 3 1.55874 2.683901 2.12132 2.12132 \nC 2.683901 1.55874 3 0.795609 3 0 \nC 3 -0.795609 2.683901 -1.55874 2.12132 -2.12132 \nC 1.55874 -2.683901 0.795609 -3 0 -3 \nC -0.795609 -3 -1.55874 -2.683901 -2.12132 -2.12132 \nC -2.683901 -1.55874 -3 -0.795609 -3 0 \nC -3 0.795609 -2.683901 1.55874 -2.12132 2.12132 \nC -1.55874 2.683901 -0.795609 3 0 3 \nz\n\" id=\"m2d15f699d6\" style=\"stroke:#008000;\"/>\n    </defs>\n    <g clip-path=\"url(#pa21c980de0)\">\n     <use style=\"fill:#008000;stroke:#008000;\" x=\"79.359773\" xlink:href=\"#m2d15f699d6\" y=\"194.493675\"/>\n     <use style=\"fill:#008000;stroke:#008000;\" x=\"106.215388\" xlink:href=\"#m2d15f699d6\" y=\"104.477599\"/>\n     <use style=\"fill:#008000;stroke:#008000;\" x=\"133.071003\" xlink:href=\"#m2d15f699d6\" y=\"94.059324\"/>\n     <use style=\"fill:#008000;stroke:#008000;\" x=\"159.926618\" xlink:href=\"#m2d15f699d6\" y=\"88.507953\"/>\n     <use style=\"fill:#008000;stroke:#008000;\" x=\"186.782233\" xlink:href=\"#m2d15f699d6\" y=\"80.335294\"/>\n     <use style=\"fill:#008000;stroke:#008000;\" x=\"213.637848\" xlink:href=\"#m2d15f699d6\" y=\"77.830887\"/>\n     <use style=\"fill:#008000;stroke:#008000;\" x=\"240.493463\" xlink:href=\"#m2d15f699d6\" y=\"76.002689\"/>\n     <use style=\"fill:#008000;stroke:#008000;\" x=\"267.349078\" xlink:href=\"#m2d15f699d6\" y=\"74.708739\"/>\n     <use style=\"fill:#008000;stroke:#008000;\" x=\"294.204693\" xlink:href=\"#m2d15f699d6\" y=\"72.847152\"/>\n     <use style=\"fill:#008000;stroke:#008000;\" x=\"321.060307\" xlink:href=\"#m2d15f699d6\" y=\"72.346291\"/>\n     <use style=\"fill:#008000;stroke:#008000;\" x=\"347.915922\" xlink:href=\"#m2d15f699d6\" y=\"70.267612\"/>\n     <use style=\"fill:#008000;stroke:#008000;\" x=\"374.771537\" xlink:href=\"#m2d15f699d6\" y=\"69.958766\"/>\n     <use style=\"fill:#008000;stroke:#008000;\" x=\"401.627152\" xlink:href=\"#m2d15f699d6\" y=\"69.583095\"/>\n     <use style=\"fill:#008000;stroke:#008000;\" x=\"428.482767\" xlink:href=\"#m2d15f699d6\" y=\"68.856831\"/>\n     <use style=\"fill:#008000;stroke:#008000;\" x=\"455.338382\" xlink:href=\"#m2d15f699d6\" y=\"68.906937\"/>\n     <use style=\"fill:#008000;stroke:#008000;\" x=\"482.193997\" xlink:href=\"#m2d15f699d6\" y=\"68.6064\"/>\n     <use style=\"fill:#008000;stroke:#008000;\" x=\"509.049612\" xlink:href=\"#m2d15f699d6\" y=\"69.432826\"/>\n     <use style=\"fill:#008000;stroke:#008000;\" x=\"535.905227\" xlink:href=\"#m2d15f699d6\" y=\"68.664816\"/>\n    </g>\n   </g>\n   <g id=\"line2d_18\">\n    <path clip-path=\"url(#pa21c980de0)\" d=\"M 79.359773 319.690313 \nL 106.215388 293.992134 \nL 133.071003 335.914023 \nL 159.926618 340.4064 \nL 186.782233 313.601111 \nL 213.637848 284.134479 \nL 240.493463 303.381468 \nL 267.349078 287.09387 \nL 294.204693 287.753906 \nL 321.060307 302.593704 \nL 347.915922 278.982065 \nL 374.771537 335.23269 \nL 401.627152 294.843787 \nL 428.482767 320.861312 \nL 455.338382 306.064107 \nL 482.193997 296.80255 \nL 509.049612 287.264241 \nL 535.905227 307.38418 \n\" style=\"fill:none;stroke:#008000;stroke-dasharray:5.55,2.4;stroke-dashoffset:0;stroke-opacity:0.5;stroke-width:1.5;\"/>\n    <defs>\n     <path d=\"M -0 4.242641 \nL 2.545584 0 \nL 0 -4.242641 \nL -2.545584 -0 \nz\n\" id=\"m7cfc693ab5\" style=\"stroke:#008000;stroke-linejoin:miter;stroke-opacity:0.5;\"/>\n    </defs>\n    <g clip-path=\"url(#pa21c980de0)\">\n     <use style=\"fill:#008000;fill-opacity:0.5;stroke:#008000;stroke-linejoin:miter;stroke-opacity:0.5;\" x=\"79.359773\" xlink:href=\"#m7cfc693ab5\" y=\"319.690313\"/>\n     <use style=\"fill:#008000;fill-opacity:0.5;stroke:#008000;stroke-linejoin:miter;stroke-opacity:0.5;\" x=\"106.215388\" xlink:href=\"#m7cfc693ab5\" y=\"293.992134\"/>\n     <use style=\"fill:#008000;fill-opacity:0.5;stroke:#008000;stroke-linejoin:miter;stroke-opacity:0.5;\" x=\"133.071003\" xlink:href=\"#m7cfc693ab5\" y=\"335.914023\"/>\n     <use style=\"fill:#008000;fill-opacity:0.5;stroke:#008000;stroke-linejoin:miter;stroke-opacity:0.5;\" x=\"159.926618\" xlink:href=\"#m7cfc693ab5\" y=\"340.4064\"/>\n     <use style=\"fill:#008000;fill-opacity:0.5;stroke:#008000;stroke-linejoin:miter;stroke-opacity:0.5;\" x=\"186.782233\" xlink:href=\"#m7cfc693ab5\" y=\"313.601111\"/>\n     <use style=\"fill:#008000;fill-opacity:0.5;stroke:#008000;stroke-linejoin:miter;stroke-opacity:0.5;\" x=\"213.637848\" xlink:href=\"#m7cfc693ab5\" y=\"284.134479\"/>\n     <use style=\"fill:#008000;fill-opacity:0.5;stroke:#008000;stroke-linejoin:miter;stroke-opacity:0.5;\" x=\"240.493463\" xlink:href=\"#m7cfc693ab5\" y=\"303.381468\"/>\n     <use style=\"fill:#008000;fill-opacity:0.5;stroke:#008000;stroke-linejoin:miter;stroke-opacity:0.5;\" x=\"267.349078\" xlink:href=\"#m7cfc693ab5\" y=\"287.09387\"/>\n     <use style=\"fill:#008000;fill-opacity:0.5;stroke:#008000;stroke-linejoin:miter;stroke-opacity:0.5;\" x=\"294.204693\" xlink:href=\"#m7cfc693ab5\" y=\"287.753906\"/>\n     <use style=\"fill:#008000;fill-opacity:0.5;stroke:#008000;stroke-linejoin:miter;stroke-opacity:0.5;\" x=\"321.060307\" xlink:href=\"#m7cfc693ab5\" y=\"302.593704\"/>\n     <use style=\"fill:#008000;fill-opacity:0.5;stroke:#008000;stroke-linejoin:miter;stroke-opacity:0.5;\" x=\"347.915922\" xlink:href=\"#m7cfc693ab5\" y=\"278.982065\"/>\n     <use style=\"fill:#008000;fill-opacity:0.5;stroke:#008000;stroke-linejoin:miter;stroke-opacity:0.5;\" x=\"374.771537\" xlink:href=\"#m7cfc693ab5\" y=\"335.23269\"/>\n     <use style=\"fill:#008000;fill-opacity:0.5;stroke:#008000;stroke-linejoin:miter;stroke-opacity:0.5;\" x=\"401.627152\" xlink:href=\"#m7cfc693ab5\" y=\"294.843787\"/>\n     <use style=\"fill:#008000;fill-opacity:0.5;stroke:#008000;stroke-linejoin:miter;stroke-opacity:0.5;\" x=\"428.482767\" xlink:href=\"#m7cfc693ab5\" y=\"320.861312\"/>\n     <use style=\"fill:#008000;fill-opacity:0.5;stroke:#008000;stroke-linejoin:miter;stroke-opacity:0.5;\" x=\"455.338382\" xlink:href=\"#m7cfc693ab5\" y=\"306.064107\"/>\n     <use style=\"fill:#008000;fill-opacity:0.5;stroke:#008000;stroke-linejoin:miter;stroke-opacity:0.5;\" x=\"482.193997\" xlink:href=\"#m7cfc693ab5\" y=\"296.80255\"/>\n     <use style=\"fill:#008000;fill-opacity:0.5;stroke:#008000;stroke-linejoin:miter;stroke-opacity:0.5;\" x=\"509.049612\" xlink:href=\"#m7cfc693ab5\" y=\"287.264241\"/>\n     <use style=\"fill:#008000;fill-opacity:0.5;stroke:#008000;stroke-linejoin:miter;stroke-opacity:0.5;\" x=\"535.905227\" xlink:href=\"#m7cfc693ab5\" y=\"307.38418\"/>\n    </g>\n   </g>\n   <g id=\"patch_3\">\n    <path d=\"M 56.5325 353.9964 \nL 56.5325 55.0164 \n\" style=\"fill:none;stroke:#000000;stroke-linecap:square;stroke-linejoin:miter;stroke-width:0.8;\"/>\n   </g>\n   <g id=\"patch_4\">\n    <path d=\"M 558.7325 353.9964 \nL 558.7325 55.0164 \n\" style=\"fill:none;stroke:#000000;stroke-linecap:square;stroke-linejoin:miter;stroke-width:0.8;\"/>\n   </g>\n   <g id=\"patch_5\">\n    <path d=\"M 56.5325 353.9964 \nL 558.7325 353.9964 \n\" style=\"fill:none;stroke:#000000;stroke-linecap:square;stroke-linejoin:miter;stroke-width:0.8;\"/>\n   </g>\n   <g id=\"patch_6\">\n    <path d=\"M 56.5325 55.0164 \nL 558.7325 55.0164 \n\" style=\"fill:none;stroke:#000000;stroke-linecap:square;stroke-linejoin:miter;stroke-width:0.8;\"/>\n   </g>\n   <g id=\"legend_1\">\n    <g id=\"patch_7\">\n     <path d=\"M 342.621875 46.36875 \nL 473.523125 46.36875 \nQ 475.923125 46.36875 475.923125 43.96875 \nL 475.923125 9.6 \nQ 475.923125 7.2 473.523125 7.2 \nL 342.621875 7.2 \nQ 340.221875 7.2 340.221875 9.6 \nL 340.221875 43.96875 \nQ 340.221875 46.36875 342.621875 46.36875 \nz\n\" style=\"fill:#ffffff;opacity:0.8;stroke:#cccccc;stroke-linejoin:miter;\"/>\n    </g>\n    <g id=\"line2d_19\">\n     <path d=\"M 345.021875 16.918125 \nL 369.021875 16.918125 \n\" style=\"fill:none;stroke:#008000;stroke-linecap:square;stroke-width:1.5;\"/>\n    </g>\n    <g id=\"line2d_20\">\n     <g>\n      <use style=\"fill:#008000;stroke:#008000;\" x=\"357.021875\" xlink:href=\"#m2d15f699d6\" y=\"16.918125\"/>\n     </g>\n    </g>\n    <g id=\"text_19\">\n     <!-- Train Accuracy -->\n     <g transform=\"translate(378.621875 21.118125)scale(0.12 -0.12)\">\n      <defs>\n       <path d=\"M 12.015625 0 \nL 12.984375 5.171875 \nL 22.3125 5.171875 \nL 34.375 67.09375 \nL 12.9375 67.09375 \nL 10.75 55.71875 \nL 4.734375 55.71875 \nL 8.0625 72.90625 \nL 72.796875 72.90625 \nL 69.484375 55.71875 \nL 63.484375 55.71875 \nL 65.671875 67.09375 \nL 44.234375 67.09375 \nL 32.171875 5.171875 \nL 41.5 5.171875 \nL 40.53125 0 \nz\n\" id=\"DejaVuSerif-Italic-84\"/>\n       <path d=\"M 15.765625 68.015625 \nQ 16.21875 70.265625 18.171875 71.921875 \nQ 20.125 73.578125 22.40625 73.578125 \nQ 24.65625 73.578125 25.984375 71.921875 \nQ 27 70.65625 27 69.09375 \nQ 27 68.5625 26.859375 68.015625 \nQ 26.421875 65.71875 24.484375 64.109375 \nQ 22.5625 62.5 20.265625 62.5 \nQ 17.96875 62.5 16.65625 64.109375 \nQ 15.671875 65.328125 15.671875 66.890625 \nQ 15.671875 67.4375 15.765625 68.015625 \nz\nM 15.046875 5.171875 \nL 23.53125 5.171875 \nL 22.5625 0 \nL 5.078125 0 \nL 14.109375 46.6875 \nL 5.515625 46.6875 \nL 6.546875 51.90625 \nL 24.125 51.90625 \nz\n\" id=\"DejaVuSerif-Italic-105\"/>\n       <path d=\"M 7.03125 0 \nL 16.109375 46.6875 \nL 7.515625 46.6875 \nL 8.5 51.90625 \nL 26.078125 51.90625 \nL 24.3125 42.671875 \nQ 27.828125 47.953125 32.3125 50.640625 \nQ 36.8125 53.328125 42.09375 53.328125 \nQ 50.6875 53.328125 53.8125 48.390625 \nQ 55.671875 45.40625 55.671875 40.4375 \nQ 55.671875 37.15625 54.828125 33.015625 \nL 49.421875 5.171875 \nL 57.421875 5.171875 \nL 56.453125 0 \nL 39.40625 0 \nL 45.265625 30.171875 \nQ 46.234375 35.203125 46.234375 38.578125 \nQ 46.234375 41.546875 45.453125 43.265625 \nQ 43.796875 46.78125 37.890625 46.78125 \nQ 31.640625 46.78125 27.484375 42.203125 \nQ 23.34375 37.640625 21.625 28.90625 \nL 16.015625 0 \nz\n\" id=\"DejaVuSerif-Italic-110\"/>\n       <path id=\"DejaVuSerif-Italic-32\"/>\n      </defs>\n      <use xlink:href=\"#DejaVuSerif-Italic-84\"/>\n      <use x=\"66.699219\" xlink:href=\"#DejaVuSerif-Italic-114\"/>\n      <use x=\"114.501953\" xlink:href=\"#DejaVuSerif-Italic-97\"/>\n      <use x=\"174.121094\" xlink:href=\"#DejaVuSerif-Italic-105\"/>\n      <use x=\"206.103516\" xlink:href=\"#DejaVuSerif-Italic-110\"/>\n      <use x=\"270.507812\" xlink:href=\"#DejaVuSerif-Italic-32\"/>\n      <use x=\"302.294922\" xlink:href=\"#DejaVuSerif-Italic-65\"/>\n      <use x=\"374.511719\" xlink:href=\"#DejaVuSerif-Italic-99\"/>\n      <use x=\"430.517578\" xlink:href=\"#DejaVuSerif-Italic-99\"/>\n      <use x=\"486.523438\" xlink:href=\"#DejaVuSerif-Italic-117\"/>\n      <use x=\"550.927734\" xlink:href=\"#DejaVuSerif-Italic-114\"/>\n      <use x=\"598.730469\" xlink:href=\"#DejaVuSerif-Italic-97\"/>\n      <use x=\"658.349609\" xlink:href=\"#DejaVuSerif-Italic-99\"/>\n      <use x=\"714.355469\" xlink:href=\"#DejaVuSerif-Italic-121\"/>\n     </g>\n    </g>\n    <g id=\"line2d_21\">\n     <path d=\"M 345.021875 34.7025 \nL 369.021875 34.7025 \n\" style=\"fill:none;stroke:#008000;stroke-dasharray:5.55,2.4;stroke-dashoffset:0;stroke-opacity:0.5;stroke-width:1.5;\"/>\n    </g>\n    <g id=\"line2d_22\">\n     <g>\n      <use style=\"fill:#008000;fill-opacity:0.5;stroke:#008000;stroke-linejoin:miter;stroke-opacity:0.5;\" x=\"357.021875\" xlink:href=\"#m7cfc693ab5\" y=\"34.7025\"/>\n     </g>\n    </g>\n    <g id=\"text_20\">\n     <!-- Test Accuracy -->\n     <g transform=\"translate(378.621875 38.9025)scale(0.12 -0.12)\">\n      <defs>\n       <path d=\"M 14.65625 19.921875 \nQ 14.453125 18.0625 14.453125 16.40625 \nQ 14.453125 11.8125 16.109375 8.796875 \nQ 19 3.421875 26.703125 3.421875 \nQ 32.375 3.421875 35.15625 5.125 \nQ 40.140625 8.203125 41.3125 12.15625 \nL 47.90625 12.15625 \nQ 45.953125 5.953125 38.671875 1.609375 \nQ 33.59375 -1.421875 23.53125 -1.421875 \nQ 13.484375 -1.421875 8.0625 6.0625 \nQ 4.25 11.28125 4.25 18.84375 \nQ 4.25 22.171875 4.984375 25.921875 \nQ 7.375 38.28125 15.625 45.796875 \nQ 23.875 53.328125 35.59375 53.328125 \nQ 54.6875 53.328125 54.6875 39.796875 \nQ 54.6875 29.890625 44.671875 25.046875 \nQ 34.46875 20.125 14.65625 19.921875 \nz\nM 39.703125 30.859375 \nQ 45.171875 34.078125 45.171875 40.140625 \nQ 45.171875 48.484375 34.078125 48.484375 \nQ 27.546875 48.484375 23 43.5 \nQ 18.453125 38.53125 15.671875 25.09375 \nQ 31.34375 25.828125 39.703125 30.859375 \nz\n\" id=\"DejaVuSerif-Italic-101\"/>\n       <path d=\"M 13.375 46.6875 \nL 5.46875 46.6875 \nL 6.5 51.90625 \nL 14.40625 51.90625 \nL 17.53125 68.015625 \nL 26.5625 68.015625 \nL 23.4375 51.90625 \nL 40.328125 51.90625 \nL 39.3125 46.6875 \nL 22.40625 46.6875 \nL 16.015625 13.71875 \nQ 15.28125 9.859375 15.28125 7.625 \nQ 15.28125 6.0625 15.625 5.28125 \nQ 16.546875 3.421875 19.96875 3.421875 \nQ 23.484375 3.421875 25.515625 5.484375 \nQ 27.546875 7.5625 28.515625 12.203125 \nL 35.296875 12.203125 \nQ 33.546875 5.125 29.4375 1.84375 \nQ 25.34375 -1.421875 18.265625 -1.421875 \nQ 10.5 -1.421875 7.90625 2.046875 \nQ 6.34375 4.15625 6.34375 8.0625 \nQ 6.34375 10.546875 6.984375 13.71875 \nz\n\" id=\"DejaVuSerif-Italic-116\"/>\n      </defs>\n      <use xlink:href=\"#DejaVuSerif-Italic-84\"/>\n      <use x=\"58.949219\" xlink:href=\"#DejaVuSerif-Italic-101\"/>\n      <use x=\"118.128906\" xlink:href=\"#DejaVuSerif-Italic-115\"/>\n      <use x=\"169.447266\" xlink:href=\"#DejaVuSerif-Italic-116\"/>\n      <use x=\"209.632812\" xlink:href=\"#DejaVuSerif-Italic-32\"/>\n      <use x=\"241.419922\" xlink:href=\"#DejaVuSerif-Italic-65\"/>\n      <use x=\"313.636719\" xlink:href=\"#DejaVuSerif-Italic-99\"/>\n      <use x=\"369.642578\" xlink:href=\"#DejaVuSerif-Italic-99\"/>\n      <use x=\"425.648438\" xlink:href=\"#DejaVuSerif-Italic-117\"/>\n      <use x=\"490.052734\" xlink:href=\"#DejaVuSerif-Italic-114\"/>\n      <use x=\"537.855469\" xlink:href=\"#DejaVuSerif-Italic-97\"/>\n      <use x=\"597.474609\" xlink:href=\"#DejaVuSerif-Italic-99\"/>\n      <use x=\"653.480469\" xlink:href=\"#DejaVuSerif-Italic-121\"/>\n     </g>\n    </g>\n   </g>\n  </g>\n  <g id=\"axes_2\">\n   <g id=\"matplotlib.axis_3\">\n    <g id=\"ytick_8\">\n     <g id=\"line2d_23\">\n      <defs>\n       <path d=\"M 0 0 \nL 3.5 0 \n\" id=\"mf9b75d23e9\" style=\"stroke:#000000;stroke-width:0.8;\"/>\n      </defs>\n      <g>\n       <use style=\"stroke:#000000;stroke-width:0.8;\" x=\"558.7325\" xlink:href=\"#mf9b75d23e9\" y=\"302.369331\"/>\n      </g>\n     </g>\n     <g id=\"text_21\">\n      <!-- 0.5 -->\n      <g transform=\"translate(565.7325 306.928394)scale(0.12 -0.12)\">\n       <use xlink:href=\"#DejaVuSerif-Italic-48\"/>\n       <use x=\"63.623047\" xlink:href=\"#DejaVuSerif-Italic-46\"/>\n       <use x=\"95.410156\" xlink:href=\"#DejaVuSerif-Italic-53\"/>\n      </g>\n     </g>\n    </g>\n    <g id=\"ytick_9\">\n     <g id=\"line2d_24\">\n      <g>\n       <use style=\"stroke:#000000;stroke-width:0.8;\" x=\"558.7325\" xlink:href=\"#mf9b75d23e9\" y=\"247.338097\"/>\n      </g>\n     </g>\n     <g id=\"text_22\">\n      <!-- 1.0 -->\n      <g transform=\"translate(565.7325 251.897159)scale(0.12 -0.12)\">\n       <use xlink:href=\"#DejaVuSerif-Italic-49\"/>\n       <use x=\"63.623047\" xlink:href=\"#DejaVuSerif-Italic-46\"/>\n       <use x=\"95.410156\" xlink:href=\"#DejaVuSerif-Italic-48\"/>\n      </g>\n     </g>\n    </g>\n    <g id=\"ytick_10\">\n     <g id=\"line2d_25\">\n      <g>\n       <use style=\"stroke:#000000;stroke-width:0.8;\" x=\"558.7325\" xlink:href=\"#mf9b75d23e9\" y=\"192.306862\"/>\n      </g>\n     </g>\n     <g id=\"text_23\">\n      <!-- 1.5 -->\n      <g transform=\"translate(565.7325 196.865924)scale(0.12 -0.12)\">\n       <use xlink:href=\"#DejaVuSerif-Italic-49\"/>\n       <use x=\"63.623047\" xlink:href=\"#DejaVuSerif-Italic-46\"/>\n       <use x=\"95.410156\" xlink:href=\"#DejaVuSerif-Italic-53\"/>\n      </g>\n     </g>\n    </g>\n    <g id=\"ytick_11\">\n     <g id=\"line2d_26\">\n      <g>\n       <use style=\"stroke:#000000;stroke-width:0.8;\" x=\"558.7325\" xlink:href=\"#mf9b75d23e9\" y=\"137.275627\"/>\n      </g>\n     </g>\n     <g id=\"text_24\">\n      <!-- 2.0 -->\n      <g transform=\"translate(565.7325 141.83469)scale(0.12 -0.12)\">\n       <use xlink:href=\"#DejaVuSerif-Italic-50\"/>\n       <use x=\"63.623047\" xlink:href=\"#DejaVuSerif-Italic-46\"/>\n       <use x=\"95.410156\" xlink:href=\"#DejaVuSerif-Italic-48\"/>\n      </g>\n     </g>\n    </g>\n    <g id=\"ytick_12\">\n     <g id=\"line2d_27\">\n      <g>\n       <use style=\"stroke:#000000;stroke-width:0.8;\" x=\"558.7325\" xlink:href=\"#mf9b75d23e9\" y=\"82.244393\"/>\n      </g>\n     </g>\n     <g id=\"text_25\">\n      <!-- 2.5 -->\n      <g transform=\"translate(565.7325 86.803455)scale(0.12 -0.12)\">\n       <use xlink:href=\"#DejaVuSerif-Italic-50\"/>\n       <use x=\"63.623047\" xlink:href=\"#DejaVuSerif-Italic-46\"/>\n       <use x=\"95.410156\" xlink:href=\"#DejaVuSerif-Italic-53\"/>\n      </g>\n     </g>\n    </g>\n    <g id=\"text_26\">\n     <!-- Loss -->\n     <g transform=\"translate(599.454063 220.552806)rotate(-90)scale(0.14 -0.14)\">\n      <defs>\n       <path d=\"M -1.515625 0 \nL -0.53125 5.171875 \nL 8.734375 5.171875 \nL 20.90625 67.671875 \nL 11.625 67.671875 \nL 12.640625 72.90625 \nL 41.109375 72.90625 \nL 40.09375 67.671875 \nL 30.8125 67.671875 \nL 18.84375 6 \nL 52.15625 6 \nL 54.5 18.21875 \nL 60.5 18.21875 \nL 56.984375 0 \nz\n\" id=\"DejaVuSerif-Italic-76\"/>\n      </defs>\n      <use xlink:href=\"#DejaVuSerif-Italic-76\"/>\n      <use x=\"66.40625\" xlink:href=\"#DejaVuSerif-Italic-111\"/>\n      <use x=\"126.611328\" xlink:href=\"#DejaVuSerif-Italic-115\"/>\n      <use x=\"177.929688\" xlink:href=\"#DejaVuSerif-Italic-115\"/>\n     </g>\n    </g>\n   </g>\n   <g id=\"line2d_28\">\n    <path clip-path=\"url(#pa21c980de0)\" d=\"M 79.359773 281.14055 \nL 106.215388 324.039511 \nL 133.071003 328.66854 \nL 159.926618 331.136548 \nL 186.782233 335.093878 \nL 213.637848 336.100313 \nL 240.493463 337.143261 \nL 267.349078 337.456312 \nL 294.204693 338.706294 \nL 321.060307 338.819517 \nL 347.915922 339.878319 \nL 374.771537 339.776831 \nL 401.627152 340.171775 \nL 428.482767 340.299934 \nL 455.338382 340.234889 \nL 482.193997 340.4064 \nL 509.049612 340.282736 \nL 535.905227 340.391976 \n\" style=\"fill:none;stroke:#0000ff;stroke-linecap:square;stroke-width:1.5;\"/>\n    <defs>\n     <path d=\"M 0 3 \nC 0.795609 3 1.55874 2.683901 2.12132 2.12132 \nC 2.683901 1.55874 3 0.795609 3 0 \nC 3 -0.795609 2.683901 -1.55874 2.12132 -2.12132 \nC 1.55874 -2.683901 0.795609 -3 0 -3 \nC -0.795609 -3 -1.55874 -2.683901 -2.12132 -2.12132 \nC -2.683901 -1.55874 -3 -0.795609 -3 0 \nC -3 0.795609 -2.683901 1.55874 -2.12132 2.12132 \nC -1.55874 2.683901 -0.795609 3 0 3 \nz\n\" id=\"m3c5746d81f\" style=\"stroke:#0000ff;\"/>\n    </defs>\n    <g clip-path=\"url(#pa21c980de0)\">\n     <use style=\"fill:#0000ff;stroke:#0000ff;\" x=\"79.359773\" xlink:href=\"#m3c5746d81f\" y=\"281.14055\"/>\n     <use style=\"fill:#0000ff;stroke:#0000ff;\" x=\"106.215388\" xlink:href=\"#m3c5746d81f\" y=\"324.039511\"/>\n     <use style=\"fill:#0000ff;stroke:#0000ff;\" x=\"133.071003\" xlink:href=\"#m3c5746d81f\" y=\"328.66854\"/>\n     <use style=\"fill:#0000ff;stroke:#0000ff;\" x=\"159.926618\" xlink:href=\"#m3c5746d81f\" y=\"331.136548\"/>\n     <use style=\"fill:#0000ff;stroke:#0000ff;\" x=\"186.782233\" xlink:href=\"#m3c5746d81f\" y=\"335.093878\"/>\n     <use style=\"fill:#0000ff;stroke:#0000ff;\" x=\"213.637848\" xlink:href=\"#m3c5746d81f\" y=\"336.100313\"/>\n     <use style=\"fill:#0000ff;stroke:#0000ff;\" x=\"240.493463\" xlink:href=\"#m3c5746d81f\" y=\"337.143261\"/>\n     <use style=\"fill:#0000ff;stroke:#0000ff;\" x=\"267.349078\" xlink:href=\"#m3c5746d81f\" y=\"337.456312\"/>\n     <use style=\"fill:#0000ff;stroke:#0000ff;\" x=\"294.204693\" xlink:href=\"#m3c5746d81f\" y=\"338.706294\"/>\n     <use style=\"fill:#0000ff;stroke:#0000ff;\" x=\"321.060307\" xlink:href=\"#m3c5746d81f\" y=\"338.819517\"/>\n     <use style=\"fill:#0000ff;stroke:#0000ff;\" x=\"347.915922\" xlink:href=\"#m3c5746d81f\" y=\"339.878319\"/>\n     <use style=\"fill:#0000ff;stroke:#0000ff;\" x=\"374.771537\" xlink:href=\"#m3c5746d81f\" y=\"339.776831\"/>\n     <use style=\"fill:#0000ff;stroke:#0000ff;\" x=\"401.627152\" xlink:href=\"#m3c5746d81f\" y=\"340.171775\"/>\n     <use style=\"fill:#0000ff;stroke:#0000ff;\" x=\"428.482767\" xlink:href=\"#m3c5746d81f\" y=\"340.299934\"/>\n     <use style=\"fill:#0000ff;stroke:#0000ff;\" x=\"455.338382\" xlink:href=\"#m3c5746d81f\" y=\"340.234889\"/>\n     <use style=\"fill:#0000ff;stroke:#0000ff;\" x=\"482.193997\" xlink:href=\"#m3c5746d81f\" y=\"340.4064\"/>\n     <use style=\"fill:#0000ff;stroke:#0000ff;\" x=\"509.049612\" xlink:href=\"#m3c5746d81f\" y=\"340.282736\"/>\n     <use style=\"fill:#0000ff;stroke:#0000ff;\" x=\"535.905227\" xlink:href=\"#m3c5746d81f\" y=\"340.391976\"/>\n    </g>\n   </g>\n   <g id=\"line2d_29\">\n    <path clip-path=\"url(#pa21c980de0)\" d=\"M 79.359773 185.489532 \nL 106.215388 191.76496 \nL 133.071003 153.939738 \nL 159.926618 130.996906 \nL 186.782233 150.209142 \nL 213.637848 170.454354 \nL 240.493463 129.185625 \nL 267.349078 134.387313 \nL 294.204693 136.705648 \nL 321.060307 111.656967 \nL 347.915922 138.221167 \nL 374.771537 68.6064 \nL 401.627152 108.912926 \nL 428.482767 75.032779 \nL 455.338382 96.909114 \nL 482.193997 103.782272 \nL 509.049612 115.384204 \nL 535.905227 89.974763 \n\" style=\"fill:none;stroke:#0000ff;stroke-dasharray:5.55,2.4;stroke-dashoffset:0;stroke-opacity:0.5;stroke-width:1.5;\"/>\n    <defs>\n     <path d=\"M -0 4.242641 \nL 2.545584 0 \nL 0 -4.242641 \nL -2.545584 -0 \nz\n\" id=\"mb93430c44d\" style=\"stroke:#0000ff;stroke-linejoin:miter;stroke-opacity:0.5;\"/>\n    </defs>\n    <g clip-path=\"url(#pa21c980de0)\">\n     <use style=\"fill:#0000ff;fill-opacity:0.5;stroke:#0000ff;stroke-linejoin:miter;stroke-opacity:0.5;\" x=\"79.359773\" xlink:href=\"#mb93430c44d\" y=\"185.489532\"/>\n     <use style=\"fill:#0000ff;fill-opacity:0.5;stroke:#0000ff;stroke-linejoin:miter;stroke-opacity:0.5;\" x=\"106.215388\" xlink:href=\"#mb93430c44d\" y=\"191.76496\"/>\n     <use style=\"fill:#0000ff;fill-opacity:0.5;stroke:#0000ff;stroke-linejoin:miter;stroke-opacity:0.5;\" x=\"133.071003\" xlink:href=\"#mb93430c44d\" y=\"153.939738\"/>\n     <use style=\"fill:#0000ff;fill-opacity:0.5;stroke:#0000ff;stroke-linejoin:miter;stroke-opacity:0.5;\" x=\"159.926618\" xlink:href=\"#mb93430c44d\" y=\"130.996906\"/>\n     <use style=\"fill:#0000ff;fill-opacity:0.5;stroke:#0000ff;stroke-linejoin:miter;stroke-opacity:0.5;\" x=\"186.782233\" xlink:href=\"#mb93430c44d\" y=\"150.209142\"/>\n     <use style=\"fill:#0000ff;fill-opacity:0.5;stroke:#0000ff;stroke-linejoin:miter;stroke-opacity:0.5;\" x=\"213.637848\" xlink:href=\"#mb93430c44d\" y=\"170.454354\"/>\n     <use style=\"fill:#0000ff;fill-opacity:0.5;stroke:#0000ff;stroke-linejoin:miter;stroke-opacity:0.5;\" x=\"240.493463\" xlink:href=\"#mb93430c44d\" y=\"129.185625\"/>\n     <use style=\"fill:#0000ff;fill-opacity:0.5;stroke:#0000ff;stroke-linejoin:miter;stroke-opacity:0.5;\" x=\"267.349078\" xlink:href=\"#mb93430c44d\" y=\"134.387313\"/>\n     <use style=\"fill:#0000ff;fill-opacity:0.5;stroke:#0000ff;stroke-linejoin:miter;stroke-opacity:0.5;\" x=\"294.204693\" xlink:href=\"#mb93430c44d\" y=\"136.705648\"/>\n     <use style=\"fill:#0000ff;fill-opacity:0.5;stroke:#0000ff;stroke-linejoin:miter;stroke-opacity:0.5;\" x=\"321.060307\" xlink:href=\"#mb93430c44d\" y=\"111.656967\"/>\n     <use style=\"fill:#0000ff;fill-opacity:0.5;stroke:#0000ff;stroke-linejoin:miter;stroke-opacity:0.5;\" x=\"347.915922\" xlink:href=\"#mb93430c44d\" y=\"138.221167\"/>\n     <use style=\"fill:#0000ff;fill-opacity:0.5;stroke:#0000ff;stroke-linejoin:miter;stroke-opacity:0.5;\" x=\"374.771537\" xlink:href=\"#mb93430c44d\" y=\"68.6064\"/>\n     <use style=\"fill:#0000ff;fill-opacity:0.5;stroke:#0000ff;stroke-linejoin:miter;stroke-opacity:0.5;\" x=\"401.627152\" xlink:href=\"#mb93430c44d\" y=\"108.912926\"/>\n     <use style=\"fill:#0000ff;fill-opacity:0.5;stroke:#0000ff;stroke-linejoin:miter;stroke-opacity:0.5;\" x=\"428.482767\" xlink:href=\"#mb93430c44d\" y=\"75.032779\"/>\n     <use style=\"fill:#0000ff;fill-opacity:0.5;stroke:#0000ff;stroke-linejoin:miter;stroke-opacity:0.5;\" x=\"455.338382\" xlink:href=\"#mb93430c44d\" y=\"96.909114\"/>\n     <use style=\"fill:#0000ff;fill-opacity:0.5;stroke:#0000ff;stroke-linejoin:miter;stroke-opacity:0.5;\" x=\"482.193997\" xlink:href=\"#mb93430c44d\" y=\"103.782272\"/>\n     <use style=\"fill:#0000ff;fill-opacity:0.5;stroke:#0000ff;stroke-linejoin:miter;stroke-opacity:0.5;\" x=\"509.049612\" xlink:href=\"#mb93430c44d\" y=\"115.384204\"/>\n     <use style=\"fill:#0000ff;fill-opacity:0.5;stroke:#0000ff;stroke-linejoin:miter;stroke-opacity:0.5;\" x=\"535.905227\" xlink:href=\"#mb93430c44d\" y=\"89.974763\"/>\n    </g>\n   </g>\n   <g id=\"patch_8\">\n    <path d=\"M 56.5325 353.9964 \nL 56.5325 55.0164 \n\" style=\"fill:none;stroke:#000000;stroke-linecap:square;stroke-linejoin:miter;stroke-width:0.8;\"/>\n   </g>\n   <g id=\"patch_9\">\n    <path d=\"M 558.7325 353.9964 \nL 558.7325 55.0164 \n\" style=\"fill:none;stroke:#000000;stroke-linecap:square;stroke-linejoin:miter;stroke-width:0.8;\"/>\n   </g>\n   <g id=\"patch_10\">\n    <path d=\"M 56.5325 353.9964 \nL 558.7325 353.9964 \n\" style=\"fill:none;stroke:#000000;stroke-linecap:square;stroke-linejoin:miter;stroke-width:0.8;\"/>\n   </g>\n   <g id=\"patch_11\">\n    <path d=\"M 56.5325 55.0164 \nL 558.7325 55.0164 \n\" style=\"fill:none;stroke:#000000;stroke-linecap:square;stroke-linejoin:miter;stroke-width:0.8;\"/>\n   </g>\n   <g id=\"legend_2\">\n    <g id=\"patch_12\">\n     <path d=\"M 156.100625 46.0275 \nL 258.284375 46.0275 \nQ 260.684375 46.0275 260.684375 43.6275 \nL 260.684375 9.6 \nQ 260.684375 7.2 258.284375 7.2 \nL 156.100625 7.2 \nQ 153.700625 7.2 153.700625 9.6 \nL 153.700625 43.6275 \nQ 153.700625 46.0275 156.100625 46.0275 \nz\n\" style=\"fill:#ffffff;opacity:0.8;stroke:#cccccc;stroke-linejoin:miter;\"/>\n    </g>\n    <g id=\"line2d_30\">\n     <path d=\"M 158.500625 16.918125 \nL 182.500625 16.918125 \n\" style=\"fill:none;stroke:#0000ff;stroke-linecap:square;stroke-width:1.5;\"/>\n    </g>\n    <g id=\"line2d_31\">\n     <g>\n      <use style=\"fill:#0000ff;stroke:#0000ff;\" x=\"170.500625\" xlink:href=\"#m3c5746d81f\" y=\"16.918125\"/>\n     </g>\n    </g>\n    <g id=\"text_27\">\n     <!-- Train Loss -->\n     <g transform=\"translate(192.100625 21.118125)scale(0.12 -0.12)\">\n      <use xlink:href=\"#DejaVuSerif-Italic-84\"/>\n      <use x=\"66.699219\" xlink:href=\"#DejaVuSerif-Italic-114\"/>\n      <use x=\"114.501953\" xlink:href=\"#DejaVuSerif-Italic-97\"/>\n      <use x=\"174.121094\" xlink:href=\"#DejaVuSerif-Italic-105\"/>\n      <use x=\"206.103516\" xlink:href=\"#DejaVuSerif-Italic-110\"/>\n      <use x=\"270.507812\" xlink:href=\"#DejaVuSerif-Italic-32\"/>\n      <use x=\"302.294922\" xlink:href=\"#DejaVuSerif-Italic-76\"/>\n      <use x=\"368.701172\" xlink:href=\"#DejaVuSerif-Italic-111\"/>\n      <use x=\"428.90625\" xlink:href=\"#DejaVuSerif-Italic-115\"/>\n      <use x=\"480.224609\" xlink:href=\"#DejaVuSerif-Italic-115\"/>\n     </g>\n    </g>\n    <g id=\"line2d_32\">\n     <path d=\"M 158.500625 34.531875 \nL 182.500625 34.531875 \n\" style=\"fill:none;stroke:#0000ff;stroke-dasharray:5.55,2.4;stroke-dashoffset:0;stroke-opacity:0.5;stroke-width:1.5;\"/>\n    </g>\n    <g id=\"line2d_33\">\n     <g>\n      <use style=\"fill:#0000ff;fill-opacity:0.5;stroke:#0000ff;stroke-linejoin:miter;stroke-opacity:0.5;\" x=\"170.500625\" xlink:href=\"#mb93430c44d\" y=\"34.531875\"/>\n     </g>\n    </g>\n    <g id=\"text_28\">\n     <!-- Test Loss -->\n     <g transform=\"translate(192.100625 38.731875)scale(0.12 -0.12)\">\n      <use xlink:href=\"#DejaVuSerif-Italic-84\"/>\n      <use x=\"58.949219\" xlink:href=\"#DejaVuSerif-Italic-101\"/>\n      <use x=\"118.128906\" xlink:href=\"#DejaVuSerif-Italic-115\"/>\n      <use x=\"169.447266\" xlink:href=\"#DejaVuSerif-Italic-116\"/>\n      <use x=\"209.632812\" xlink:href=\"#DejaVuSerif-Italic-32\"/>\n      <use x=\"241.419922\" xlink:href=\"#DejaVuSerif-Italic-76\"/>\n      <use x=\"307.826172\" xlink:href=\"#DejaVuSerif-Italic-111\"/>\n      <use x=\"368.03125\" xlink:href=\"#DejaVuSerif-Italic-115\"/>\n      <use x=\"419.349609\" xlink:href=\"#DejaVuSerif-Italic-115\"/>\n     </g>\n    </g>\n   </g>\n  </g>\n </g>\n <defs>\n  <clipPath id=\"pa21c980de0\">\n   <rect height=\"298.98\" width=\"502.2\" x=\"56.5325\" y=\"55.0164\"/>\n  </clipPath>\n </defs>\n</svg>\n",
            "image/png": "[encoded data removed]"
          },
          "metadata": {
            "needs_background": "light"
          }
        }
      ],
      "source": [
        "get_plots(logdd.epoch, logdd.accuracy, logdd.val_accuracy,logdd.loss,logdd.val_loss,2)"
      ]
    },
    {
      "cell_type": "code",
      "execution_count": null,
      "metadata": {},
      "outputs": [],
      "source": []
    },
    {
      "cell_type": "code",
      "metadata": {
        "id": "U9soVBQIW-Qm"
      },
      "source": [
        "initializer = tf.keras.initializers.he_normal()  # Layer initializations\n",
        "BASE_DIR = Path(\"/root/Master-Thesis/code\")\n",
        "MNIST_M_PATH = BASE_DIR / Path(\"data/keras_mnistm.pkl\")\n",
        "OFFICE_DS_PATH = BASE_DIR / Path(\"data/office/\")\n",
        "LOGS_DIR = BASE_DIR / Path(\"logs/\")  # Logs path\n",
        "MODEL_PATH = BASE_DIR / Path(\"model_data/\")  # Model path\n",
        "EVALUATION = BASE_DIR / Path(\"evaluation/\")  # Evalaution plots path\n",
        "PRETRAINED_WEIGHTS = BASE_DIR / Path(\"pretrained_weights\")\n",
        "AUTOTUNE = tf.data.experimental.AUTOTUNE\n",
        "DATASET_COMBINATION = {\n",
        "    \"Amazon_to_Webcam\": 1,\n",
        "    \"Amazon_to_DSLR\": 2,\n",
        "    \"Webcam_to_Amazon\": 3,\n",
        "    \"Webcam_to_DSLR\": 4,\n",
        "    \"DSLR_to_Amazon\": 5,\n",
        "    \"DSLR_to_Webcam\": 6,\n",
        "    \"MNIST_to_MNISTM\": 7,\n",
        "    \"MNISTM_to_MNIST\": 8,\n",
        "    \"SynSigns_to_GTSRB\": 9,\n",
        "    \"GTSRB_to_SynSigns\": 10,\n",
        "}\n",
        "\n",
        "Loss = {1: \"CORAL\", 2: \"Other\"}\n",
        "\n",
        "# pruning_params = {\n",
        "#     \"pruning_schedule\": tfmot.sparsity.keras.ConstantSparsity(\n",
        "#         0.20, 0, end_step=-1, frequency=1\n",
        "#     )\n",
        "# }\n"
      ],
      "execution_count": 9,
      "outputs": []
    },
    {
      "cell_type": "markdown",
      "metadata": {
        "id": "4PP2h7ibZIvs"
      },
      "source": [
        "## Preprocessing"
      ]
    },
    {
      "cell_type": "code",
      "metadata": {
        "id": "grPjg57GnKuH"
      },
      "source": [
        "source_directory = OFFICE_DS_PATH / \"amazon\"\n",
        "target_directory = OFFICE_DS_PATH / \"webcam\""
      ],
      "execution_count": 10,
      "outputs": []
    },
    {
      "cell_type": "code",
      "execution_count": 11,
      "metadata": {},
      "outputs": [
        {
          "output_type": "execute_result",
          "data": {
            "text/plain": [
              "PosixPath('/root/Master-Thesis/code/data/office/amazon')"
            ]
          },
          "metadata": {},
          "execution_count": 11
        }
      ],
      "source": [
        "source_directory"
      ]
    },
    {
      "cell_type": "code",
      "metadata": {
        "id": "xMC-rFm0m7CS"
      },
      "source": [
        "# def create_paths(path):\n",
        "#     all_image_paths = [str(path) for path in list(path.glob(\"*/*\"))]\n",
        "#     label_names = sorted(item.name for item in path.glob(\"*/\") if item.is_dir())\n",
        "#     label_to_index = dict((name, index) for index, name in enumerate(label_names))\n",
        "\n",
        "#     all_image_labels = [\n",
        "#         label_to_index[Path(path).parent.name] for path in all_image_paths\n",
        "#     ]\n",
        "\n",
        "#     return all_image_paths, all_image_labels"
      ],
      "execution_count": 7,
      "outputs": []
    },
    {
      "cell_type": "code",
      "metadata": {
        "id": "zOgS3dfdn65y"
      },
      "source": [
        "# source_images_list, source_labels_list = create_paths(source_directory)\n",
        "# target_images_list, target_labels_list = create_paths(target_directory)"
      ],
      "execution_count": 8,
      "outputs": []
    },
    {
      "cell_type": "code",
      "metadata": {
        "id": "-NFW9AuUoRgC"
      },
      "source": [
        "# def read_images(file, label):\n",
        "#     image = tf.io.read_file(file)\n",
        "#     image = tf.image.decode_jpeg(image, channels=3)\n",
        "#     image = tf.cast(image, tf.float32)\n",
        "#     image = tf.keras.applications.vgg16.preprocess_input(image)\n",
        "#     image = tf.image.resize(image, [227, 227], method=\"nearest\")\n",
        "#     # image = image / 255.0\n",
        "#     return image, label"
      ],
      "execution_count": 9,
      "outputs": []
    },
    {
      "cell_type": "code",
      "execution_count": 12,
      "metadata": {},
      "outputs": [
        {
          "output_type": "stream",
          "name": "stdout",
          "text": [
            "Found 2817 files belonging to 31 classes.\n"
          ]
        }
      ],
      "source": [
        "source_ds = tf.keras.preprocessing.image_dataset_from_directory(\n",
        "  source_directory,\n",
        "  validation_split=0,\n",
        "  image_size=(227, 227),\n",
        "  batch_size=16,\n",
        "  labels=\"inferred\",\n",
        "  interpolation=\"nearest\",\n",
        "  label_mode = \"categorical\")"
      ]
    },
    {
      "cell_type": "code",
      "execution_count": 13,
      "metadata": {},
      "outputs": [
        {
          "output_type": "execute_result",
          "data": {
            "text/plain": [
              "['back_pack',\n",
              " 'bike',\n",
              " 'bike_helmet',\n",
              " 'bookcase',\n",
              " 'bottle',\n",
              " 'calculator',\n",
              " 'desk_chair',\n",
              " 'desk_lamp',\n",
              " 'desktop_computer',\n",
              " 'file_cabinet',\n",
              " 'headphones',\n",
              " 'keyboard',\n",
              " 'laptop_computer',\n",
              " 'letter_tray',\n",
              " 'mobile_phone',\n",
              " 'monitor',\n",
              " 'mouse',\n",
              " 'mug',\n",
              " 'paper_notebook',\n",
              " 'pen',\n",
              " 'phone',\n",
              " 'printer',\n",
              " 'projector',\n",
              " 'punchers',\n",
              " 'ring_binder',\n",
              " 'ruler',\n",
              " 'scissors',\n",
              " 'speaker',\n",
              " 'stapler',\n",
              " 'tape_dispenser',\n",
              " 'trash_can']"
            ]
          },
          "metadata": {},
          "execution_count": 13
        }
      ],
      "source": [
        "source_ds.class_names"
      ]
    },
    {
      "cell_type": "code",
      "execution_count": 72,
      "metadata": {},
      "outputs": [
        {
          "output_type": "display_data",
          "data": {
            "text/plain": "<Figure size 720x720 with 1 Axes>",
            "image/svg+xml": "<?xml version=\"1.0\" encoding=\"utf-8\" standalone=\"no\"?>\n<!DOCTYPE svg PUBLIC \"-//W3C//DTD SVG 1.1//EN\"\n  \"http://www.w3.org/Graphics/SVG/1.1/DTD/svg11.dtd\">\n<!-- Created with matplotlib (https://matplotlib.org/) -->\n<svg height=\"174.282353pt\" version=\"1.1\" viewBox=\"0 0 174.282353 174.282353\" width=\"174.282353pt\" xmlns=\"http://www.w3.org/2000/svg\" xmlns:xlink=\"http://www.w3.org/1999/xlink\">\n <metadata>\n  <rdf:RDF xmlns:cc=\"http://creativecommons.org/ns#\" xmlns:dc=\"http://purl.org/dc/elements/1.1/\" xmlns:rdf=\"http://www.w3.org/1999/02/22-rdf-syntax-ns#\">\n   <cc:Work>\n    <dc:type rdf:resource=\"http://purl.org/dc/dcmitype/StillImage\"/>\n    <dc:date>2021-01-24T11:37:03.317750</dc:date>\n    <dc:format>image/svg+xml</dc:format>\n    <dc:creator>\n     <cc:Agent>\n      <dc:title>Matplotlib v3.3.3, https://matplotlib.org/</dc:title>\n     </cc:Agent>\n    </dc:creator>\n   </cc:Work>\n  </rdf:RDF>\n </metadata>\n <defs>\n  <style type=\"text/css\">*{stroke-linecap:butt;stroke-linejoin:round;}</style>\n </defs>\n <g id=\"figure_1\">\n  <g id=\"patch_1\">\n   <path d=\"M 0 174.282353 \nL 174.282353 174.282353 \nL 174.282353 0 \nL 0 0 \nz\n\" style=\"fill:none;\"/>\n  </g>\n  <g id=\"axes_1\">\n   <g clip-path=\"url(#pe26d39b410)\">\n    <image height=\"160\" id=\"imagea40f4ba0ef\" transform=\"scale(1 -1)translate(0 -160)\" width=\"160\" x=\"7.2\" xlink:href=\"data:image/png;base64,\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\" y=\"-7.082353\"/>\n   </g>\n  </g>\n </g>\n <defs>\n  <clipPath id=\"pe26d39b410\">\n   <rect height=\"159.882353\" width=\"159.882353\" x=\"7.2\" y=\"7.2\"/>\n  </clipPath>\n </defs>\n</svg>\n",
            "image/png": "[encoded data removed]"
          },
          "metadata": {
            "needs_background": "light"
          }
        }
      ],
      "source": [
        "import matplotlib.pyplot as plt\n",
        "\n",
        "plt.figure(figsize=(10, 10))\n",
        "for images, labels in source_ds.take(1):\n",
        "  for i in range(1):\n",
        "    ax = plt.subplot(3, 3, i + 1)\n",
        "    plt.imshow(images[i].numpy().astype(\"uint8\"))\n",
        "    # plt.title(source_ds.class_names[labels[i]])\n",
        "    plt.axis(\"off\")"
      ]
    },
    {
      "cell_type": "code",
      "metadata": {
        "id": "SRWaA5eQYCU8"
      },
      "source": [
        "def augment_ds(image, label):\n",
        "\n",
        "    # Make Images Greyscale\n",
        "    image = tf.cond(\n",
        "        tf.random.uniform(shape=[], minval=0, maxval=1) < 0.4,\n",
        "        lambda: tf.tile(tf.image.rgb_to_grayscale(image), [1, 1, 1, 3]),\n",
        "        lambda: image,\n",
        "    )\n",
        "\n",
        "    # Adding Gaussian Noise\n",
        "    noise = tf.random.normal(\n",
        "        shape=tf.shape(image), mean=0.0, stddev=1, dtype=tf.float32\n",
        "    )\n",
        "    image = tf.cond(\n",
        "        tf.random.uniform(shape=[], minval=0, maxval=1) < 0.4,\n",
        "        lambda: tf.add(image, noise),\n",
        "        lambda: image,\n",
        "    )\n",
        "\n",
        "    # Colour Augmentations\n",
        "    image = tf.image.random_hue(image, 0.08)\n",
        "    image = tf.image.random_saturation(image, 2, 5)\n",
        "    image = tf.image.random_brightness(image, max_delta=0.4)\n",
        "    image = tf.image.random_contrast(image, lower=0.7, upper=1.3)\n",
        "\n",
        "    # Rotating Images\n",
        "    image = tf.cond(\n",
        "        tf.random.uniform(shape=[], minval=0, maxval=1) < 0.4,\n",
        "        lambda: tf.image.rot90(image, k=1),\n",
        "        lambda: tf.image.rot90(image, k=3),\n",
        "    )\n",
        "\n",
        "    # Flipping Images\n",
        "    image = tf.image.random_flip_left_right(image)\n",
        "    image = tf.image.random_flip_up_down(image)\n",
        "\n",
        "    return image, label"
      ],
      "execution_count": 8,
      "outputs": []
    },
    {
      "cell_type": "code",
      "execution_count": 9,
      "metadata": {},
      "outputs": [],
      "source": [
        "def preprocess(image, label):\n",
        "    # Cast to float32\n",
        "    image = tf.cast(image, tf.float32)\n",
        "    image = tf.keras.applications.vgg16.preprocess_input(image)\n",
        "    image = image / 255.0\n",
        "\n",
        "    return image, label"
      ]
    },
    {
      "cell_type": "code",
      "execution_count": 10,
      "metadata": {},
      "outputs": [],
      "source": [
        "def read_images(source_directory, batch_size, new_size):\n",
        "    ds = tf.keras.preprocessing.image_dataset_from_directory(\n",
        "        source_directory,\n",
        "        labels=\"inferred\",\n",
        "        label_mode=\"int\",  # categorical, binary\n",
        "        batch_size=batch_size,\n",
        "        image_size=(new_size, new_size),  # reshape if not in this size\n",
        "        shuffle=True,\n",
        "    )\n",
        "    return ds"
      ]
    },
    {
      "cell_type": "code",
      "execution_count": 31,
      "metadata": {},
      "outputs": [
        {
          "output_type": "stream",
          "name": "stdout",
          "text": [
            "Found 2817 files belonging to 31 classes.\n"
          ]
        }
      ],
      "source": [
        "source_ds = read_images(source_directory, 16, 227)"
      ]
    },
    {
      "cell_type": "code",
      "execution_count": 12,
      "metadata": {},
      "outputs": [
        {
          "output_type": "execute_result",
          "data": {
            "text/plain": [
              "177"
            ]
          },
          "metadata": {},
          "execution_count": 12
        }
      ],
      "source": [
        "source_ds.cardinality().numpy()"
      ]
    },
    {
      "cell_type": "code",
      "execution_count": 13,
      "metadata": {},
      "outputs": [],
      "source": [
        "source_ds= source_ds.map(preprocess, num_parallel_calls=tf.data.experimental.AUTOTUNE)"
      ]
    },
    {
      "cell_type": "code",
      "execution_count": 14,
      "metadata": {},
      "outputs": [],
      "source": [
        "source_ds = source_ds.map(augment_ds, num_parallel_calls=AUTOTUNE)"
      ]
    },
    {
      "cell_type": "code",
      "execution_count": 32,
      "metadata": {},
      "outputs": [],
      "source": [
        "aa = next(iter(source_ds))"
      ]
    },
    {
      "cell_type": "code",
      "execution_count": 34,
      "metadata": {},
      "outputs": [],
      "source": [
        "a1 = tf.keras.applications.xception.preprocess_input(aa[0])"
      ]
    },
    {
      "cell_type": "code",
      "execution_count": 37,
      "metadata": {},
      "outputs": [
        {
          "output_type": "execute_result",
          "data": {
            "text/plain": [
              "-1.0"
            ]
          },
          "metadata": {},
          "execution_count": 37
        }
      ],
      "source": [
        "np.min(np.array(a1))"
      ]
    },
    {
      "cell_type": "code",
      "execution_count": 16,
      "metadata": {},
      "outputs": [
        {
          "output_type": "stream",
          "name": "stdout",
          "text": [
            "Found 795 files belonging to 31 classes.\n"
          ]
        }
      ],
      "source": [
        "target_ds_original = tf.keras.preprocessing.image_dataset_from_directory(\n",
        "  target_directory,\n",
        "  validation_split=0,\n",
        "  image_size=(227, 227),\n",
        "  batch_size=16,\n",
        "  labels=\"inferred\",\n",
        "  interpolation=\"nearest\",\n",
        "  label_mode = \"categorical\")"
      ]
    },
    {
      "cell_type": "code",
      "metadata": {
        "id": "Wws4HoY4YdJ8"
      },
      "source": [
        "target_ds = target_ds_original.repeat(4)"
      ],
      "execution_count": 17,
      "outputs": []
    },
    {
      "cell_type": "code",
      "execution_count": 18,
      "metadata": {},
      "outputs": [],
      "source": [
        "target_ds = target_ds.map(preprocess).unbatch()\n",
        "# target_ds = target_ds.map(preprocess).cache().shuffle(795).unbatch()"
      ]
    },
    {
      "cell_type": "code",
      "execution_count": 19,
      "metadata": {},
      "outputs": [
        {
          "output_type": "execute_result",
          "data": {
            "text/plain": [
              "<_UnbatchDataset shapes: ((227, 227, 3), (31,)), types: (tf.float32, tf.float32)>"
            ]
          },
          "metadata": {},
          "execution_count": 19
        }
      ],
      "source": [
        "target_ds"
      ]
    },
    {
      "cell_type": "code",
      "metadata": {
        "id": "3lrW-PsvoUsz"
      },
      "source": [
        "  source_images, target_images, source_labels, target_labels = [], [], [], []\n",
        "  for x, y in tf.data.Dataset.zip((source_ds, target_ds)):\n",
        "      source_images.append(x[0])\n",
        "      target_images.append(y[0])\n",
        "      source_labels.append(x[1])\n",
        "      target_labels.append(y[1])\n",
        "\n",
        "  ds_train = tf.data.Dataset.from_tensor_slices(\n",
        "        ((source_images, target_images), source_labels)\n",
        "    )\n",
        "  ds_train = ds_train.batch(32).prefetch(buffer_size=AUTOTUNE)\n"
      ],
      "execution_count": 20,
      "outputs": [
        {
          "output_type": "error",
          "ename": "InvalidArgumentError",
          "evalue": "Shapes of all inputs must match: values[0].shape = [16,227,227,3] != values[176].shape = [1,227,227,3] [Op:Pack] name: component_0",
          "traceback": [
            "\u001b[0;31m---------------------------------------------------------------------------\u001b[0m",
            "\u001b[0;31mInvalidArgumentError\u001b[0m                      Traceback (most recent call last)",
            "\u001b[0;32m<ipython-input-20-6660158018de>\u001b[0m in \u001b[0;36m<module>\u001b[0;34m\u001b[0m\n\u001b[1;32m      6\u001b[0m     \u001b[0mtarget_labels\u001b[0m\u001b[0;34m.\u001b[0m\u001b[0mappend\u001b[0m\u001b[0;34m(\u001b[0m\u001b[0my\u001b[0m\u001b[0;34m[\u001b[0m\u001b[0;36m1\u001b[0m\u001b[0;34m]\u001b[0m\u001b[0;34m)\u001b[0m\u001b[0;34m\u001b[0m\u001b[0;34m\u001b[0m\u001b[0m\n\u001b[1;32m      7\u001b[0m \u001b[0;34m\u001b[0m\u001b[0m\n\u001b[0;32m----> 8\u001b[0;31m ds_train = tf.data.Dataset.from_tensor_slices(\n\u001b[0m\u001b[1;32m      9\u001b[0m       \u001b[0;34m(\u001b[0m\u001b[0;34m(\u001b[0m\u001b[0msource_images\u001b[0m\u001b[0;34m,\u001b[0m \u001b[0mtarget_images\u001b[0m\u001b[0;34m)\u001b[0m\u001b[0;34m,\u001b[0m \u001b[0msource_labels\u001b[0m\u001b[0;34m)\u001b[0m\u001b[0;34m\u001b[0m\u001b[0;34m\u001b[0m\u001b[0m\n\u001b[1;32m     10\u001b[0m   )\n",
            "\u001b[0;32m/opt/conda/envs/tf/lib/python3.8/site-packages/tensorflow/python/data/ops/dataset_ops.py\u001b[0m in \u001b[0;36mfrom_tensor_slices\u001b[0;34m(tensors)\u001b[0m\n\u001b[1;32m    680\u001b[0m       \u001b[0mDataset\u001b[0m\u001b[0;34m:\u001b[0m \u001b[0mA\u001b[0m\u001b[0;31m \u001b[0m\u001b[0;31m`\u001b[0m\u001b[0mDataset\u001b[0m\u001b[0;31m`\u001b[0m\u001b[0;34m.\u001b[0m\u001b[0;34m\u001b[0m\u001b[0;34m\u001b[0m\u001b[0m\n\u001b[1;32m    681\u001b[0m     \"\"\"\n\u001b[0;32m--> 682\u001b[0;31m     \u001b[0;32mreturn\u001b[0m \u001b[0mTensorSliceDataset\u001b[0m\u001b[0;34m(\u001b[0m\u001b[0mtensors\u001b[0m\u001b[0;34m)\u001b[0m\u001b[0;34m\u001b[0m\u001b[0;34m\u001b[0m\u001b[0m\n\u001b[0m\u001b[1;32m    683\u001b[0m \u001b[0;34m\u001b[0m\u001b[0m\n\u001b[1;32m    684\u001b[0m   \u001b[0;32mclass\u001b[0m \u001b[0m_GeneratorState\u001b[0m\u001b[0;34m(\u001b[0m\u001b[0mobject\u001b[0m\u001b[0;34m)\u001b[0m\u001b[0;34m:\u001b[0m\u001b[0;34m\u001b[0m\u001b[0;34m\u001b[0m\u001b[0m\n",
            "\u001b[0;32m/opt/conda/envs/tf/lib/python3.8/site-packages/tensorflow/python/data/ops/dataset_ops.py\u001b[0m in \u001b[0;36m__init__\u001b[0;34m(self, element)\u001b[0m\n\u001b[1;32m   2999\u001b[0m   \u001b[0;32mdef\u001b[0m \u001b[0m__init__\u001b[0m\u001b[0;34m(\u001b[0m\u001b[0mself\u001b[0m\u001b[0;34m,\u001b[0m \u001b[0melement\u001b[0m\u001b[0;34m)\u001b[0m\u001b[0;34m:\u001b[0m\u001b[0;34m\u001b[0m\u001b[0;34m\u001b[0m\u001b[0m\n\u001b[1;32m   3000\u001b[0m     \u001b[0;34m\"\"\"See `Dataset.from_tensor_slices()` for details.\"\"\"\u001b[0m\u001b[0;34m\u001b[0m\u001b[0;34m\u001b[0m\u001b[0m\n\u001b[0;32m-> 3001\u001b[0;31m     \u001b[0melement\u001b[0m \u001b[0;34m=\u001b[0m \u001b[0mstructure\u001b[0m\u001b[0;34m.\u001b[0m\u001b[0mnormalize_element\u001b[0m\u001b[0;34m(\u001b[0m\u001b[0melement\u001b[0m\u001b[0;34m)\u001b[0m\u001b[0;34m\u001b[0m\u001b[0;34m\u001b[0m\u001b[0m\n\u001b[0m\u001b[1;32m   3002\u001b[0m     \u001b[0mbatched_spec\u001b[0m \u001b[0;34m=\u001b[0m \u001b[0mstructure\u001b[0m\u001b[0;34m.\u001b[0m\u001b[0mtype_spec_from_value\u001b[0m\u001b[0;34m(\u001b[0m\u001b[0melement\u001b[0m\u001b[0;34m)\u001b[0m\u001b[0;34m\u001b[0m\u001b[0;34m\u001b[0m\u001b[0m\n\u001b[1;32m   3003\u001b[0m     \u001b[0mself\u001b[0m\u001b[0;34m.\u001b[0m\u001b[0m_tensors\u001b[0m \u001b[0;34m=\u001b[0m \u001b[0mstructure\u001b[0m\u001b[0;34m.\u001b[0m\u001b[0mto_batched_tensor_list\u001b[0m\u001b[0;34m(\u001b[0m\u001b[0mbatched_spec\u001b[0m\u001b[0;34m,\u001b[0m \u001b[0melement\u001b[0m\u001b[0;34m)\u001b[0m\u001b[0;34m\u001b[0m\u001b[0;34m\u001b[0m\u001b[0m\n",
            "\u001b[0;32m/opt/conda/envs/tf/lib/python3.8/site-packages/tensorflow/python/data/util/structure.py\u001b[0m in \u001b[0;36mnormalize_element\u001b[0;34m(element)\u001b[0m\n\u001b[1;32m    113\u001b[0m         \u001b[0;32melse\u001b[0m\u001b[0;34m:\u001b[0m\u001b[0;34m\u001b[0m\u001b[0;34m\u001b[0m\u001b[0m\n\u001b[1;32m    114\u001b[0m           normalized_components.append(\n\u001b[0;32m--> 115\u001b[0;31m               ops.convert_to_tensor(t, name=\"component_%d\" % i))\n\u001b[0m\u001b[1;32m    116\u001b[0m   \u001b[0;32mreturn\u001b[0m \u001b[0mnest\u001b[0m\u001b[0;34m.\u001b[0m\u001b[0mpack_sequence_as\u001b[0m\u001b[0;34m(\u001b[0m\u001b[0melement\u001b[0m\u001b[0;34m,\u001b[0m \u001b[0mnormalized_components\u001b[0m\u001b[0;34m)\u001b[0m\u001b[0;34m\u001b[0m\u001b[0;34m\u001b[0m\u001b[0m\n\u001b[1;32m    117\u001b[0m \u001b[0;34m\u001b[0m\u001b[0m\n",
            "\u001b[0;32m/opt/conda/envs/tf/lib/python3.8/site-packages/tensorflow/python/framework/ops.py\u001b[0m in \u001b[0;36mconvert_to_tensor\u001b[0;34m(value, dtype, name, as_ref, preferred_dtype, dtype_hint, ctx, accepted_result_types)\u001b[0m\n\u001b[1;32m   1497\u001b[0m \u001b[0;34m\u001b[0m\u001b[0m\n\u001b[1;32m   1498\u001b[0m     \u001b[0;32mif\u001b[0m \u001b[0mret\u001b[0m \u001b[0;32mis\u001b[0m \u001b[0;32mNone\u001b[0m\u001b[0;34m:\u001b[0m\u001b[0;34m\u001b[0m\u001b[0;34m\u001b[0m\u001b[0m\n\u001b[0;32m-> 1499\u001b[0;31m       \u001b[0mret\u001b[0m \u001b[0;34m=\u001b[0m \u001b[0mconversion_func\u001b[0m\u001b[0;34m(\u001b[0m\u001b[0mvalue\u001b[0m\u001b[0;34m,\u001b[0m \u001b[0mdtype\u001b[0m\u001b[0;34m=\u001b[0m\u001b[0mdtype\u001b[0m\u001b[0;34m,\u001b[0m \u001b[0mname\u001b[0m\u001b[0;34m=\u001b[0m\u001b[0mname\u001b[0m\u001b[0;34m,\u001b[0m \u001b[0mas_ref\u001b[0m\u001b[0;34m=\u001b[0m\u001b[0mas_ref\u001b[0m\u001b[0;34m)\u001b[0m\u001b[0;34m\u001b[0m\u001b[0;34m\u001b[0m\u001b[0m\n\u001b[0m\u001b[1;32m   1500\u001b[0m \u001b[0;34m\u001b[0m\u001b[0m\n\u001b[1;32m   1501\u001b[0m     \u001b[0;32mif\u001b[0m \u001b[0mret\u001b[0m \u001b[0;32mis\u001b[0m \u001b[0mNotImplemented\u001b[0m\u001b[0;34m:\u001b[0m\u001b[0;34m\u001b[0m\u001b[0;34m\u001b[0m\u001b[0m\n",
            "\u001b[0;32m/opt/conda/envs/tf/lib/python3.8/site-packages/tensorflow/python/ops/array_ops.py\u001b[0m in \u001b[0;36m_autopacking_conversion_function\u001b[0;34m(v, dtype, name, as_ref)\u001b[0m\n\u001b[1;32m   1500\u001b[0m   \u001b[0;32melif\u001b[0m \u001b[0mdtype\u001b[0m \u001b[0;34m!=\u001b[0m \u001b[0minferred_dtype\u001b[0m\u001b[0;34m:\u001b[0m\u001b[0;34m\u001b[0m\u001b[0;34m\u001b[0m\u001b[0m\n\u001b[1;32m   1501\u001b[0m     \u001b[0mv\u001b[0m \u001b[0;34m=\u001b[0m \u001b[0mnest\u001b[0m\u001b[0;34m.\u001b[0m\u001b[0mmap_structure\u001b[0m\u001b[0;34m(\u001b[0m\u001b[0m_cast_nested_seqs_to_dtype\u001b[0m\u001b[0;34m(\u001b[0m\u001b[0mdtype\u001b[0m\u001b[0;34m)\u001b[0m\u001b[0;34m,\u001b[0m \u001b[0mv\u001b[0m\u001b[0;34m)\u001b[0m\u001b[0;34m\u001b[0m\u001b[0;34m\u001b[0m\u001b[0m\n\u001b[0;32m-> 1502\u001b[0;31m   \u001b[0;32mreturn\u001b[0m \u001b[0m_autopacking_helper\u001b[0m\u001b[0;34m(\u001b[0m\u001b[0mv\u001b[0m\u001b[0;34m,\u001b[0m \u001b[0mdtype\u001b[0m\u001b[0;34m,\u001b[0m \u001b[0mname\u001b[0m \u001b[0;32mor\u001b[0m \u001b[0;34m\"packed\"\u001b[0m\u001b[0;34m)\u001b[0m\u001b[0;34m\u001b[0m\u001b[0;34m\u001b[0m\u001b[0m\n\u001b[0m\u001b[1;32m   1503\u001b[0m \u001b[0;34m\u001b[0m\u001b[0m\n\u001b[1;32m   1504\u001b[0m \u001b[0;34m\u001b[0m\u001b[0m\n",
            "\u001b[0;32m/opt/conda/envs/tf/lib/python3.8/site-packages/tensorflow/python/ops/array_ops.py\u001b[0m in \u001b[0;36m_autopacking_helper\u001b[0;34m(list_or_tuple, dtype, name)\u001b[0m\n\u001b[1;32m   1406\u001b[0m     \u001b[0;31m# checking.\u001b[0m\u001b[0;34m\u001b[0m\u001b[0;34m\u001b[0m\u001b[0;34m\u001b[0m\u001b[0m\n\u001b[1;32m   1407\u001b[0m     \u001b[0;32mif\u001b[0m \u001b[0mall\u001b[0m\u001b[0;34m(\u001b[0m\u001b[0misinstance\u001b[0m\u001b[0;34m(\u001b[0m\u001b[0melem\u001b[0m\u001b[0;34m,\u001b[0m \u001b[0mcore\u001b[0m\u001b[0;34m.\u001b[0m\u001b[0mTensor\u001b[0m\u001b[0;34m)\u001b[0m \u001b[0;32mfor\u001b[0m \u001b[0melem\u001b[0m \u001b[0;32min\u001b[0m \u001b[0mlist_or_tuple\u001b[0m\u001b[0;34m)\u001b[0m\u001b[0;34m:\u001b[0m\u001b[0;34m\u001b[0m\u001b[0;34m\u001b[0m\u001b[0m\n\u001b[0;32m-> 1408\u001b[0;31m       \u001b[0;32mreturn\u001b[0m \u001b[0mgen_array_ops\u001b[0m\u001b[0;34m.\u001b[0m\u001b[0mpack\u001b[0m\u001b[0;34m(\u001b[0m\u001b[0mlist_or_tuple\u001b[0m\u001b[0;34m,\u001b[0m \u001b[0mname\u001b[0m\u001b[0;34m=\u001b[0m\u001b[0mname\u001b[0m\u001b[0;34m)\u001b[0m\u001b[0;34m\u001b[0m\u001b[0;34m\u001b[0m\u001b[0m\n\u001b[0m\u001b[1;32m   1409\u001b[0m   \u001b[0mmust_pack\u001b[0m \u001b[0;34m=\u001b[0m \u001b[0;32mFalse\u001b[0m\u001b[0;34m\u001b[0m\u001b[0;34m\u001b[0m\u001b[0m\n\u001b[1;32m   1410\u001b[0m   \u001b[0mconverted_elems\u001b[0m \u001b[0;34m=\u001b[0m \u001b[0;34m[\u001b[0m\u001b[0;34m]\u001b[0m\u001b[0;34m\u001b[0m\u001b[0;34m\u001b[0m\u001b[0m\n",
            "\u001b[0;32m/opt/conda/envs/tf/lib/python3.8/site-packages/tensorflow/python/ops/gen_array_ops.py\u001b[0m in \u001b[0;36mpack\u001b[0;34m(values, axis, name)\u001b[0m\n\u001b[1;32m   6457\u001b[0m       \u001b[0;32mreturn\u001b[0m \u001b[0m_result\u001b[0m\u001b[0;34m\u001b[0m\u001b[0;34m\u001b[0m\u001b[0m\n\u001b[1;32m   6458\u001b[0m     \u001b[0;32mexcept\u001b[0m \u001b[0m_core\u001b[0m\u001b[0;34m.\u001b[0m\u001b[0m_NotOkStatusException\u001b[0m \u001b[0;32mas\u001b[0m \u001b[0me\u001b[0m\u001b[0;34m:\u001b[0m\u001b[0;34m\u001b[0m\u001b[0;34m\u001b[0m\u001b[0m\n\u001b[0;32m-> 6459\u001b[0;31m       \u001b[0m_ops\u001b[0m\u001b[0;34m.\u001b[0m\u001b[0mraise_from_not_ok_status\u001b[0m\u001b[0;34m(\u001b[0m\u001b[0me\u001b[0m\u001b[0;34m,\u001b[0m \u001b[0mname\u001b[0m\u001b[0;34m)\u001b[0m\u001b[0;34m\u001b[0m\u001b[0;34m\u001b[0m\u001b[0m\n\u001b[0m\u001b[1;32m   6460\u001b[0m     \u001b[0;32mexcept\u001b[0m \u001b[0m_core\u001b[0m\u001b[0;34m.\u001b[0m\u001b[0m_FallbackException\u001b[0m\u001b[0;34m:\u001b[0m\u001b[0;34m\u001b[0m\u001b[0;34m\u001b[0m\u001b[0m\n\u001b[1;32m   6461\u001b[0m       \u001b[0;32mpass\u001b[0m\u001b[0;34m\u001b[0m\u001b[0;34m\u001b[0m\u001b[0m\n",
            "\u001b[0;32m/opt/conda/envs/tf/lib/python3.8/site-packages/tensorflow/python/framework/ops.py\u001b[0m in \u001b[0;36mraise_from_not_ok_status\u001b[0;34m(e, name)\u001b[0m\n\u001b[1;32m   6841\u001b[0m   \u001b[0mmessage\u001b[0m \u001b[0;34m=\u001b[0m \u001b[0me\u001b[0m\u001b[0;34m.\u001b[0m\u001b[0mmessage\u001b[0m \u001b[0;34m+\u001b[0m \u001b[0;34m(\u001b[0m\u001b[0;34m\" name: \"\u001b[0m \u001b[0;34m+\u001b[0m \u001b[0mname\u001b[0m \u001b[0;32mif\u001b[0m \u001b[0mname\u001b[0m \u001b[0;32mis\u001b[0m \u001b[0;32mnot\u001b[0m \u001b[0;32mNone\u001b[0m \u001b[0;32melse\u001b[0m \u001b[0;34m\"\"\u001b[0m\u001b[0;34m)\u001b[0m\u001b[0;34m\u001b[0m\u001b[0;34m\u001b[0m\u001b[0m\n\u001b[1;32m   6842\u001b[0m   \u001b[0;31m# pylint: disable=protected-access\u001b[0m\u001b[0;34m\u001b[0m\u001b[0;34m\u001b[0m\u001b[0;34m\u001b[0m\u001b[0m\n\u001b[0;32m-> 6843\u001b[0;31m   \u001b[0msix\u001b[0m\u001b[0;34m.\u001b[0m\u001b[0mraise_from\u001b[0m\u001b[0;34m(\u001b[0m\u001b[0mcore\u001b[0m\u001b[0;34m.\u001b[0m\u001b[0m_status_to_exception\u001b[0m\u001b[0;34m(\u001b[0m\u001b[0me\u001b[0m\u001b[0;34m.\u001b[0m\u001b[0mcode\u001b[0m\u001b[0;34m,\u001b[0m \u001b[0mmessage\u001b[0m\u001b[0;34m)\u001b[0m\u001b[0;34m,\u001b[0m \u001b[0;32mNone\u001b[0m\u001b[0;34m)\u001b[0m\u001b[0;34m\u001b[0m\u001b[0;34m\u001b[0m\u001b[0m\n\u001b[0m\u001b[1;32m   6844\u001b[0m   \u001b[0;31m# pylint: enable=protected-access\u001b[0m\u001b[0;34m\u001b[0m\u001b[0;34m\u001b[0m\u001b[0;34m\u001b[0m\u001b[0m\n\u001b[1;32m   6845\u001b[0m \u001b[0;34m\u001b[0m\u001b[0m\n",
            "\u001b[0;32m/opt/conda/envs/tf/lib/python3.8/site-packages/six.py\u001b[0m in \u001b[0;36mraise_from\u001b[0;34m(value, from_value)\u001b[0m\n",
            "\u001b[0;31mInvalidArgumentError\u001b[0m: Shapes of all inputs must match: values[0].shape = [16,227,227,3] != values[176].shape = [1,227,227,3] [Op:Pack] name: component_0"
          ]
        }
      ]
    },
    {
      "cell_type": "code",
      "execution_count": 23,
      "metadata": {},
      "outputs": [],
      "source": []
    },
    {
      "cell_type": "code",
      "execution_count": null,
      "metadata": {},
      "outputs": [],
      "source": [
        "aa[1].shape"
      ]
    },
    {
      "cell_type": "code",
      "metadata": {
        "id": "Exnlh_2LPCiy"
      },
      "source": [
        "x1, y1 = [], []\n",
        "for x, y in target_ds_original.map(preprocess, num_parallel_calls=AUTOTUNE).unbatch():\n",
        "    x1.append(x)\n",
        "    y1.append(y)\n"
      ],
      "execution_count": null,
      "outputs": []
    },
    {
      "cell_type": "code",
      "execution_count": null,
      "metadata": {},
      "outputs": [],
      "source": [
        "ds_test = (\n",
        "    tf.data.Dataset.from_tensor_slices(((x1, x1), y1))\n",
        "    .batch(32)\n",
        "    .prefetch(buffer_size=AUTOTUNE)\n",
        ")\n"
      ]
    },
    {
      "cell_type": "code",
      "execution_count": null,
      "metadata": {},
      "outputs": [],
      "source": [
        "bb = next(iter(ds_test))"
      ]
    },
    {
      "cell_type": "code",
      "metadata": {
        "id": "bkih0UI2Y8Hk"
      },
      "source": [
        "train_count = [x for x in ds_train]\r\n",
        "print(f\"Batch count of training set: {str(len(train_count))}\")\r\n",
        "\r\n",
        "test_count = [x for x in ds_test]\r\n",
        "print(f\"Batch count of test set: {str(len(test_count))}\")"
      ],
      "execution_count": 29,
      "outputs": [
        {
          "output_type": "stream",
          "name": "stdout",
          "text": [
            "Batch count of training set: 89\n",
            "Batch count of test set: 25\n"
          ]
        }
      ]
    },
    {
      "cell_type": "markdown",
      "metadata": {
        "id": "YK9lhFsYvRCO"
      },
      "source": [
        "## Methods"
      ]
    },
    {
      "cell_type": "code",
      "execution_count": 29,
      "metadata": {},
      "outputs": [],
      "source": [
        "\n",
        "\n",
        "base_model = tf.keras.applications.Xception(\n",
        "    include_top=False, weights=\"imagenet\", input_shape=(299,299,3), pooling=\"avg\"\n",
        ")"
      ]
    },
    {
      "cell_type": "code",
      "execution_count": 30,
      "metadata": {
        "tags": [
          "outputPrepend"
        ]
      },
      "outputs": [
        {
          "output_type": "stream",
          "name": "stdout",
          "text": [
            "act[0][0]        \n__________________________________________________________________________________________________\nblock5_sepconv1_bn (BatchNormal (None, 19, 19, 728)  2912        block5_sepconv1[0][0]            \n__________________________________________________________________________________________________\nblock5_sepconv2_act (Activation (None, 19, 19, 728)  0           block5_sepconv1_bn[0][0]         \n__________________________________________________________________________________________________\nblock5_sepconv2 (SeparableConv2 (None, 19, 19, 728)  536536      block5_sepconv2_act[0][0]        \n__________________________________________________________________________________________________\nblock5_sepconv2_bn (BatchNormal (None, 19, 19, 728)  2912        block5_sepconv2[0][0]            \n__________________________________________________________________________________________________\nblock5_sepconv3_act (Activation (None, 19, 19, 728)  0           block5_sepconv2_bn[0][0]         \n__________________________________________________________________________________________________\nblock5_sepconv3 (SeparableConv2 (None, 19, 19, 728)  536536      block5_sepconv3_act[0][0]        \n__________________________________________________________________________________________________\nblock5_sepconv3_bn (BatchNormal (None, 19, 19, 728)  2912        block5_sepconv3[0][0]            \n__________________________________________________________________________________________________\nadd_27 (Add)                    (None, 19, 19, 728)  0           block5_sepconv3_bn[0][0]         \n                                                                 add_26[0][0]                     \n__________________________________________________________________________________________________\nblock6_sepconv1_act (Activation (None, 19, 19, 728)  0           add_27[0][0]                     \n__________________________________________________________________________________________________\nblock6_sepconv1 (SeparableConv2 (None, 19, 19, 728)  536536      block6_sepconv1_act[0][0]        \n__________________________________________________________________________________________________\nblock6_sepconv1_bn (BatchNormal (None, 19, 19, 728)  2912        block6_sepconv1[0][0]            \n__________________________________________________________________________________________________\nblock6_sepconv2_act (Activation (None, 19, 19, 728)  0           block6_sepconv1_bn[0][0]         \n__________________________________________________________________________________________________\nblock6_sepconv2 (SeparableConv2 (None, 19, 19, 728)  536536      block6_sepconv2_act[0][0]        \n__________________________________________________________________________________________________\nblock6_sepconv2_bn (BatchNormal (None, 19, 19, 728)  2912        block6_sepconv2[0][0]            \n__________________________________________________________________________________________________\nblock6_sepconv3_act (Activation (None, 19, 19, 728)  0           block6_sepconv2_bn[0][0]         \n__________________________________________________________________________________________________\nblock6_sepconv3 (SeparableConv2 (None, 19, 19, 728)  536536      block6_sepconv3_act[0][0]        \n__________________________________________________________________________________________________\nblock6_sepconv3_bn (BatchNormal (None, 19, 19, 728)  2912        block6_sepconv3[0][0]            \n__________________________________________________________________________________________________\nadd_28 (Add)                    (None, 19, 19, 728)  0           block6_sepconv3_bn[0][0]         \n                                                                 add_27[0][0]                     \n__________________________________________________________________________________________________\nblock7_sepconv1_act (Activation (None, 19, 19, 728)  0           add_28[0][0]                     \n__________________________________________________________________________________________________\nblock7_sepconv1 (SeparableConv2 (None, 19, 19, 728)  536536      block7_sepconv1_act[0][0]        \n__________________________________________________________________________________________________\nblock7_sepconv1_bn (BatchNormal (None, 19, 19, 728)  2912        block7_sepconv1[0][0]            \n__________________________________________________________________________________________________\nblock7_sepconv2_act (Activation (None, 19, 19, 728)  0           block7_sepconv1_bn[0][0]         \n__________________________________________________________________________________________________\nblock7_sepconv2 (SeparableConv2 (None, 19, 19, 728)  536536      block7_sepconv2_act[0][0]        \n__________________________________________________________________________________________________\nblock7_sepconv2_bn (BatchNormal (None, 19, 19, 728)  2912        block7_sepconv2[0][0]            \n__________________________________________________________________________________________________\nblock7_sepconv3_act (Activation (None, 19, 19, 728)  0           block7_sepconv2_bn[0][0]         \n__________________________________________________________________________________________________\nblock7_sepconv3 (SeparableConv2 (None, 19, 19, 728)  536536      block7_sepconv3_act[0][0]        \n__________________________________________________________________________________________________\nblock7_sepconv3_bn (BatchNormal (None, 19, 19, 728)  2912        block7_sepconv3[0][0]            \n__________________________________________________________________________________________________\nadd_29 (Add)                    (None, 19, 19, 728)  0           block7_sepconv3_bn[0][0]         \n                                                                 add_28[0][0]                     \n__________________________________________________________________________________________________\nblock8_sepconv1_act (Activation (None, 19, 19, 728)  0           add_29[0][0]                     \n__________________________________________________________________________________________________\nblock8_sepconv1 (SeparableConv2 (None, 19, 19, 728)  536536      block8_sepconv1_act[0][0]        \n__________________________________________________________________________________________________\nblock8_sepconv1_bn (BatchNormal (None, 19, 19, 728)  2912        block8_sepconv1[0][0]            \n__________________________________________________________________________________________________\nblock8_sepconv2_act (Activation (None, 19, 19, 728)  0           block8_sepconv1_bn[0][0]         \n__________________________________________________________________________________________________\nblock8_sepconv2 (SeparableConv2 (None, 19, 19, 728)  536536      block8_sepconv2_act[0][0]        \n__________________________________________________________________________________________________\nblock8_sepconv2_bn (BatchNormal (None, 19, 19, 728)  2912        block8_sepconv2[0][0]            \n__________________________________________________________________________________________________\nblock8_sepconv3_act (Activation (None, 19, 19, 728)  0           block8_sepconv2_bn[0][0]         \n__________________________________________________________________________________________________\nblock8_sepconv3 (SeparableConv2 (None, 19, 19, 728)  536536      block8_sepconv3_act[0][0]        \n__________________________________________________________________________________________________\nblock8_sepconv3_bn (BatchNormal (None, 19, 19, 728)  2912        block8_sepconv3[0][0]            \n__________________________________________________________________________________________________\nadd_30 (Add)                    (None, 19, 19, 728)  0           block8_sepconv3_bn[0][0]         \n                                                                 add_29[0][0]                     \n__________________________________________________________________________________________________\nblock9_sepconv1_act (Activation (None, 19, 19, 728)  0           add_30[0][0]                     \n__________________________________________________________________________________________________\nblock9_sepconv1 (SeparableConv2 (None, 19, 19, 728)  536536      block9_sepconv1_act[0][0]        \n__________________________________________________________________________________________________\nblock9_sepconv1_bn (BatchNormal (None, 19, 19, 728)  2912        block9_sepconv1[0][0]            \n__________________________________________________________________________________________________\nblock9_sepconv2_act (Activation (None, 19, 19, 728)  0           block9_sepconv1_bn[0][0]         \n__________________________________________________________________________________________________\nblock9_sepconv2 (SeparableConv2 (None, 19, 19, 728)  536536      block9_sepconv2_act[0][0]        \n__________________________________________________________________________________________________\nblock9_sepconv2_bn (BatchNormal (None, 19, 19, 728)  2912        block9_sepconv2[0][0]            \n__________________________________________________________________________________________________\nblock9_sepconv3_act (Activation (None, 19, 19, 728)  0           block9_sepconv2_bn[0][0]         \n__________________________________________________________________________________________________\nblock9_sepconv3 (SeparableConv2 (None, 19, 19, 728)  536536      block9_sepconv3_act[0][0]        \n__________________________________________________________________________________________________\nblock9_sepconv3_bn (BatchNormal (None, 19, 19, 728)  2912        block9_sepconv3[0][0]            \n__________________________________________________________________________________________________\nadd_31 (Add)                    (None, 19, 19, 728)  0           block9_sepconv3_bn[0][0]         \n                                                                 add_30[0][0]                     \n__________________________________________________________________________________________________\nblock10_sepconv1_act (Activatio (None, 19, 19, 728)  0           add_31[0][0]                     \n__________________________________________________________________________________________________\nblock10_sepconv1 (SeparableConv (None, 19, 19, 728)  536536      block10_sepconv1_act[0][0]       \n__________________________________________________________________________________________________\nblock10_sepconv1_bn (BatchNorma (None, 19, 19, 728)  2912        block10_sepconv1[0][0]           \n__________________________________________________________________________________________________\nblock10_sepconv2_act (Activatio (None, 19, 19, 728)  0           block10_sepconv1_bn[0][0]        \n__________________________________________________________________________________________________\nblock10_sepconv2 (SeparableConv (None, 19, 19, 728)  536536      block10_sepconv2_act[0][0]       \n__________________________________________________________________________________________________\nblock10_sepconv2_bn (BatchNorma (None, 19, 19, 728)  2912        block10_sepconv2[0][0]           \n__________________________________________________________________________________________________\nblock10_sepconv3_act (Activatio (None, 19, 19, 728)  0           block10_sepconv2_bn[0][0]        \n__________________________________________________________________________________________________\nblock10_sepconv3 (SeparableConv (None, 19, 19, 728)  536536      block10_sepconv3_act[0][0]       \n__________________________________________________________________________________________________\nblock10_sepconv3_bn (BatchNorma (None, 19, 19, 728)  2912        block10_sepconv3[0][0]           \n__________________________________________________________________________________________________\nadd_32 (Add)                    (None, 19, 19, 728)  0           block10_sepconv3_bn[0][0]        \n                                                                 add_31[0][0]                     \n__________________________________________________________________________________________________\nblock11_sepconv1_act (Activatio (None, 19, 19, 728)  0           add_32[0][0]                     \n__________________________________________________________________________________________________\nblock11_sepconv1 (SeparableConv (None, 19, 19, 728)  536536      block11_sepconv1_act[0][0]       \n__________________________________________________________________________________________________\nblock11_sepconv1_bn (BatchNorma (None, 19, 19, 728)  2912        block11_sepconv1[0][0]           \n__________________________________________________________________________________________________\nblock11_sepconv2_act (Activatio (None, 19, 19, 728)  0           block11_sepconv1_bn[0][0]        \n__________________________________________________________________________________________________\nblock11_sepconv2 (SeparableConv (None, 19, 19, 728)  536536      block11_sepconv2_act[0][0]       \n__________________________________________________________________________________________________\nblock11_sepconv2_bn (BatchNorma (None, 19, 19, 728)  2912        block11_sepconv2[0][0]           \n__________________________________________________________________________________________________\nblock11_sepconv3_act (Activatio (None, 19, 19, 728)  0           block11_sepconv2_bn[0][0]        \n__________________________________________________________________________________________________\nblock11_sepconv3 (SeparableConv (None, 19, 19, 728)  536536      block11_sepconv3_act[0][0]       \n__________________________________________________________________________________________________\nblock11_sepconv3_bn (BatchNorma (None, 19, 19, 728)  2912        block11_sepconv3[0][0]           \n__________________________________________________________________________________________________\nadd_33 (Add)                    (None, 19, 19, 728)  0           block11_sepconv3_bn[0][0]        \n                                                                 add_32[0][0]                     \n__________________________________________________________________________________________________\nblock12_sepconv1_act (Activatio (None, 19, 19, 728)  0           add_33[0][0]                     \n__________________________________________________________________________________________________\nblock12_sepconv1 (SeparableConv (None, 19, 19, 728)  536536      block12_sepconv1_act[0][0]       \n__________________________________________________________________________________________________\nblock12_sepconv1_bn (BatchNorma (None, 19, 19, 728)  2912        block12_sepconv1[0][0]           \n__________________________________________________________________________________________________\nblock12_sepconv2_act (Activatio (None, 19, 19, 728)  0           block12_sepconv1_bn[0][0]        \n__________________________________________________________________________________________________\nblock12_sepconv2 (SeparableConv (None, 19, 19, 728)  536536      block12_sepconv2_act[0][0]       \n__________________________________________________________________________________________________\nblock12_sepconv2_bn (BatchNorma (None, 19, 19, 728)  2912        block12_sepconv2[0][0]           \n__________________________________________________________________________________________________\nblock12_sepconv3_act (Activatio (None, 19, 19, 728)  0           block12_sepconv2_bn[0][0]        \n__________________________________________________________________________________________________\nblock12_sepconv3 (SeparableConv (None, 19, 19, 728)  536536      block12_sepconv3_act[0][0]       \n__________________________________________________________________________________________________\nblock12_sepconv3_bn (BatchNorma (None, 19, 19, 728)  2912        block12_sepconv3[0][0]           \n__________________________________________________________________________________________________\nadd_34 (Add)                    (None, 19, 19, 728)  0           block12_sepconv3_bn[0][0]        \n                                                                 add_33[0][0]                     \n__________________________________________________________________________________________________\nblock13_sepconv1_act (Activatio (None, 19, 19, 728)  0           add_34[0][0]                     \n__________________________________________________________________________________________________\nblock13_sepconv1 (SeparableConv (None, 19, 19, 728)  536536      block13_sepconv1_act[0][0]       \n__________________________________________________________________________________________________\nblock13_sepconv1_bn (BatchNorma (None, 19, 19, 728)  2912        block13_sepconv1[0][0]           \n__________________________________________________________________________________________________\nblock13_sepconv2_act (Activatio (None, 19, 19, 728)  0           block13_sepconv1_bn[0][0]        \n__________________________________________________________________________________________________\nblock13_sepconv2 (SeparableConv (None, 19, 19, 1024) 752024      block13_sepconv2_act[0][0]       \n__________________________________________________________________________________________________\nblock13_sepconv2_bn (BatchNorma (None, 19, 19, 1024) 4096        block13_sepconv2[0][0]           \n__________________________________________________________________________________________________\nconv2d_11 (Conv2D)              (None, 10, 10, 1024) 745472      add_34[0][0]                     \n__________________________________________________________________________________________________\nblock13_pool (MaxPooling2D)     (None, 10, 10, 1024) 0           block13_sepconv2_bn[0][0]        \n__________________________________________________________________________________________________\nbatch_normalization_11 (BatchNo (None, 10, 10, 1024) 4096        conv2d_11[0][0]                  \n__________________________________________________________________________________________________\nadd_35 (Add)                    (None, 10, 10, 1024) 0           block13_pool[0][0]               \n                                                                 batch_normalization_11[0][0]     \n__________________________________________________________________________________________________\nblock14_sepconv1 (SeparableConv (None, 10, 10, 1536) 1582080     add_35[0][0]                     \n__________________________________________________________________________________________________\nblock14_sepconv1_bn (BatchNorma (None, 10, 10, 1536) 6144        block14_sepconv1[0][0]           \n__________________________________________________________________________________________________\nblock14_sepconv1_act (Activatio (None, 10, 10, 1536) 0           block14_sepconv1_bn[0][0]        \n__________________________________________________________________________________________________\nblock14_sepconv2 (SeparableConv (None, 10, 10, 2048) 3159552     block14_sepconv1_act[0][0]       \n__________________________________________________________________________________________________\nblock14_sepconv2_bn (BatchNorma (None, 10, 10, 2048) 8192        block14_sepconv2[0][0]           \n__________________________________________________________________________________________________\nblock14_sepconv2_act (Activatio (None, 10, 10, 2048) 0           block14_sepconv2_bn[0][0]        \n__________________________________________________________________________________________________\nglobal_average_pooling2d (Globa (None, 2048)         0           block14_sepconv2_act[0][0]       \n==================================================================================================\nTotal params: 20,861,480\nTrainable params: 20,806,952\nNon-trainable params: 54,528\n__________________________________________________________________________________________________\n"
          ]
        }
      ],
      "source": [
        "base_model.summary()"
      ]
    },
    {
      "cell_type": "code",
      "execution_count": null,
      "metadata": {},
      "outputs": [],
      "source": []
    },
    {
      "cell_type": "code",
      "execution_count": null,
      "metadata": {},
      "outputs": [],
      "source": []
    },
    {
      "cell_type": "code",
      "metadata": {
        "id": "lXX28xAtQwhF"
      },
      "source": [
        "def create_model(name, input_shape=(227, 227, 3), freeze_upto=15):\n",
        "    base_model = tf.keras.applications.VGG16(\n",
        "        include_top=False, weights=\"imagenet\", input_shape=input_shape\n",
        "    )\n",
        "    for idx, layer in enumerate(base_model.layers):\n",
        "        if idx < freeze_upto:\n",
        "            layer.trainable = False\n",
        "        else:\n",
        "            layer.trainable = True\n",
        "\n",
        "    inputs = tf.keras.Input(shape=input_shape)\n",
        "    x = base_model(inputs, training=False)\n",
        "    x = layers.GlobalAveragePooling2D()(x)\n",
        "    model = tf.keras.models.Model(inputs=inputs, outputs=x, name=name)\n",
        "    return model"
      ],
      "execution_count": 30,
      "outputs": []
    },
    {
      "cell_type": "code",
      "metadata": {
        "id": "WD7dGvZSUs4L"
      },
      "source": [
        "def CORAL(source_output, target_output, percent_lambda=0.75):\n",
        "\n",
        "    source_batch_size = tf.cast(tf.shape(source_output)[0], tf.float32)\n",
        "    target_batch_size = tf.cast(tf.shape(target_output)[0], tf.float32)\n",
        "    d = tf.cast(tf.shape(source_output)[1], tf.float32)\n",
        "\n",
        "    # Source covariance\n",
        "    xm = source_output - tf.reduce_mean(source_output, 0, keepdims=True)\n",
        "    xc = tf.matmul(tf.transpose(xm), xm) / source_batch_size\n",
        "\n",
        "    # Target covariance\n",
        "    xmt = target_output - tf.reduce_mean(target_output, 0, keepdims=True)\n",
        "    xct = tf.matmul(tf.transpose(xmt), xmt) / target_batch_size\n",
        "\n",
        "    # Frobenius norm\n",
        "    # loss = tf.sqrt(tf.reduce_sum(tf.multiply((xc - xct), (xc - xct))))\n",
        "    loss = tf.sqrt(tf.reduce_sum(tf.multiply((xc - xct), (xc - xct))))\n",
        "    loss = loss / (4 * d * d)\n",
        "    loss = percent_lambda * loss\n",
        "    # model.add_loss(loss)\n",
        "    return loss"
      ],
      "execution_count": 31,
      "outputs": []
    },
    {
      "cell_type": "code",
      "metadata": {
        "id": "TTLNOgsUYotC"
      },
      "source": [
        "def merged_model(\n",
        "    input_shape,\n",
        "    prune,\n",
        "    num_classes=31,\n",
        "    lambda_loss=0.75,\n",
        "    additional_loss=CORAL,\n",
        "    freeze_upto=15,\n",
        "):\n",
        "    source_model = create_model(\"source_fe\", input_shape, freeze_upto=15)\n",
        "    for layer in source_model.layers:\n",
        "        layer._name = layer.name + str(\"_1\")\n",
        "\n",
        "    if prune:\n",
        "        target_model = tfmot.sparsity.keras.prune_low_magnitude(\n",
        "            create_model(\"target_fe\", input_shape, freeze_upto), **cn.pruning_params\n",
        "        )\n",
        "    else:\n",
        "        target_model = create_model(\"target_fe\", input_shape, freeze_upto=15)\n",
        "\n",
        "    for layer in target_model.layers:\n",
        "        layer._name = layer.name + str(\"_2\")\n",
        "\n",
        "    prediction = layers.Dense(31, kernel_initializer=tf.initializers.RandomNormal(0, 0.005), name=\"prediction\")(source_model.output)\n",
        "    model = models.Model([source_model.input, target_model.input], prediction)\n",
        "\n",
        "    # additive_loss = additional_loss(\n",
        "    #     source_output=source_model.output,\n",
        "    #     target_output=target_model.output,\n",
        "    #     percent_lambda=lambda_loss,\n",
        "    # )\n",
        "\n",
        "    # model.add_loss(additive_loss)\n",
        "    # model.add_metric(additive_loss, name=\"domain_loss\")\n",
        "    return model\n"
      ],
      "execution_count": 54,
      "outputs": []
    },
    {
      "cell_type": "code",
      "metadata": {
        "id": "BPY4Ikz6sdce"
      },
      "source": [
        "def create_callbacks(my_dir=\"1_0.75\", LOGS_DIR=LOGS_DIR, save_weights=True, MODEL_PATH= MODEL_PATH):\r\n",
        "\r\n",
        "  callback_list = []\r\n",
        "  assert os.path.exists(LOGS_DIR), \"LOGS_DIR doesn't exist\"\r\n",
        "  experiment_logs_path = os.path.join(LOGS_DIR, my_dir)\r\n",
        "  Path(experiment_logs_path).mkdir(parents=True, exist_ok=True)\r\n",
        "  tb_logdir = os.path.join(LOGS_DIR, my_dir)\r\n",
        "  Path(tb_logdir).mkdir(parents=True, exist_ok=True)\r\n",
        "  assert os.path.exists(tb_logdir), \"tb_logdir doesn't exist\"\r\n",
        "  tb_logdir = os.path.join(\r\n",
        "      tb_logdir, datetime.datetime.now().strftime(\"%Y%m%d-%H%M%S\")\r\n",
        "  )\r\n",
        "  log_dir = tb_logdir\r\n",
        "  # file_writer = tf.summary.create_file_writer(tb_logdir + \"/custom_evaluation\")\r\n",
        "  # file_writer.set_as_default()\r\n",
        "  tensorboard_callback = tf.keras.callbacks.TensorBoard(tb_logdir, histogram_freq=1)\r\n",
        "  callback_list.append(tensorboard_callback)\r\n",
        "  tf.compat.v1.logging.info(f\"Tensorboard logs path: {tb_logdir}\")\r\n",
        "\r\n",
        "  \"\"\"CSV Logger Callback \"\"\"\r\n",
        "  Path(log_dir).mkdir(parents=True, exist_ok=True)\r\n",
        "  csv = os.path.join(log_dir, \"training_logs.csv\")\r\n",
        "  csv_logger = CSVLogger(\r\n",
        "      csv,\r\n",
        "      append=True,\r\n",
        "      separator=\";\",\r\n",
        "  )\r\n",
        "  tf.compat.v1.logging.info(f\"Model CSV logs path: {csv}\")\r\n",
        "  callback_list.append(csv_logger)\r\n",
        "\r\n",
        "  \"\"\"Reduce LR Callback \"\"\"\r\n",
        "  reduce_lr_callback = tf.keras.callbacks.ReduceLROnPlateau(\r\n",
        "      monitor=\"val_accuracy\", factor=0.4, patience=2, min_lr=0.000001\r\n",
        "  )\r\n",
        "  callback_list.append(reduce_lr_callback)\r\n",
        "\r\n",
        "  \"\"\"Early Stopping Callback \"\"\"\r\n",
        "  early_stopping_callback = tf.keras.callbacks.EarlyStopping(\r\n",
        "      monitor=\"val_accuracy\",\r\n",
        "      patience=15,\r\n",
        "      verbose=1,\r\n",
        "      mode=\"auto\",\r\n",
        "  )\r\n",
        "  callback_list.append(early_stopping_callback)\r\n",
        "\r\n",
        "  \"\"\"Checkpoint Callback \"\"\"\r\n",
        "  if save_weights:\r\n",
        "      assert os.path.exists(MODEL_PATH), \"MODEL_PATH doesn't exist\"\r\n",
        "      checkpoint_path = os.path.join(\r\n",
        "          MODEL_PATH, (Path(log_dir).parent).name, Path(log_dir).name\r\n",
        "      )\r\n",
        "      Path(checkpoint_path).mkdir(parents=True, exist_ok=True)\r\n",
        "      assert os.path.exists(checkpoint_path), \"checkpoint_path doesn't exist\"\r\n",
        "      checkpoint_path = os.path.join(\r\n",
        "          checkpoint_path,\r\n",
        "          \"weights.{epoch:02d}-{val_accuracy:.2f}.hdf5\",\r\n",
        "      )\r\n",
        "      cp_callback = tf.keras.callbacks.ModelCheckpoint(\r\n",
        "          filepath=checkpoint_path,\r\n",
        "          save_weights_only=True,\r\n",
        "          save_best_only=True,\r\n",
        "          verbose=1,\r\n",
        "          monitor=\"val_accuracy\",\r\n",
        "      )\r\n",
        "      callback_list.append(cp_callback)\r\n",
        "\r\n",
        "  return callback_list, log_dir"
      ],
      "execution_count": 33,
      "outputs": []
    },
    {
      "cell_type": "code",
      "metadata": {
        "id": "glZCCVOWc8fI"
      },
      "source": [
        "def loss_accuracy_plots(\r\n",
        "    hist,\r\n",
        "    log_dir,\r\n",
        "):\r\n",
        "    accuracy = hist.history[\"accuracy\"]\r\n",
        "    val_accuracy = hist.history[\"val_accuracy\"]\r\n",
        "    loss = hist.history[\"loss\"]\r\n",
        "    val_loss = hist.history[\"val_loss\"]\r\n",
        "    plt.figure(figsize=(18, 8))\r\n",
        "    plt.subplot(1, 2, 1)\r\n",
        "    plt.plot(loss, \"r\", label=\"Training\")\r\n",
        "    plt.plot(val_loss, \"r:\", label=\"Validation\")\r\n",
        "    plt.legend()\r\n",
        "    plt.title(\"Training and Validation Loss\")\r\n",
        "    plt.xlabel(\"Epochs\")\r\n",
        "    plt.ylabel(\"Loss\")\r\n",
        "\r\n",
        "    plt.subplot(1, 2, 2)\r\n",
        "    plt.plot(accuracy, \"g\", label=\"Training\")\r\n",
        "    plt.plot(val_accuracy, \"g:\", label=\"Validation\")\r\n",
        "    plt.legend()\r\n",
        "    plt.title(\"Training and Validation Accuracy\")\r\n",
        "    plt.xlabel(\"Epochs\")\r\n",
        "    plt.ylabel(\"Accuracy\")\r\n",
        "    plot_path = os.path.join(\r\n",
        "        EVALUATION, (Path(log_dir).parent).name, Path(log_dir).name\r\n",
        "    )\r\n",
        "    Path(plot_path).mkdir(parents=True, exist_ok=True)\r\n",
        "    tf.compat.v1.logging.info(\"Plots created at: \" + plot_path)\r\n",
        "    plot_path = os.path.join(plot_path, \"Accuracy_Loss_Plots.png\")\r\n",
        "    plt.savefig(plot_path)\r\n",
        "    plt.show()\r\n"
      ],
      "execution_count": 34,
      "outputs": []
    },
    {
      "cell_type": "code",
      "metadata": {
        "id": "uLHR1ZrYvmn3"
      },
      "source": [
        " def save_model(MODEL_PATH, log_dir):\r\n",
        "    tf.compat.v1.logging.info(\"Saving the model...\")\r\n",
        "    model_path = os.path.join(\r\n",
        "        MODEL_PATH, (Path(log_dir).parent).name, Path(log_dir).name\r\n",
        "    )\r\n",
        "    Path(model_path).mkdir(parents=True, exist_ok=True)\r\n",
        "    model.save(os.path.join(model_path, \"model.h5\"))\r\n",
        "    tf.compat.v1.logging.info(f\"Model successfully saved at: {model_path}\")\r\n"
      ],
      "execution_count": 35,
      "outputs": []
    },
    {
      "cell_type": "markdown",
      "metadata": {
        "id": "vEfq7AUQYjLW"
      },
      "source": [
        "## Run 1"
      ]
    },
    {
      "cell_type": "code",
      "metadata": {
        "id": "Nphha0sJPEGT"
      },
      "source": [
        "temp_plot = create_model(\"VGG16\")\r\n",
        "plot_model(temp_plot, \"FeatureExtractors.png\", show_shapes=True, expand_nested=False)"
      ],
      "execution_count": 41,
      "outputs": [
        {
          "output_type": "stream",
          "name": "stdout",
          "text": [
            "('Failed to import pydot. You must `pip install pydot` and install graphviz (https://graphviz.gitlab.io/download/), ', 'for `pydotprint` to work.')\n"
          ]
        }
      ]
    },
    {
      "cell_type": "code",
      "execution_count": 42,
      "metadata": {},
      "outputs": [],
      "source": [
        "xx = source_ds.batch(32).prefetch(buffer_size=AUTOTUNE)"
      ]
    },
    {
      "cell_type": "code",
      "execution_count": 59,
      "metadata": {},
      "outputs": [],
      "source": [
        "base_model = tf.keras.applications.VGG16(\n",
        "    include_top=False, weights=\"imagenet\", input_shape=(227,227,3)\n",
        ")\n",
        "for idx, layer in enumerate(base_model.layers):\n",
        "    if idx < 15:\n",
        "        layer.trainable = False\n",
        "    else:\n",
        "        layer.trainable = True\n",
        "\n",
        "inputs = tf.keras.Input(shape=(227,227,3))\n",
        "x = base_model(inputs, training=False)\n",
        "x = layers.GlobalAveragePooling2D()(x)\n",
        "x = layers.Dropout(0.3)(x)\n",
        "x = tf.keras.layers.Dense(31, kernel_initializer=initializer, activation = \"softmax\")(x)\n",
        "mdl = tf.keras.models.Model(inputs=inputs, outputs=x, name=\"Testing\")"
      ]
    },
    {
      "cell_type": "code",
      "execution_count": 60,
      "metadata": {},
      "outputs": [
        {
          "output_type": "stream",
          "name": "stdout",
          "text": [
            "Model: \"Testing\"\n_________________________________________________________________\nLayer (type)                 Output Shape              Param #   \n=================================================================\ninput_23 (InputLayer)        [(None, 227, 227, 3)]     0         \n_________________________________________________________________\nvgg16 (Functional)           (None, 7, 7, 512)         14714688  \n_________________________________________________________________\nglobal_average_pooling2d_10  (None, 512)               0         \n_________________________________________________________________\ndropout_7 (Dropout)          (None, 512)               0         \n_________________________________________________________________\ndense_3 (Dense)              (None, 31)                15903     \n=================================================================\nTotal params: 14,730,591\nTrainable params: 7,095,327\nNon-trainable params: 7,635,264\n_________________________________________________________________\n"
          ]
        }
      ],
      "source": [
        "mdl.summary()"
      ]
    },
    {
      "cell_type": "code",
      "execution_count": 64,
      "metadata": {},
      "outputs": [],
      "source": [
        "mdl.compile(optimizer=tf.keras.optimizers.Adam(learning_rate=0.001),loss=tf.keras.losses.CategoricalCrossentropy(from_logits=True), metrics=\"accuracy\")"
      ]
    },
    {
      "cell_type": "code",
      "execution_count": 63,
      "metadata": {},
      "outputs": [],
      "source": [
        "mdl.trainable = True"
      ]
    },
    {
      "cell_type": "code",
      "execution_count": 62,
      "metadata": {},
      "outputs": [
        {
          "output_type": "stream",
          "name": "stdout",
          "text": [
            "Epoch 1/20\n",
            "     26/Unknown - 21s 816ms/step - loss: 3.4603 - accuracy: 0.0276"
          ]
        },
        {
          "output_type": "error",
          "ename": "KeyboardInterrupt",
          "evalue": "",
          "traceback": [
            "\u001b[0;31m---------------------------------------------------------------------------\u001b[0m",
            "\u001b[0;31mKeyboardInterrupt\u001b[0m                         Traceback (most recent call last)",
            "\u001b[0;32m<ipython-input-62-6218ef0f0e0f>\u001b[0m in \u001b[0;36m<module>\u001b[0;34m\u001b[0m\n\u001b[1;32m      1\u001b[0m \u001b[0mmdlhist\u001b[0m \u001b[0;34m=\u001b[0m \u001b[0;32mNone\u001b[0m\u001b[0;34m\u001b[0m\u001b[0;34m\u001b[0m\u001b[0m\n\u001b[0;32m----> 2\u001b[0;31m mdlhist = mdl.fit(\n\u001b[0m\u001b[1;32m      3\u001b[0m     \u001b[0mxx\u001b[0m\u001b[0;34m,\u001b[0m\u001b[0;34m\u001b[0m\u001b[0;34m\u001b[0m\u001b[0m\n\u001b[1;32m      4\u001b[0m     \u001b[0mepochs\u001b[0m\u001b[0;34m=\u001b[0m\u001b[0;36m20\u001b[0m\u001b[0;34m,\u001b[0m\u001b[0;34m\u001b[0m\u001b[0;34m\u001b[0m\u001b[0m\n\u001b[1;32m      5\u001b[0m     \u001b[0mverbose\u001b[0m\u001b[0;34m=\u001b[0m\u001b[0;36m1\u001b[0m\u001b[0;34m,\u001b[0m\u001b[0;34m\u001b[0m\u001b[0;34m\u001b[0m\u001b[0m\n",
            "\u001b[0;32m/opt/conda/envs/tf/lib/python3.8/site-packages/tensorflow/python/keras/engine/training.py\u001b[0m in \u001b[0;36m_method_wrapper\u001b[0;34m(self, *args, **kwargs)\u001b[0m\n\u001b[1;32m    106\u001b[0m   \u001b[0;32mdef\u001b[0m \u001b[0m_method_wrapper\u001b[0m\u001b[0;34m(\u001b[0m\u001b[0mself\u001b[0m\u001b[0;34m,\u001b[0m \u001b[0;34m*\u001b[0m\u001b[0margs\u001b[0m\u001b[0;34m,\u001b[0m \u001b[0;34m**\u001b[0m\u001b[0mkwargs\u001b[0m\u001b[0;34m)\u001b[0m\u001b[0;34m:\u001b[0m\u001b[0;34m\u001b[0m\u001b[0;34m\u001b[0m\u001b[0m\n\u001b[1;32m    107\u001b[0m     \u001b[0;32mif\u001b[0m \u001b[0;32mnot\u001b[0m \u001b[0mself\u001b[0m\u001b[0;34m.\u001b[0m\u001b[0m_in_multi_worker_mode\u001b[0m\u001b[0;34m(\u001b[0m\u001b[0;34m)\u001b[0m\u001b[0;34m:\u001b[0m  \u001b[0;31m# pylint: disable=protected-access\u001b[0m\u001b[0;34m\u001b[0m\u001b[0;34m\u001b[0m\u001b[0m\n\u001b[0;32m--> 108\u001b[0;31m       \u001b[0;32mreturn\u001b[0m \u001b[0mmethod\u001b[0m\u001b[0;34m(\u001b[0m\u001b[0mself\u001b[0m\u001b[0;34m,\u001b[0m \u001b[0;34m*\u001b[0m\u001b[0margs\u001b[0m\u001b[0;34m,\u001b[0m \u001b[0;34m**\u001b[0m\u001b[0mkwargs\u001b[0m\u001b[0;34m)\u001b[0m\u001b[0;34m\u001b[0m\u001b[0;34m\u001b[0m\u001b[0m\n\u001b[0m\u001b[1;32m    109\u001b[0m \u001b[0;34m\u001b[0m\u001b[0m\n\u001b[1;32m    110\u001b[0m     \u001b[0;31m# Running inside `run_distribute_coordinator` already.\u001b[0m\u001b[0;34m\u001b[0m\u001b[0;34m\u001b[0m\u001b[0;34m\u001b[0m\u001b[0m\n",
            "\u001b[0;32m/opt/conda/envs/tf/lib/python3.8/site-packages/tensorflow/python/keras/engine/training.py\u001b[0m in \u001b[0;36mfit\u001b[0;34m(self, x, y, batch_size, epochs, verbose, callbacks, validation_split, validation_data, shuffle, class_weight, sample_weight, initial_epoch, steps_per_epoch, validation_steps, validation_batch_size, validation_freq, max_queue_size, workers, use_multiprocessing)\u001b[0m\n\u001b[1;32m   1096\u001b[0m                 batch_size=batch_size):\n\u001b[1;32m   1097\u001b[0m               \u001b[0mcallbacks\u001b[0m\u001b[0;34m.\u001b[0m\u001b[0mon_train_batch_begin\u001b[0m\u001b[0;34m(\u001b[0m\u001b[0mstep\u001b[0m\u001b[0;34m)\u001b[0m\u001b[0;34m\u001b[0m\u001b[0;34m\u001b[0m\u001b[0m\n\u001b[0;32m-> 1098\u001b[0;31m               \u001b[0mtmp_logs\u001b[0m \u001b[0;34m=\u001b[0m \u001b[0mtrain_function\u001b[0m\u001b[0;34m(\u001b[0m\u001b[0miterator\u001b[0m\u001b[0;34m)\u001b[0m\u001b[0;34m\u001b[0m\u001b[0;34m\u001b[0m\u001b[0m\n\u001b[0m\u001b[1;32m   1099\u001b[0m               \u001b[0;32mif\u001b[0m \u001b[0mdata_handler\u001b[0m\u001b[0;34m.\u001b[0m\u001b[0mshould_sync\u001b[0m\u001b[0;34m:\u001b[0m\u001b[0;34m\u001b[0m\u001b[0;34m\u001b[0m\u001b[0m\n\u001b[1;32m   1100\u001b[0m                 \u001b[0mcontext\u001b[0m\u001b[0;34m.\u001b[0m\u001b[0masync_wait\u001b[0m\u001b[0;34m(\u001b[0m\u001b[0;34m)\u001b[0m\u001b[0;34m\u001b[0m\u001b[0;34m\u001b[0m\u001b[0m\n",
            "\u001b[0;32m/opt/conda/envs/tf/lib/python3.8/site-packages/tensorflow/python/eager/def_function.py\u001b[0m in \u001b[0;36m__call__\u001b[0;34m(self, *args, **kwds)\u001b[0m\n\u001b[1;32m    778\u001b[0m       \u001b[0;32melse\u001b[0m\u001b[0;34m:\u001b[0m\u001b[0;34m\u001b[0m\u001b[0;34m\u001b[0m\u001b[0m\n\u001b[1;32m    779\u001b[0m         \u001b[0mcompiler\u001b[0m \u001b[0;34m=\u001b[0m \u001b[0;34m\"nonXla\"\u001b[0m\u001b[0;34m\u001b[0m\u001b[0;34m\u001b[0m\u001b[0m\n\u001b[0;32m--> 780\u001b[0;31m         \u001b[0mresult\u001b[0m \u001b[0;34m=\u001b[0m \u001b[0mself\u001b[0m\u001b[0;34m.\u001b[0m\u001b[0m_call\u001b[0m\u001b[0;34m(\u001b[0m\u001b[0;34m*\u001b[0m\u001b[0margs\u001b[0m\u001b[0;34m,\u001b[0m \u001b[0;34m**\u001b[0m\u001b[0mkwds\u001b[0m\u001b[0;34m)\u001b[0m\u001b[0;34m\u001b[0m\u001b[0;34m\u001b[0m\u001b[0m\n\u001b[0m\u001b[1;32m    781\u001b[0m \u001b[0;34m\u001b[0m\u001b[0m\n\u001b[1;32m    782\u001b[0m       \u001b[0mnew_tracing_count\u001b[0m \u001b[0;34m=\u001b[0m \u001b[0mself\u001b[0m\u001b[0;34m.\u001b[0m\u001b[0m_get_tracing_count\u001b[0m\u001b[0;34m(\u001b[0m\u001b[0;34m)\u001b[0m\u001b[0;34m\u001b[0m\u001b[0;34m\u001b[0m\u001b[0m\n",
            "\u001b[0;32m/opt/conda/envs/tf/lib/python3.8/site-packages/tensorflow/python/eager/def_function.py\u001b[0m in \u001b[0;36m_call\u001b[0;34m(self, *args, **kwds)\u001b[0m\n\u001b[1;32m    805\u001b[0m       \u001b[0;31m# In this case we have created variables on the first call, so we run the\u001b[0m\u001b[0;34m\u001b[0m\u001b[0;34m\u001b[0m\u001b[0;34m\u001b[0m\u001b[0m\n\u001b[1;32m    806\u001b[0m       \u001b[0;31m# defunned version which is guaranteed to never create variables.\u001b[0m\u001b[0;34m\u001b[0m\u001b[0;34m\u001b[0m\u001b[0;34m\u001b[0m\u001b[0m\n\u001b[0;32m--> 807\u001b[0;31m       \u001b[0;32mreturn\u001b[0m \u001b[0mself\u001b[0m\u001b[0;34m.\u001b[0m\u001b[0m_stateless_fn\u001b[0m\u001b[0;34m(\u001b[0m\u001b[0;34m*\u001b[0m\u001b[0margs\u001b[0m\u001b[0;34m,\u001b[0m \u001b[0;34m**\u001b[0m\u001b[0mkwds\u001b[0m\u001b[0;34m)\u001b[0m  \u001b[0;31m# pylint: disable=not-callable\u001b[0m\u001b[0;34m\u001b[0m\u001b[0;34m\u001b[0m\u001b[0m\n\u001b[0m\u001b[1;32m    808\u001b[0m     \u001b[0;32melif\u001b[0m \u001b[0mself\u001b[0m\u001b[0;34m.\u001b[0m\u001b[0m_stateful_fn\u001b[0m \u001b[0;32mis\u001b[0m \u001b[0;32mnot\u001b[0m \u001b[0;32mNone\u001b[0m\u001b[0;34m:\u001b[0m\u001b[0;34m\u001b[0m\u001b[0;34m\u001b[0m\u001b[0m\n\u001b[1;32m    809\u001b[0m       \u001b[0;31m# Release the lock early so that multiple threads can perform the call\u001b[0m\u001b[0;34m\u001b[0m\u001b[0;34m\u001b[0m\u001b[0;34m\u001b[0m\u001b[0m\n",
            "\u001b[0;32m/opt/conda/envs/tf/lib/python3.8/site-packages/tensorflow/python/eager/function.py\u001b[0m in \u001b[0;36m__call__\u001b[0;34m(self, *args, **kwargs)\u001b[0m\n\u001b[1;32m   2827\u001b[0m     \u001b[0;32mwith\u001b[0m \u001b[0mself\u001b[0m\u001b[0;34m.\u001b[0m\u001b[0m_lock\u001b[0m\u001b[0;34m:\u001b[0m\u001b[0;34m\u001b[0m\u001b[0;34m\u001b[0m\u001b[0m\n\u001b[1;32m   2828\u001b[0m       \u001b[0mgraph_function\u001b[0m\u001b[0;34m,\u001b[0m \u001b[0margs\u001b[0m\u001b[0;34m,\u001b[0m \u001b[0mkwargs\u001b[0m \u001b[0;34m=\u001b[0m \u001b[0mself\u001b[0m\u001b[0;34m.\u001b[0m\u001b[0m_maybe_define_function\u001b[0m\u001b[0;34m(\u001b[0m\u001b[0margs\u001b[0m\u001b[0;34m,\u001b[0m \u001b[0mkwargs\u001b[0m\u001b[0;34m)\u001b[0m\u001b[0;34m\u001b[0m\u001b[0;34m\u001b[0m\u001b[0m\n\u001b[0;32m-> 2829\u001b[0;31m     \u001b[0;32mreturn\u001b[0m \u001b[0mgraph_function\u001b[0m\u001b[0;34m.\u001b[0m\u001b[0m_filtered_call\u001b[0m\u001b[0;34m(\u001b[0m\u001b[0margs\u001b[0m\u001b[0;34m,\u001b[0m \u001b[0mkwargs\u001b[0m\u001b[0;34m)\u001b[0m  \u001b[0;31m# pylint: disable=protected-access\u001b[0m\u001b[0;34m\u001b[0m\u001b[0;34m\u001b[0m\u001b[0m\n\u001b[0m\u001b[1;32m   2830\u001b[0m \u001b[0;34m\u001b[0m\u001b[0m\n\u001b[1;32m   2831\u001b[0m   \u001b[0;34m@\u001b[0m\u001b[0mproperty\u001b[0m\u001b[0;34m\u001b[0m\u001b[0;34m\u001b[0m\u001b[0m\n",
            "\u001b[0;32m/opt/conda/envs/tf/lib/python3.8/site-packages/tensorflow/python/eager/function.py\u001b[0m in \u001b[0;36m_filtered_call\u001b[0;34m(self, args, kwargs, cancellation_manager)\u001b[0m\n\u001b[1;32m   1841\u001b[0m       \u001b[0;31m`\u001b[0m\u001b[0margs\u001b[0m\u001b[0;31m`\u001b[0m \u001b[0;32mand\u001b[0m\u001b[0;31m \u001b[0m\u001b[0;31m`\u001b[0m\u001b[0mkwargs\u001b[0m\u001b[0;31m`\u001b[0m\u001b[0;34m.\u001b[0m\u001b[0;34m\u001b[0m\u001b[0;34m\u001b[0m\u001b[0m\n\u001b[1;32m   1842\u001b[0m     \"\"\"\n\u001b[0;32m-> 1843\u001b[0;31m     return self._call_flat(\n\u001b[0m\u001b[1;32m   1844\u001b[0m         [t for t in nest.flatten((args, kwargs), expand_composites=True)\n\u001b[1;32m   1845\u001b[0m          if isinstance(t, (ops.Tensor,\n",
            "\u001b[0;32m/opt/conda/envs/tf/lib/python3.8/site-packages/tensorflow/python/eager/function.py\u001b[0m in \u001b[0;36m_call_flat\u001b[0;34m(self, args, captured_inputs, cancellation_manager)\u001b[0m\n\u001b[1;32m   1921\u001b[0m         and executing_eagerly):\n\u001b[1;32m   1922\u001b[0m       \u001b[0;31m# No tape is watching; skip to running the function.\u001b[0m\u001b[0;34m\u001b[0m\u001b[0;34m\u001b[0m\u001b[0;34m\u001b[0m\u001b[0m\n\u001b[0;32m-> 1923\u001b[0;31m       return self._build_call_outputs(self._inference_function.call(\n\u001b[0m\u001b[1;32m   1924\u001b[0m           ctx, args, cancellation_manager=cancellation_manager))\n\u001b[1;32m   1925\u001b[0m     forward_backward = self._select_forward_and_backward_functions(\n",
            "\u001b[0;32m/opt/conda/envs/tf/lib/python3.8/site-packages/tensorflow/python/eager/function.py\u001b[0m in \u001b[0;36mcall\u001b[0;34m(self, ctx, args, cancellation_manager)\u001b[0m\n\u001b[1;32m    543\u001b[0m       \u001b[0;32mwith\u001b[0m \u001b[0m_InterpolateFunctionError\u001b[0m\u001b[0;34m(\u001b[0m\u001b[0mself\u001b[0m\u001b[0;34m)\u001b[0m\u001b[0;34m:\u001b[0m\u001b[0;34m\u001b[0m\u001b[0;34m\u001b[0m\u001b[0m\n\u001b[1;32m    544\u001b[0m         \u001b[0;32mif\u001b[0m \u001b[0mcancellation_manager\u001b[0m \u001b[0;32mis\u001b[0m \u001b[0;32mNone\u001b[0m\u001b[0;34m:\u001b[0m\u001b[0;34m\u001b[0m\u001b[0;34m\u001b[0m\u001b[0m\n\u001b[0;32m--> 545\u001b[0;31m           outputs = execute.execute(\n\u001b[0m\u001b[1;32m    546\u001b[0m               \u001b[0mstr\u001b[0m\u001b[0;34m(\u001b[0m\u001b[0mself\u001b[0m\u001b[0;34m.\u001b[0m\u001b[0msignature\u001b[0m\u001b[0;34m.\u001b[0m\u001b[0mname\u001b[0m\u001b[0;34m)\u001b[0m\u001b[0;34m,\u001b[0m\u001b[0;34m\u001b[0m\u001b[0;34m\u001b[0m\u001b[0m\n\u001b[1;32m    547\u001b[0m               \u001b[0mnum_outputs\u001b[0m\u001b[0;34m=\u001b[0m\u001b[0mself\u001b[0m\u001b[0;34m.\u001b[0m\u001b[0m_num_outputs\u001b[0m\u001b[0;34m,\u001b[0m\u001b[0;34m\u001b[0m\u001b[0;34m\u001b[0m\u001b[0m\n",
            "\u001b[0;32m/opt/conda/envs/tf/lib/python3.8/site-packages/tensorflow/python/eager/execute.py\u001b[0m in \u001b[0;36mquick_execute\u001b[0;34m(op_name, num_outputs, inputs, attrs, ctx, name)\u001b[0m\n\u001b[1;32m     57\u001b[0m   \u001b[0;32mtry\u001b[0m\u001b[0;34m:\u001b[0m\u001b[0;34m\u001b[0m\u001b[0;34m\u001b[0m\u001b[0m\n\u001b[1;32m     58\u001b[0m     \u001b[0mctx\u001b[0m\u001b[0;34m.\u001b[0m\u001b[0mensure_initialized\u001b[0m\u001b[0;34m(\u001b[0m\u001b[0;34m)\u001b[0m\u001b[0;34m\u001b[0m\u001b[0;34m\u001b[0m\u001b[0m\n\u001b[0;32m---> 59\u001b[0;31m     tensors = pywrap_tfe.TFE_Py_Execute(ctx._handle, device_name, op_name,\n\u001b[0m\u001b[1;32m     60\u001b[0m                                         inputs, attrs, num_outputs)\n\u001b[1;32m     61\u001b[0m   \u001b[0;32mexcept\u001b[0m \u001b[0mcore\u001b[0m\u001b[0;34m.\u001b[0m\u001b[0m_NotOkStatusException\u001b[0m \u001b[0;32mas\u001b[0m \u001b[0me\u001b[0m\u001b[0;34m:\u001b[0m\u001b[0;34m\u001b[0m\u001b[0;34m\u001b[0m\u001b[0m\n",
            "\u001b[0;31mKeyboardInterrupt\u001b[0m: "
          ]
        }
      ],
      "source": [
        "mdlhist = None\n",
        "mdlhist = mdl.fit(\n",
        "    xx,\n",
        "    epochs=20,\n",
        "    verbose=1,\n",
        "    callbacks=callback_list,\n",
        ")"
      ]
    },
    {
      "cell_type": "code",
      "execution_count": 57,
      "metadata": {},
      "outputs": [
        {
          "output_type": "stream",
          "name": "stdout",
          "text": [
            "Epoch 1/20\n",
            "22/89 [======>.......................] - ETA: 53s - loss: 4.8472 - accuracy: 0.0398"
          ]
        },
        {
          "output_type": "error",
          "ename": "KeyboardInterrupt",
          "evalue": "",
          "traceback": [
            "\u001b[0;31m---------------------------------------------------------------------------\u001b[0m",
            "\u001b[0;31mKeyboardInterrupt\u001b[0m                         Traceback (most recent call last)",
            "\u001b[0;32m<ipython-input-57-a88d8a65b387>\u001b[0m in \u001b[0;36m<module>\u001b[0;34m\u001b[0m\n\u001b[1;32m      1\u001b[0m \u001b[0mmdlhist\u001b[0m \u001b[0;34m=\u001b[0m \u001b[0;32mNone\u001b[0m\u001b[0;34m\u001b[0m\u001b[0;34m\u001b[0m\u001b[0m\n\u001b[0;32m----> 2\u001b[0;31m mdlhist = mdl.fit(\n\u001b[0m\u001b[1;32m      3\u001b[0m     \u001b[0mds_train\u001b[0m\u001b[0;34m,\u001b[0m\u001b[0;34m\u001b[0m\u001b[0;34m\u001b[0m\u001b[0m\n\u001b[1;32m      4\u001b[0m     \u001b[0mepochs\u001b[0m\u001b[0;34m=\u001b[0m\u001b[0;36m20\u001b[0m\u001b[0;34m,\u001b[0m\u001b[0;34m\u001b[0m\u001b[0;34m\u001b[0m\u001b[0m\n\u001b[1;32m      5\u001b[0m     \u001b[0mverbose\u001b[0m\u001b[0;34m=\u001b[0m\u001b[0;36m1\u001b[0m\u001b[0;34m,\u001b[0m\u001b[0;34m\u001b[0m\u001b[0;34m\u001b[0m\u001b[0m\n",
            "\u001b[0;32m/opt/conda/envs/tf/lib/python3.8/site-packages/tensorflow/python/keras/engine/training.py\u001b[0m in \u001b[0;36m_method_wrapper\u001b[0;34m(self, *args, **kwargs)\u001b[0m\n\u001b[1;32m    106\u001b[0m   \u001b[0;32mdef\u001b[0m \u001b[0m_method_wrapper\u001b[0m\u001b[0;34m(\u001b[0m\u001b[0mself\u001b[0m\u001b[0;34m,\u001b[0m \u001b[0;34m*\u001b[0m\u001b[0margs\u001b[0m\u001b[0;34m,\u001b[0m \u001b[0;34m**\u001b[0m\u001b[0mkwargs\u001b[0m\u001b[0;34m)\u001b[0m\u001b[0;34m:\u001b[0m\u001b[0;34m\u001b[0m\u001b[0;34m\u001b[0m\u001b[0m\n\u001b[1;32m    107\u001b[0m     \u001b[0;32mif\u001b[0m \u001b[0;32mnot\u001b[0m \u001b[0mself\u001b[0m\u001b[0;34m.\u001b[0m\u001b[0m_in_multi_worker_mode\u001b[0m\u001b[0;34m(\u001b[0m\u001b[0;34m)\u001b[0m\u001b[0;34m:\u001b[0m  \u001b[0;31m# pylint: disable=protected-access\u001b[0m\u001b[0;34m\u001b[0m\u001b[0;34m\u001b[0m\u001b[0m\n\u001b[0;32m--> 108\u001b[0;31m       \u001b[0;32mreturn\u001b[0m \u001b[0mmethod\u001b[0m\u001b[0;34m(\u001b[0m\u001b[0mself\u001b[0m\u001b[0;34m,\u001b[0m \u001b[0;34m*\u001b[0m\u001b[0margs\u001b[0m\u001b[0;34m,\u001b[0m \u001b[0;34m**\u001b[0m\u001b[0mkwargs\u001b[0m\u001b[0;34m)\u001b[0m\u001b[0;34m\u001b[0m\u001b[0;34m\u001b[0m\u001b[0m\n\u001b[0m\u001b[1;32m    109\u001b[0m \u001b[0;34m\u001b[0m\u001b[0m\n\u001b[1;32m    110\u001b[0m     \u001b[0;31m# Running inside `run_distribute_coordinator` already.\u001b[0m\u001b[0;34m\u001b[0m\u001b[0;34m\u001b[0m\u001b[0;34m\u001b[0m\u001b[0m\n",
            "\u001b[0;32m/opt/conda/envs/tf/lib/python3.8/site-packages/tensorflow/python/keras/engine/training.py\u001b[0m in \u001b[0;36mfit\u001b[0;34m(self, x, y, batch_size, epochs, verbose, callbacks, validation_split, validation_data, shuffle, class_weight, sample_weight, initial_epoch, steps_per_epoch, validation_steps, validation_batch_size, validation_freq, max_queue_size, workers, use_multiprocessing)\u001b[0m\n\u001b[1;32m   1096\u001b[0m                 batch_size=batch_size):\n\u001b[1;32m   1097\u001b[0m               \u001b[0mcallbacks\u001b[0m\u001b[0;34m.\u001b[0m\u001b[0mon_train_batch_begin\u001b[0m\u001b[0;34m(\u001b[0m\u001b[0mstep\u001b[0m\u001b[0;34m)\u001b[0m\u001b[0;34m\u001b[0m\u001b[0;34m\u001b[0m\u001b[0m\n\u001b[0;32m-> 1098\u001b[0;31m               \u001b[0mtmp_logs\u001b[0m \u001b[0;34m=\u001b[0m \u001b[0mtrain_function\u001b[0m\u001b[0;34m(\u001b[0m\u001b[0miterator\u001b[0m\u001b[0;34m)\u001b[0m\u001b[0;34m\u001b[0m\u001b[0;34m\u001b[0m\u001b[0m\n\u001b[0m\u001b[1;32m   1099\u001b[0m               \u001b[0;32mif\u001b[0m \u001b[0mdata_handler\u001b[0m\u001b[0;34m.\u001b[0m\u001b[0mshould_sync\u001b[0m\u001b[0;34m:\u001b[0m\u001b[0;34m\u001b[0m\u001b[0;34m\u001b[0m\u001b[0m\n\u001b[1;32m   1100\u001b[0m                 \u001b[0mcontext\u001b[0m\u001b[0;34m.\u001b[0m\u001b[0masync_wait\u001b[0m\u001b[0;34m(\u001b[0m\u001b[0;34m)\u001b[0m\u001b[0;34m\u001b[0m\u001b[0;34m\u001b[0m\u001b[0m\n",
            "\u001b[0;32m/opt/conda/envs/tf/lib/python3.8/site-packages/tensorflow/python/eager/def_function.py\u001b[0m in \u001b[0;36m__call__\u001b[0;34m(self, *args, **kwds)\u001b[0m\n\u001b[1;32m    778\u001b[0m       \u001b[0;32melse\u001b[0m\u001b[0;34m:\u001b[0m\u001b[0;34m\u001b[0m\u001b[0;34m\u001b[0m\u001b[0m\n\u001b[1;32m    779\u001b[0m         \u001b[0mcompiler\u001b[0m \u001b[0;34m=\u001b[0m \u001b[0;34m\"nonXla\"\u001b[0m\u001b[0;34m\u001b[0m\u001b[0;34m\u001b[0m\u001b[0m\n\u001b[0;32m--> 780\u001b[0;31m         \u001b[0mresult\u001b[0m \u001b[0;34m=\u001b[0m \u001b[0mself\u001b[0m\u001b[0;34m.\u001b[0m\u001b[0m_call\u001b[0m\u001b[0;34m(\u001b[0m\u001b[0;34m*\u001b[0m\u001b[0margs\u001b[0m\u001b[0;34m,\u001b[0m \u001b[0;34m**\u001b[0m\u001b[0mkwds\u001b[0m\u001b[0;34m)\u001b[0m\u001b[0;34m\u001b[0m\u001b[0;34m\u001b[0m\u001b[0m\n\u001b[0m\u001b[1;32m    781\u001b[0m \u001b[0;34m\u001b[0m\u001b[0m\n\u001b[1;32m    782\u001b[0m       \u001b[0mnew_tracing_count\u001b[0m \u001b[0;34m=\u001b[0m \u001b[0mself\u001b[0m\u001b[0;34m.\u001b[0m\u001b[0m_get_tracing_count\u001b[0m\u001b[0;34m(\u001b[0m\u001b[0;34m)\u001b[0m\u001b[0;34m\u001b[0m\u001b[0;34m\u001b[0m\u001b[0m\n",
            "\u001b[0;32m/opt/conda/envs/tf/lib/python3.8/site-packages/tensorflow/python/eager/def_function.py\u001b[0m in \u001b[0;36m_call\u001b[0;34m(self, *args, **kwds)\u001b[0m\n\u001b[1;32m    805\u001b[0m       \u001b[0;31m# In this case we have created variables on the first call, so we run the\u001b[0m\u001b[0;34m\u001b[0m\u001b[0;34m\u001b[0m\u001b[0;34m\u001b[0m\u001b[0m\n\u001b[1;32m    806\u001b[0m       \u001b[0;31m# defunned version which is guaranteed to never create variables.\u001b[0m\u001b[0;34m\u001b[0m\u001b[0;34m\u001b[0m\u001b[0;34m\u001b[0m\u001b[0m\n\u001b[0;32m--> 807\u001b[0;31m       \u001b[0;32mreturn\u001b[0m \u001b[0mself\u001b[0m\u001b[0;34m.\u001b[0m\u001b[0m_stateless_fn\u001b[0m\u001b[0;34m(\u001b[0m\u001b[0;34m*\u001b[0m\u001b[0margs\u001b[0m\u001b[0;34m,\u001b[0m \u001b[0;34m**\u001b[0m\u001b[0mkwds\u001b[0m\u001b[0;34m)\u001b[0m  \u001b[0;31m# pylint: disable=not-callable\u001b[0m\u001b[0;34m\u001b[0m\u001b[0;34m\u001b[0m\u001b[0m\n\u001b[0m\u001b[1;32m    808\u001b[0m     \u001b[0;32melif\u001b[0m \u001b[0mself\u001b[0m\u001b[0;34m.\u001b[0m\u001b[0m_stateful_fn\u001b[0m \u001b[0;32mis\u001b[0m \u001b[0;32mnot\u001b[0m \u001b[0;32mNone\u001b[0m\u001b[0;34m:\u001b[0m\u001b[0;34m\u001b[0m\u001b[0;34m\u001b[0m\u001b[0m\n\u001b[1;32m    809\u001b[0m       \u001b[0;31m# Release the lock early so that multiple threads can perform the call\u001b[0m\u001b[0;34m\u001b[0m\u001b[0;34m\u001b[0m\u001b[0;34m\u001b[0m\u001b[0m\n",
            "\u001b[0;32m/opt/conda/envs/tf/lib/python3.8/site-packages/tensorflow/python/eager/function.py\u001b[0m in \u001b[0;36m__call__\u001b[0;34m(self, *args, **kwargs)\u001b[0m\n\u001b[1;32m   2827\u001b[0m     \u001b[0;32mwith\u001b[0m \u001b[0mself\u001b[0m\u001b[0;34m.\u001b[0m\u001b[0m_lock\u001b[0m\u001b[0;34m:\u001b[0m\u001b[0;34m\u001b[0m\u001b[0;34m\u001b[0m\u001b[0m\n\u001b[1;32m   2828\u001b[0m       \u001b[0mgraph_function\u001b[0m\u001b[0;34m,\u001b[0m \u001b[0margs\u001b[0m\u001b[0;34m,\u001b[0m \u001b[0mkwargs\u001b[0m \u001b[0;34m=\u001b[0m \u001b[0mself\u001b[0m\u001b[0;34m.\u001b[0m\u001b[0m_maybe_define_function\u001b[0m\u001b[0;34m(\u001b[0m\u001b[0margs\u001b[0m\u001b[0;34m,\u001b[0m \u001b[0mkwargs\u001b[0m\u001b[0;34m)\u001b[0m\u001b[0;34m\u001b[0m\u001b[0;34m\u001b[0m\u001b[0m\n\u001b[0;32m-> 2829\u001b[0;31m     \u001b[0;32mreturn\u001b[0m \u001b[0mgraph_function\u001b[0m\u001b[0;34m.\u001b[0m\u001b[0m_filtered_call\u001b[0m\u001b[0;34m(\u001b[0m\u001b[0margs\u001b[0m\u001b[0;34m,\u001b[0m \u001b[0mkwargs\u001b[0m\u001b[0;34m)\u001b[0m  \u001b[0;31m# pylint: disable=protected-access\u001b[0m\u001b[0;34m\u001b[0m\u001b[0;34m\u001b[0m\u001b[0m\n\u001b[0m\u001b[1;32m   2830\u001b[0m \u001b[0;34m\u001b[0m\u001b[0m\n\u001b[1;32m   2831\u001b[0m   \u001b[0;34m@\u001b[0m\u001b[0mproperty\u001b[0m\u001b[0;34m\u001b[0m\u001b[0;34m\u001b[0m\u001b[0m\n",
            "\u001b[0;32m/opt/conda/envs/tf/lib/python3.8/site-packages/tensorflow/python/eager/function.py\u001b[0m in \u001b[0;36m_filtered_call\u001b[0;34m(self, args, kwargs, cancellation_manager)\u001b[0m\n\u001b[1;32m   1841\u001b[0m       \u001b[0;31m`\u001b[0m\u001b[0margs\u001b[0m\u001b[0;31m`\u001b[0m \u001b[0;32mand\u001b[0m\u001b[0;31m \u001b[0m\u001b[0;31m`\u001b[0m\u001b[0mkwargs\u001b[0m\u001b[0;31m`\u001b[0m\u001b[0;34m.\u001b[0m\u001b[0;34m\u001b[0m\u001b[0;34m\u001b[0m\u001b[0m\n\u001b[1;32m   1842\u001b[0m     \"\"\"\n\u001b[0;32m-> 1843\u001b[0;31m     return self._call_flat(\n\u001b[0m\u001b[1;32m   1844\u001b[0m         [t for t in nest.flatten((args, kwargs), expand_composites=True)\n\u001b[1;32m   1845\u001b[0m          if isinstance(t, (ops.Tensor,\n",
            "\u001b[0;32m/opt/conda/envs/tf/lib/python3.8/site-packages/tensorflow/python/eager/function.py\u001b[0m in \u001b[0;36m_call_flat\u001b[0;34m(self, args, captured_inputs, cancellation_manager)\u001b[0m\n\u001b[1;32m   1921\u001b[0m         and executing_eagerly):\n\u001b[1;32m   1922\u001b[0m       \u001b[0;31m# No tape is watching; skip to running the function.\u001b[0m\u001b[0;34m\u001b[0m\u001b[0;34m\u001b[0m\u001b[0;34m\u001b[0m\u001b[0m\n\u001b[0;32m-> 1923\u001b[0;31m       return self._build_call_outputs(self._inference_function.call(\n\u001b[0m\u001b[1;32m   1924\u001b[0m           ctx, args, cancellation_manager=cancellation_manager))\n\u001b[1;32m   1925\u001b[0m     forward_backward = self._select_forward_and_backward_functions(\n",
            "\u001b[0;32m/opt/conda/envs/tf/lib/python3.8/site-packages/tensorflow/python/eager/function.py\u001b[0m in \u001b[0;36mcall\u001b[0;34m(self, ctx, args, cancellation_manager)\u001b[0m\n\u001b[1;32m    543\u001b[0m       \u001b[0;32mwith\u001b[0m \u001b[0m_InterpolateFunctionError\u001b[0m\u001b[0;34m(\u001b[0m\u001b[0mself\u001b[0m\u001b[0;34m)\u001b[0m\u001b[0;34m:\u001b[0m\u001b[0;34m\u001b[0m\u001b[0;34m\u001b[0m\u001b[0m\n\u001b[1;32m    544\u001b[0m         \u001b[0;32mif\u001b[0m \u001b[0mcancellation_manager\u001b[0m \u001b[0;32mis\u001b[0m \u001b[0;32mNone\u001b[0m\u001b[0;34m:\u001b[0m\u001b[0;34m\u001b[0m\u001b[0;34m\u001b[0m\u001b[0m\n\u001b[0;32m--> 545\u001b[0;31m           outputs = execute.execute(\n\u001b[0m\u001b[1;32m    546\u001b[0m               \u001b[0mstr\u001b[0m\u001b[0;34m(\u001b[0m\u001b[0mself\u001b[0m\u001b[0;34m.\u001b[0m\u001b[0msignature\u001b[0m\u001b[0;34m.\u001b[0m\u001b[0mname\u001b[0m\u001b[0;34m)\u001b[0m\u001b[0;34m,\u001b[0m\u001b[0;34m\u001b[0m\u001b[0;34m\u001b[0m\u001b[0m\n\u001b[1;32m    547\u001b[0m               \u001b[0mnum_outputs\u001b[0m\u001b[0;34m=\u001b[0m\u001b[0mself\u001b[0m\u001b[0;34m.\u001b[0m\u001b[0m_num_outputs\u001b[0m\u001b[0;34m,\u001b[0m\u001b[0;34m\u001b[0m\u001b[0;34m\u001b[0m\u001b[0m\n",
            "\u001b[0;32m/opt/conda/envs/tf/lib/python3.8/site-packages/tensorflow/python/eager/execute.py\u001b[0m in \u001b[0;36mquick_execute\u001b[0;34m(op_name, num_outputs, inputs, attrs, ctx, name)\u001b[0m\n\u001b[1;32m     57\u001b[0m   \u001b[0;32mtry\u001b[0m\u001b[0;34m:\u001b[0m\u001b[0;34m\u001b[0m\u001b[0;34m\u001b[0m\u001b[0m\n\u001b[1;32m     58\u001b[0m     \u001b[0mctx\u001b[0m\u001b[0;34m.\u001b[0m\u001b[0mensure_initialized\u001b[0m\u001b[0;34m(\u001b[0m\u001b[0;34m)\u001b[0m\u001b[0;34m\u001b[0m\u001b[0;34m\u001b[0m\u001b[0m\n\u001b[0;32m---> 59\u001b[0;31m     tensors = pywrap_tfe.TFE_Py_Execute(ctx._handle, device_name, op_name,\n\u001b[0m\u001b[1;32m     60\u001b[0m                                         inputs, attrs, num_outputs)\n\u001b[1;32m     61\u001b[0m   \u001b[0;32mexcept\u001b[0m \u001b[0mcore\u001b[0m\u001b[0;34m.\u001b[0m\u001b[0m_NotOkStatusException\u001b[0m \u001b[0;32mas\u001b[0m \u001b[0me\u001b[0m\u001b[0;34m:\u001b[0m\u001b[0;34m\u001b[0m\u001b[0;34m\u001b[0m\u001b[0m\n",
            "\u001b[0;31mKeyboardInterrupt\u001b[0m: "
          ]
        }
      ],
      "source": []
    },
    {
      "cell_type": "code",
      "metadata": {
        "id": "n5b1IHg2iImu"
      },
      "source": [
        "run2 = merged_model(\n",
        "          input_shape=(227, 227, 3),\n",
        "          num_classes=31,\n",
        "          lambda_loss=0.75,\n",
        "          additional_loss=CORAL,\n",
        "          prune=False,\n",
        "          freeze_upto=15,\n",
        "      )\n"
      ],
      "execution_count": 36,
      "outputs": []
    },
    {
      "cell_type": "code",
      "metadata": {
        "id": "5GHYAhr748iH"
      },
      "source": [
        "run2.summary()"
      ],
      "execution_count": 37,
      "outputs": [
        {
          "output_type": "stream",
          "name": "stdout",
          "text": [
            "Model: \"functional_1\"\n__________________________________________________________________________________________________\nLayer (type)                    Output Shape         Param #     Connected to                     \n==================================================================================================\ninput_2_1 (InputLayer)          [(None, 227, 227, 3) 0                                            \n__________________________________________________________________________________________________\nvgg16_1 (Functional)            (None, 7, 7, 512)    14714688    input_2_1[0][0]                  \n__________________________________________________________________________________________________\nglobal_average_pooling2d_1 (Glo (None, 512)          0           vgg16_1[0][0]                    \n__________________________________________________________________________________________________\ninput_4_2 (InputLayer)          [(None, 227, 227, 3) 0                                            \n__________________________________________________________________________________________________\nprediction (Dense)              (None, 31)           15903       global_average_pooling2d_1[0][0] \n==================================================================================================\nTotal params: 14,730,591\nTrainable params: 7,095,327\nNon-trainable params: 7,635,264\n__________________________________________________________________________________________________\n"
          ]
        }
      ]
    },
    {
      "cell_type": "code",
      "metadata": {
        "id": "XfvMEhJnQLNY"
      },
      "source": [
        "# plot_model(model, \"DDAN.png\", show_shapes=True, expand_nested=False)"
      ],
      "execution_count": null,
      "outputs": []
    },
    {
      "cell_type": "code",
      "metadata": {
        "id": "CzsCmStsj4Ok"
      },
      "source": [
        "run2.compile(optimizer=tf.keras.optimizers.Adam(learning_rate=0.001),loss=tf.keras.losses.CategoricalCrossentropy(from_logits=True), metrics=\"accuracy\")"
      ],
      "execution_count": 38,
      "outputs": []
    },
    {
      "cell_type": "code",
      "metadata": {
        "id": "NiRlbPOk2TJZ"
      },
      "source": [
        "callback_list, log_dir = create_callbacks(\"1_0.75\")"
      ],
      "execution_count": 39,
      "outputs": [
        {
          "output_type": "stream",
          "name": "stdout",
          "text": [
            "INFO:tensorflow:Tensorboard logs path: /root/Master-Thesis/logs/1_0.75/20210122-233820\n",
            "INFO:tensorflow:Model CSV logs path: /root/Master-Thesis/logs/1_0.75/20210122-233820/training_logs.csv\n"
          ]
        }
      ]
    },
    {
      "cell_type": "code",
      "metadata": {
        "id": "U9o4DtQmjsST"
      },
      "source": [
        "run2hist = None\n",
        "run2hist = run2.fit(\n",
        "    ds_train,\n",
        "    validation_data=ds_test,\n",
        "    epochs=50,\n",
        "    verbose=1,\n",
        "    callbacks=callback_list,\n",
        ")"
      ],
      "execution_count": 40,
      "outputs": [
        {
          "output_type": "stream",
          "name": "stdout",
          "text": [
            "Epoch 1/50\n",
            " 1/89 [..............................] - ETA: 0s - loss: 3.5489 - accuracy: 0.0312WARNING:tensorflow:From /opt/conda/envs/tf/lib/python3.8/site-packages/tensorflow/python/ops/summary_ops_v2.py:1277: stop (from tensorflow.python.eager.profiler) is deprecated and will be removed after 2020-07-01.\n",
            "Instructions for updating:\n",
            "use `tf.profiler.experimental.stop` instead.\n",
            "53/89 [================>.............] - ETA: 30s - loss: 3.5391 - accuracy: 0.0377"
          ]
        },
        {
          "output_type": "error",
          "ename": "KeyboardInterrupt",
          "evalue": "",
          "traceback": [
            "\u001b[0;31m---------------------------------------------------------------------------\u001b[0m",
            "\u001b[0;31mKeyboardInterrupt\u001b[0m                         Traceback (most recent call last)",
            "\u001b[0;32m<ipython-input-40-7858ad33b11c>\u001b[0m in \u001b[0;36m<module>\u001b[0;34m\u001b[0m\n\u001b[1;32m      1\u001b[0m \u001b[0mrun2hist\u001b[0m \u001b[0;34m=\u001b[0m \u001b[0;32mNone\u001b[0m\u001b[0;34m\u001b[0m\u001b[0;34m\u001b[0m\u001b[0m\n\u001b[0;32m----> 2\u001b[0;31m run2hist = run2.fit(\n\u001b[0m\u001b[1;32m      3\u001b[0m     \u001b[0mds_train\u001b[0m\u001b[0;34m,\u001b[0m\u001b[0;34m\u001b[0m\u001b[0;34m\u001b[0m\u001b[0m\n\u001b[1;32m      4\u001b[0m     \u001b[0mvalidation_data\u001b[0m\u001b[0;34m=\u001b[0m\u001b[0mds_test\u001b[0m\u001b[0;34m,\u001b[0m\u001b[0;34m\u001b[0m\u001b[0;34m\u001b[0m\u001b[0m\n\u001b[1;32m      5\u001b[0m     \u001b[0mepochs\u001b[0m\u001b[0;34m=\u001b[0m\u001b[0;36m50\u001b[0m\u001b[0;34m,\u001b[0m\u001b[0;34m\u001b[0m\u001b[0;34m\u001b[0m\u001b[0m\n",
            "\u001b[0;32m/opt/conda/envs/tf/lib/python3.8/site-packages/tensorflow/python/keras/engine/training.py\u001b[0m in \u001b[0;36m_method_wrapper\u001b[0;34m(self, *args, **kwargs)\u001b[0m\n\u001b[1;32m    106\u001b[0m   \u001b[0;32mdef\u001b[0m \u001b[0m_method_wrapper\u001b[0m\u001b[0;34m(\u001b[0m\u001b[0mself\u001b[0m\u001b[0;34m,\u001b[0m \u001b[0;34m*\u001b[0m\u001b[0margs\u001b[0m\u001b[0;34m,\u001b[0m \u001b[0;34m**\u001b[0m\u001b[0mkwargs\u001b[0m\u001b[0;34m)\u001b[0m\u001b[0;34m:\u001b[0m\u001b[0;34m\u001b[0m\u001b[0;34m\u001b[0m\u001b[0m\n\u001b[1;32m    107\u001b[0m     \u001b[0;32mif\u001b[0m \u001b[0;32mnot\u001b[0m \u001b[0mself\u001b[0m\u001b[0;34m.\u001b[0m\u001b[0m_in_multi_worker_mode\u001b[0m\u001b[0;34m(\u001b[0m\u001b[0;34m)\u001b[0m\u001b[0;34m:\u001b[0m  \u001b[0;31m# pylint: disable=protected-access\u001b[0m\u001b[0;34m\u001b[0m\u001b[0;34m\u001b[0m\u001b[0m\n\u001b[0;32m--> 108\u001b[0;31m       \u001b[0;32mreturn\u001b[0m \u001b[0mmethod\u001b[0m\u001b[0;34m(\u001b[0m\u001b[0mself\u001b[0m\u001b[0;34m,\u001b[0m \u001b[0;34m*\u001b[0m\u001b[0margs\u001b[0m\u001b[0;34m,\u001b[0m \u001b[0;34m**\u001b[0m\u001b[0mkwargs\u001b[0m\u001b[0;34m)\u001b[0m\u001b[0;34m\u001b[0m\u001b[0;34m\u001b[0m\u001b[0m\n\u001b[0m\u001b[1;32m    109\u001b[0m \u001b[0;34m\u001b[0m\u001b[0m\n\u001b[1;32m    110\u001b[0m     \u001b[0;31m# Running inside `run_distribute_coordinator` already.\u001b[0m\u001b[0;34m\u001b[0m\u001b[0;34m\u001b[0m\u001b[0;34m\u001b[0m\u001b[0m\n",
            "\u001b[0;32m/opt/conda/envs/tf/lib/python3.8/site-packages/tensorflow/python/keras/engine/training.py\u001b[0m in \u001b[0;36mfit\u001b[0;34m(self, x, y, batch_size, epochs, verbose, callbacks, validation_split, validation_data, shuffle, class_weight, sample_weight, initial_epoch, steps_per_epoch, validation_steps, validation_batch_size, validation_freq, max_queue_size, workers, use_multiprocessing)\u001b[0m\n\u001b[1;32m   1096\u001b[0m                 batch_size=batch_size):\n\u001b[1;32m   1097\u001b[0m               \u001b[0mcallbacks\u001b[0m\u001b[0;34m.\u001b[0m\u001b[0mon_train_batch_begin\u001b[0m\u001b[0;34m(\u001b[0m\u001b[0mstep\u001b[0m\u001b[0;34m)\u001b[0m\u001b[0;34m\u001b[0m\u001b[0;34m\u001b[0m\u001b[0m\n\u001b[0;32m-> 1098\u001b[0;31m               \u001b[0mtmp_logs\u001b[0m \u001b[0;34m=\u001b[0m \u001b[0mtrain_function\u001b[0m\u001b[0;34m(\u001b[0m\u001b[0miterator\u001b[0m\u001b[0;34m)\u001b[0m\u001b[0;34m\u001b[0m\u001b[0;34m\u001b[0m\u001b[0m\n\u001b[0m\u001b[1;32m   1099\u001b[0m               \u001b[0;32mif\u001b[0m \u001b[0mdata_handler\u001b[0m\u001b[0;34m.\u001b[0m\u001b[0mshould_sync\u001b[0m\u001b[0;34m:\u001b[0m\u001b[0;34m\u001b[0m\u001b[0;34m\u001b[0m\u001b[0m\n\u001b[1;32m   1100\u001b[0m                 \u001b[0mcontext\u001b[0m\u001b[0;34m.\u001b[0m\u001b[0masync_wait\u001b[0m\u001b[0;34m(\u001b[0m\u001b[0;34m)\u001b[0m\u001b[0;34m\u001b[0m\u001b[0;34m\u001b[0m\u001b[0m\n",
            "\u001b[0;32m/opt/conda/envs/tf/lib/python3.8/site-packages/tensorflow/python/eager/def_function.py\u001b[0m in \u001b[0;36m__call__\u001b[0;34m(self, *args, **kwds)\u001b[0m\n\u001b[1;32m    778\u001b[0m       \u001b[0;32melse\u001b[0m\u001b[0;34m:\u001b[0m\u001b[0;34m\u001b[0m\u001b[0;34m\u001b[0m\u001b[0m\n\u001b[1;32m    779\u001b[0m         \u001b[0mcompiler\u001b[0m \u001b[0;34m=\u001b[0m \u001b[0;34m\"nonXla\"\u001b[0m\u001b[0;34m\u001b[0m\u001b[0;34m\u001b[0m\u001b[0m\n\u001b[0;32m--> 780\u001b[0;31m         \u001b[0mresult\u001b[0m \u001b[0;34m=\u001b[0m \u001b[0mself\u001b[0m\u001b[0;34m.\u001b[0m\u001b[0m_call\u001b[0m\u001b[0;34m(\u001b[0m\u001b[0;34m*\u001b[0m\u001b[0margs\u001b[0m\u001b[0;34m,\u001b[0m \u001b[0;34m**\u001b[0m\u001b[0mkwds\u001b[0m\u001b[0;34m)\u001b[0m\u001b[0;34m\u001b[0m\u001b[0;34m\u001b[0m\u001b[0m\n\u001b[0m\u001b[1;32m    781\u001b[0m \u001b[0;34m\u001b[0m\u001b[0m\n\u001b[1;32m    782\u001b[0m       \u001b[0mnew_tracing_count\u001b[0m \u001b[0;34m=\u001b[0m \u001b[0mself\u001b[0m\u001b[0;34m.\u001b[0m\u001b[0m_get_tracing_count\u001b[0m\u001b[0;34m(\u001b[0m\u001b[0;34m)\u001b[0m\u001b[0;34m\u001b[0m\u001b[0;34m\u001b[0m\u001b[0m\n",
            "\u001b[0;32m/opt/conda/envs/tf/lib/python3.8/site-packages/tensorflow/python/eager/def_function.py\u001b[0m in \u001b[0;36m_call\u001b[0;34m(self, *args, **kwds)\u001b[0m\n\u001b[1;32m    805\u001b[0m       \u001b[0;31m# In this case we have created variables on the first call, so we run the\u001b[0m\u001b[0;34m\u001b[0m\u001b[0;34m\u001b[0m\u001b[0;34m\u001b[0m\u001b[0m\n\u001b[1;32m    806\u001b[0m       \u001b[0;31m# defunned version which is guaranteed to never create variables.\u001b[0m\u001b[0;34m\u001b[0m\u001b[0;34m\u001b[0m\u001b[0;34m\u001b[0m\u001b[0m\n\u001b[0;32m--> 807\u001b[0;31m       \u001b[0;32mreturn\u001b[0m \u001b[0mself\u001b[0m\u001b[0;34m.\u001b[0m\u001b[0m_stateless_fn\u001b[0m\u001b[0;34m(\u001b[0m\u001b[0;34m*\u001b[0m\u001b[0margs\u001b[0m\u001b[0;34m,\u001b[0m \u001b[0;34m**\u001b[0m\u001b[0mkwds\u001b[0m\u001b[0;34m)\u001b[0m  \u001b[0;31m# pylint: disable=not-callable\u001b[0m\u001b[0;34m\u001b[0m\u001b[0;34m\u001b[0m\u001b[0m\n\u001b[0m\u001b[1;32m    808\u001b[0m     \u001b[0;32melif\u001b[0m \u001b[0mself\u001b[0m\u001b[0;34m.\u001b[0m\u001b[0m_stateful_fn\u001b[0m \u001b[0;32mis\u001b[0m \u001b[0;32mnot\u001b[0m \u001b[0;32mNone\u001b[0m\u001b[0;34m:\u001b[0m\u001b[0;34m\u001b[0m\u001b[0;34m\u001b[0m\u001b[0m\n\u001b[1;32m    809\u001b[0m       \u001b[0;31m# Release the lock early so that multiple threads can perform the call\u001b[0m\u001b[0;34m\u001b[0m\u001b[0;34m\u001b[0m\u001b[0;34m\u001b[0m\u001b[0m\n",
            "\u001b[0;32m/opt/conda/envs/tf/lib/python3.8/site-packages/tensorflow/python/eager/function.py\u001b[0m in \u001b[0;36m__call__\u001b[0;34m(self, *args, **kwargs)\u001b[0m\n\u001b[1;32m   2827\u001b[0m     \u001b[0;32mwith\u001b[0m \u001b[0mself\u001b[0m\u001b[0;34m.\u001b[0m\u001b[0m_lock\u001b[0m\u001b[0;34m:\u001b[0m\u001b[0;34m\u001b[0m\u001b[0;34m\u001b[0m\u001b[0m\n\u001b[1;32m   2828\u001b[0m       \u001b[0mgraph_function\u001b[0m\u001b[0;34m,\u001b[0m \u001b[0margs\u001b[0m\u001b[0;34m,\u001b[0m \u001b[0mkwargs\u001b[0m \u001b[0;34m=\u001b[0m \u001b[0mself\u001b[0m\u001b[0;34m.\u001b[0m\u001b[0m_maybe_define_function\u001b[0m\u001b[0;34m(\u001b[0m\u001b[0margs\u001b[0m\u001b[0;34m,\u001b[0m \u001b[0mkwargs\u001b[0m\u001b[0;34m)\u001b[0m\u001b[0;34m\u001b[0m\u001b[0;34m\u001b[0m\u001b[0m\n\u001b[0;32m-> 2829\u001b[0;31m     \u001b[0;32mreturn\u001b[0m \u001b[0mgraph_function\u001b[0m\u001b[0;34m.\u001b[0m\u001b[0m_filtered_call\u001b[0m\u001b[0;34m(\u001b[0m\u001b[0margs\u001b[0m\u001b[0;34m,\u001b[0m \u001b[0mkwargs\u001b[0m\u001b[0;34m)\u001b[0m  \u001b[0;31m# pylint: disable=protected-access\u001b[0m\u001b[0;34m\u001b[0m\u001b[0;34m\u001b[0m\u001b[0m\n\u001b[0m\u001b[1;32m   2830\u001b[0m \u001b[0;34m\u001b[0m\u001b[0m\n\u001b[1;32m   2831\u001b[0m   \u001b[0;34m@\u001b[0m\u001b[0mproperty\u001b[0m\u001b[0;34m\u001b[0m\u001b[0;34m\u001b[0m\u001b[0m\n",
            "\u001b[0;32m/opt/conda/envs/tf/lib/python3.8/site-packages/tensorflow/python/eager/function.py\u001b[0m in \u001b[0;36m_filtered_call\u001b[0;34m(self, args, kwargs, cancellation_manager)\u001b[0m\n\u001b[1;32m   1841\u001b[0m       \u001b[0;31m`\u001b[0m\u001b[0margs\u001b[0m\u001b[0;31m`\u001b[0m \u001b[0;32mand\u001b[0m\u001b[0;31m \u001b[0m\u001b[0;31m`\u001b[0m\u001b[0mkwargs\u001b[0m\u001b[0;31m`\u001b[0m\u001b[0;34m.\u001b[0m\u001b[0;34m\u001b[0m\u001b[0;34m\u001b[0m\u001b[0m\n\u001b[1;32m   1842\u001b[0m     \"\"\"\n\u001b[0;32m-> 1843\u001b[0;31m     return self._call_flat(\n\u001b[0m\u001b[1;32m   1844\u001b[0m         [t for t in nest.flatten((args, kwargs), expand_composites=True)\n\u001b[1;32m   1845\u001b[0m          if isinstance(t, (ops.Tensor,\n",
            "\u001b[0;32m/opt/conda/envs/tf/lib/python3.8/site-packages/tensorflow/python/eager/function.py\u001b[0m in \u001b[0;36m_call_flat\u001b[0;34m(self, args, captured_inputs, cancellation_manager)\u001b[0m\n\u001b[1;32m   1921\u001b[0m         and executing_eagerly):\n\u001b[1;32m   1922\u001b[0m       \u001b[0;31m# No tape is watching; skip to running the function.\u001b[0m\u001b[0;34m\u001b[0m\u001b[0;34m\u001b[0m\u001b[0;34m\u001b[0m\u001b[0m\n\u001b[0;32m-> 1923\u001b[0;31m       return self._build_call_outputs(self._inference_function.call(\n\u001b[0m\u001b[1;32m   1924\u001b[0m           ctx, args, cancellation_manager=cancellation_manager))\n\u001b[1;32m   1925\u001b[0m     forward_backward = self._select_forward_and_backward_functions(\n",
            "\u001b[0;32m/opt/conda/envs/tf/lib/python3.8/site-packages/tensorflow/python/eager/function.py\u001b[0m in \u001b[0;36mcall\u001b[0;34m(self, ctx, args, cancellation_manager)\u001b[0m\n\u001b[1;32m    543\u001b[0m       \u001b[0;32mwith\u001b[0m \u001b[0m_InterpolateFunctionError\u001b[0m\u001b[0;34m(\u001b[0m\u001b[0mself\u001b[0m\u001b[0;34m)\u001b[0m\u001b[0;34m:\u001b[0m\u001b[0;34m\u001b[0m\u001b[0;34m\u001b[0m\u001b[0m\n\u001b[1;32m    544\u001b[0m         \u001b[0;32mif\u001b[0m \u001b[0mcancellation_manager\u001b[0m \u001b[0;32mis\u001b[0m \u001b[0;32mNone\u001b[0m\u001b[0;34m:\u001b[0m\u001b[0;34m\u001b[0m\u001b[0;34m\u001b[0m\u001b[0m\n\u001b[0;32m--> 545\u001b[0;31m           outputs = execute.execute(\n\u001b[0m\u001b[1;32m    546\u001b[0m               \u001b[0mstr\u001b[0m\u001b[0;34m(\u001b[0m\u001b[0mself\u001b[0m\u001b[0;34m.\u001b[0m\u001b[0msignature\u001b[0m\u001b[0;34m.\u001b[0m\u001b[0mname\u001b[0m\u001b[0;34m)\u001b[0m\u001b[0;34m,\u001b[0m\u001b[0;34m\u001b[0m\u001b[0;34m\u001b[0m\u001b[0m\n\u001b[1;32m    547\u001b[0m               \u001b[0mnum_outputs\u001b[0m\u001b[0;34m=\u001b[0m\u001b[0mself\u001b[0m\u001b[0;34m.\u001b[0m\u001b[0m_num_outputs\u001b[0m\u001b[0;34m,\u001b[0m\u001b[0;34m\u001b[0m\u001b[0;34m\u001b[0m\u001b[0m\n",
            "\u001b[0;32m/opt/conda/envs/tf/lib/python3.8/site-packages/tensorflow/python/eager/execute.py\u001b[0m in \u001b[0;36mquick_execute\u001b[0;34m(op_name, num_outputs, inputs, attrs, ctx, name)\u001b[0m\n\u001b[1;32m     57\u001b[0m   \u001b[0;32mtry\u001b[0m\u001b[0;34m:\u001b[0m\u001b[0;34m\u001b[0m\u001b[0;34m\u001b[0m\u001b[0m\n\u001b[1;32m     58\u001b[0m     \u001b[0mctx\u001b[0m\u001b[0;34m.\u001b[0m\u001b[0mensure_initialized\u001b[0m\u001b[0;34m(\u001b[0m\u001b[0;34m)\u001b[0m\u001b[0;34m\u001b[0m\u001b[0;34m\u001b[0m\u001b[0m\n\u001b[0;32m---> 59\u001b[0;31m     tensors = pywrap_tfe.TFE_Py_Execute(ctx._handle, device_name, op_name,\n\u001b[0m\u001b[1;32m     60\u001b[0m                                         inputs, attrs, num_outputs)\n\u001b[1;32m     61\u001b[0m   \u001b[0;32mexcept\u001b[0m \u001b[0mcore\u001b[0m\u001b[0;34m.\u001b[0m\u001b[0m_NotOkStatusException\u001b[0m \u001b[0;32mas\u001b[0m \u001b[0me\u001b[0m\u001b[0;34m:\u001b[0m\u001b[0;34m\u001b[0m\u001b[0;34m\u001b[0m\u001b[0m\n",
            "\u001b[0;31mKeyboardInterrupt\u001b[0m: "
          ]
        }
      ]
    },
    {
      "cell_type": "code",
      "metadata": {
        "id": "0MSWP2Id5J8s"
      },
      "source": [
        "loss_accuracy_plots(\r\n",
        "        hist=hist2,\r\n",
        "        log_dir=log_dir,\r\n",
        "    )"
      ],
      "execution_count": null,
      "outputs": []
    },
    {
      "cell_type": "code",
      "metadata": {
        "id": "Xxx8lv3FdKo2"
      },
      "source": [
        "loss_accuracy_plots(\r\n",
        "        hist=run1hist,\r\n",
        "        log_dir=log_dir,\r\n",
        "    )"
      ],
      "execution_count": null,
      "outputs": []
    },
    {
      "cell_type": "markdown",
      "metadata": {
        "id": "bU_cv0zVu_rN"
      },
      "source": [
        "## Run 2"
      ]
    },
    {
      "cell_type": "code",
      "metadata": {
        "id": "FO6tzMA2D_o1"
      },
      "source": [
        "# for layer in modell.get_layer(\"Target\").layers:\n",
        "#         print(layer._name)"
      ],
      "execution_count": null,
      "outputs": []
    },
    {
      "cell_type": "code",
      "metadata": {
        "id": "8OPD1bm8BNOM"
      },
      "source": [
        "# for idx, layers in enumerate(model.layers):\n",
        "#   print(idx, layers.name)\n"
      ],
      "execution_count": null,
      "outputs": []
    }
  ]
}